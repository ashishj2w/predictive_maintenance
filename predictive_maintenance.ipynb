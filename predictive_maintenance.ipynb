{
  "cells": [
    {
      "cell_type": "markdown",
      "id": "f5d80c60",
      "metadata": {
        "id": "f5d80c60"
      },
      "source": [
        "# 1. Business Understanding\n",
        " \n",
        "Students are expected to identify a data analytics task of your choice. You have to detail the Business Understanding part of your problem under this heading which basically addresses the following questions.\n",
        " \n",
        "   1. What is the business problem that you are trying to solve?\n",
        "   2. What data do you need to answer the above problem?\n",
        "   3. What are the different sources of data?    \n",
        "   4. What kind of analytics task are you performing?\n",
        "\n",
        "Score: 1 Mark in total (0.25 mark each)"
      ]
    },
    {
      "cell_type": "raw",
      "id": "3298e121",
      "metadata": {
        "id": "3298e121"
      },
      "source": [
        "--------------Type the answers below this line-------------- "
      ]
    },
    {
      "cell_type": "markdown",
      "id": "S1-MMK662ZgR",
      "metadata": {
        "id": "S1-MMK662ZgR"
      },
      "source": [
        "**1.What is the business problem that you are trying to solve?**  <br>\n",
        "\n",
        "**Ans.** A manufacturing company is experiencing frequent breakdowns and unplanned downtime in their production line, resulting in significant losses in productivity and revenue. The company's current maintenance strategy is reactive, which means they only perform maintenance after a piece of equipment has failed. This approach leads to extended downtime, costly repairs, and reduced machine lifespan.\n",
        "\n",
        "**2. What data do you need to answer the above problem?**\n",
        "\n",
        "**Ans.**  We need to implement a proactive maintenance approach to prevent equipment failures and minimize downtime, for which we need sensor data of these equipment, including data such as vibration, temperature, pressure, etc. By analysing these data and implementing predictive maintenance techniques that leverage data analytics and machine learning algorithms to predict equipment failure.\n",
        "\n",
        "**3. What are the different sources of data?**\n",
        "\n",
        "**Ans.** The data sources in this case mostly comes from the various sensors that are built into these machines which collects parameters like the temperature, the pressure, vibration etc. These data can be sent to server as streaming data. Once the data is received at the server a ML model is run on every set of data to detect failure. \n",
        "\n",
        "**4. What kind of analytics task are you performing?**\n",
        "\n",
        "**Ans.** We are performing Predictive Analytics  as we are trying to predict the future trends (i.e. what is likely to happen)"
      ]
    },
    {
      "cell_type": "markdown",
      "id": "3cc8e0cb",
      "metadata": {
        "id": "3cc8e0cb"
      },
      "source": [
        "# 2. Data Acquisition\n",
        " \n",
        "For the problem identified , find an appropriate data set (Your data set must \n",
        "be unique) from any public data source.\n",
        "\n",
        "---\n",
        "\n",
        "\n",
        "\n",
        "## 2.1 Download the data directly\n",
        "\n"
      ]
    },
    {
      "cell_type": "code",
      "execution_count": 1,
      "id": "4b51d895",
      "metadata": {
        "id": "4b51d895"
      },
      "outputs": [],
      "source": [
        "##---------Type the code below this line------------------##"
      ]
    },
    {
      "cell_type": "markdown",
      "id": "kiDZ49bN2ZgU",
      "metadata": {
        "id": "kiDZ49bN2ZgU"
      },
      "source": [
        "#### Import libraries "
      ]
    },
    {
      "cell_type": "code",
      "execution_count": 2,
      "id": "QnpmfHjN2ZgU",
      "metadata": {
        "id": "QnpmfHjN2ZgU"
      },
      "outputs": [],
      "source": [
        "import numpy as np\n",
        "import pandas as pd\n",
        "import matplotlib.pyplot as plt\n",
        "import seaborn as sns\n",
        "from sklearn.preprocessing import LabelEncoder\n",
        "from sklearn.feature_selection import mutual_info_classif\n",
        "from scipy.stats import chi2_contingency\n",
        "from sklearn.model_selection import train_test_split\n",
        "from sklearn.preprocessing import StandardScaler\n",
        "from sklearn.tree import DecisionTreeClassifier\n",
        "from sklearn.metrics import accuracy_score, precision_score, recall_score, f1_score, confusion_matrix, classification_report, ConfusionMatrixDisplay\n",
        "from sklearn.metrics.cluster import contingency_matrix\n",
        "from sklearn.metrics import precision_recall_fscore_support, plot_roc_curve\n",
        "import time\n",
        "from sklearn.neighbors import KNeighborsClassifier\n",
        "import warnings\n",
        "warnings.filterwarnings(\"ignore\")"
      ]
    },
    {
      "cell_type": "code",
      "execution_count": 3,
      "id": "4yE3Ntfy2ZgV",
      "metadata": {
        "id": "4yE3Ntfy2ZgV"
      },
      "outputs": [],
      "source": [
        "url='https://drive.google.com/file/d/1qNzIVSzgYUl-rozBTh9Pz8ujjPDvQAJR/view?usp=sharing'\n",
        "url='https://drive.google.com/uc?id=' + url.split('/')[-2]"
      ]
    },
    {
      "cell_type": "markdown",
      "id": "49530d0c",
      "metadata": {
        "id": "49530d0c"
      },
      "source": [
        "## 2.2 Code for converting the above downloaded data into a dataframe"
      ]
    },
    {
      "cell_type": "code",
      "execution_count": 4,
      "id": "c1f4c171",
      "metadata": {
        "id": "c1f4c171"
      },
      "outputs": [],
      "source": [
        "##---------Type the code below this line------------------##"
      ]
    },
    {
      "cell_type": "code",
      "execution_count": 5,
      "id": "3AMGKdMW2ZgW",
      "metadata": {
        "id": "3AMGKdMW2ZgW"
      },
      "outputs": [],
      "source": [
        "data_df = pd.read_csv(url)"
      ]
    },
    {
      "cell_type": "markdown",
      "id": "7b1fea4d",
      "metadata": {
        "id": "7b1fea4d"
      },
      "source": [
        "## 2.3 Confirm the data has been downloaded correctly by displaying the first 5 and last 5 records."
      ]
    },
    {
      "cell_type": "code",
      "execution_count": 6,
      "id": "624e6c58",
      "metadata": {
        "id": "624e6c58"
      },
      "outputs": [],
      "source": [
        "##---------Type the code below this line------------------##"
      ]
    },
    {
      "cell_type": "code",
      "execution_count": 7,
      "id": "pNnu_8sA2ZgY",
      "metadata": {
        "colab": {
          "base_uri": "https://localhost:8080/",
          "height": 206
        },
        "id": "pNnu_8sA2ZgY",
        "outputId": "f093f5d3-9f16-4e58-cc59-6ad3ad6e1734"
      },
      "outputs": [
        {
          "data": {
            "text/html": [
              "\n",
              "  <div id=\"df-e5ab939a-0a43-4413-b1c0-6da28e6fe8bf\">\n",
              "    <div class=\"colab-df-container\">\n",
              "      <div>\n",
              "<style scoped>\n",
              "    .dataframe tbody tr th:only-of-type {\n",
              "        vertical-align: middle;\n",
              "    }\n",
              "\n",
              "    .dataframe tbody tr th {\n",
              "        vertical-align: top;\n",
              "    }\n",
              "\n",
              "    .dataframe thead th {\n",
              "        text-align: right;\n",
              "    }\n",
              "</style>\n",
              "<table border=\"1\" class=\"dataframe\">\n",
              "  <thead>\n",
              "    <tr style=\"text-align: right;\">\n",
              "      <th></th>\n",
              "      <th>UDI</th>\n",
              "      <th>Product ID</th>\n",
              "      <th>Type</th>\n",
              "      <th>Air temperature [K]</th>\n",
              "      <th>Process temperature [K]</th>\n",
              "      <th>Rotational speed [rpm]</th>\n",
              "      <th>Torque [Nm]</th>\n",
              "      <th>Tool wear [min]</th>\n",
              "      <th>Target</th>\n",
              "      <th>Failure Type</th>\n",
              "    </tr>\n",
              "  </thead>\n",
              "  <tbody>\n",
              "    <tr>\n",
              "      <th>0</th>\n",
              "      <td>1</td>\n",
              "      <td>M14860</td>\n",
              "      <td>M</td>\n",
              "      <td>298.1</td>\n",
              "      <td>308.6</td>\n",
              "      <td>1551</td>\n",
              "      <td>42.8</td>\n",
              "      <td>0</td>\n",
              "      <td>0</td>\n",
              "      <td>No Failure</td>\n",
              "    </tr>\n",
              "    <tr>\n",
              "      <th>1</th>\n",
              "      <td>2</td>\n",
              "      <td>L47181</td>\n",
              "      <td>L</td>\n",
              "      <td>298.2</td>\n",
              "      <td>308.7</td>\n",
              "      <td>1408</td>\n",
              "      <td>46.3</td>\n",
              "      <td>3</td>\n",
              "      <td>0</td>\n",
              "      <td>No Failure</td>\n",
              "    </tr>\n",
              "    <tr>\n",
              "      <th>2</th>\n",
              "      <td>3</td>\n",
              "      <td>L47182</td>\n",
              "      <td>L</td>\n",
              "      <td>298.1</td>\n",
              "      <td>308.5</td>\n",
              "      <td>1498</td>\n",
              "      <td>49.4</td>\n",
              "      <td>5</td>\n",
              "      <td>0</td>\n",
              "      <td>No Failure</td>\n",
              "    </tr>\n",
              "    <tr>\n",
              "      <th>3</th>\n",
              "      <td>4</td>\n",
              "      <td>L47183</td>\n",
              "      <td>L</td>\n",
              "      <td>298.2</td>\n",
              "      <td>308.6</td>\n",
              "      <td>1433</td>\n",
              "      <td>39.5</td>\n",
              "      <td>7</td>\n",
              "      <td>0</td>\n",
              "      <td>No Failure</td>\n",
              "    </tr>\n",
              "    <tr>\n",
              "      <th>4</th>\n",
              "      <td>5</td>\n",
              "      <td>L47184</td>\n",
              "      <td>L</td>\n",
              "      <td>298.2</td>\n",
              "      <td>308.7</td>\n",
              "      <td>1408</td>\n",
              "      <td>40.0</td>\n",
              "      <td>9</td>\n",
              "      <td>0</td>\n",
              "      <td>No Failure</td>\n",
              "    </tr>\n",
              "  </tbody>\n",
              "</table>\n",
              "</div>\n",
              "      <button class=\"colab-df-convert\" onclick=\"convertToInteractive('df-e5ab939a-0a43-4413-b1c0-6da28e6fe8bf')\"\n",
              "              title=\"Convert this dataframe to an interactive table.\"\n",
              "              style=\"display:none;\">\n",
              "        \n",
              "  <svg xmlns=\"http://www.w3.org/2000/svg\" height=\"24px\"viewBox=\"0 0 24 24\"\n",
              "       width=\"24px\">\n",
              "    <path d=\"M0 0h24v24H0V0z\" fill=\"none\"/>\n",
              "    <path d=\"M18.56 5.44l.94 2.06.94-2.06 2.06-.94-2.06-.94-.94-2.06-.94 2.06-2.06.94zm-11 1L8.5 8.5l.94-2.06 2.06-.94-2.06-.94L8.5 2.5l-.94 2.06-2.06.94zm10 10l.94 2.06.94-2.06 2.06-.94-2.06-.94-.94-2.06-.94 2.06-2.06.94z\"/><path d=\"M17.41 7.96l-1.37-1.37c-.4-.4-.92-.59-1.43-.59-.52 0-1.04.2-1.43.59L10.3 9.45l-7.72 7.72c-.78.78-.78 2.05 0 2.83L4 21.41c.39.39.9.59 1.41.59.51 0 1.02-.2 1.41-.59l7.78-7.78 2.81-2.81c.8-.78.8-2.07 0-2.86zM5.41 20L4 18.59l7.72-7.72 1.47 1.35L5.41 20z\"/>\n",
              "  </svg>\n",
              "      </button>\n",
              "      \n",
              "  <style>\n",
              "    .colab-df-container {\n",
              "      display:flex;\n",
              "      flex-wrap:wrap;\n",
              "      gap: 12px;\n",
              "    }\n",
              "\n",
              "    .colab-df-convert {\n",
              "      background-color: #E8F0FE;\n",
              "      border: none;\n",
              "      border-radius: 50%;\n",
              "      cursor: pointer;\n",
              "      display: none;\n",
              "      fill: #1967D2;\n",
              "      height: 32px;\n",
              "      padding: 0 0 0 0;\n",
              "      width: 32px;\n",
              "    }\n",
              "\n",
              "    .colab-df-convert:hover {\n",
              "      background-color: #E2EBFA;\n",
              "      box-shadow: 0px 1px 2px rgba(60, 64, 67, 0.3), 0px 1px 3px 1px rgba(60, 64, 67, 0.15);\n",
              "      fill: #174EA6;\n",
              "    }\n",
              "\n",
              "    [theme=dark] .colab-df-convert {\n",
              "      background-color: #3B4455;\n",
              "      fill: #D2E3FC;\n",
              "    }\n",
              "\n",
              "    [theme=dark] .colab-df-convert:hover {\n",
              "      background-color: #434B5C;\n",
              "      box-shadow: 0px 1px 3px 1px rgba(0, 0, 0, 0.15);\n",
              "      filter: drop-shadow(0px 1px 2px rgba(0, 0, 0, 0.3));\n",
              "      fill: #FFFFFF;\n",
              "    }\n",
              "  </style>\n",
              "\n",
              "      <script>\n",
              "        const buttonEl =\n",
              "          document.querySelector('#df-e5ab939a-0a43-4413-b1c0-6da28e6fe8bf button.colab-df-convert');\n",
              "        buttonEl.style.display =\n",
              "          google.colab.kernel.accessAllowed ? 'block' : 'none';\n",
              "\n",
              "        async function convertToInteractive(key) {\n",
              "          const element = document.querySelector('#df-e5ab939a-0a43-4413-b1c0-6da28e6fe8bf');\n",
              "          const dataTable =\n",
              "            await google.colab.kernel.invokeFunction('convertToInteractive',\n",
              "                                                     [key], {});\n",
              "          if (!dataTable) return;\n",
              "\n",
              "          const docLinkHtml = 'Like what you see? Visit the ' +\n",
              "            '<a target=\"_blank\" href=https://colab.research.google.com/notebooks/data_table.ipynb>data table notebook</a>'\n",
              "            + ' to learn more about interactive tables.';\n",
              "          element.innerHTML = '';\n",
              "          dataTable['output_type'] = 'display_data';\n",
              "          await google.colab.output.renderOutput(dataTable, element);\n",
              "          const docLink = document.createElement('div');\n",
              "          docLink.innerHTML = docLinkHtml;\n",
              "          element.appendChild(docLink);\n",
              "        }\n",
              "      </script>\n",
              "    </div>\n",
              "  </div>\n",
              "  "
            ],
            "text/plain": [
              "   UDI Product ID Type  Air temperature [K]  Process temperature [K]  \\\n",
              "0    1     M14860    M                298.1                    308.6   \n",
              "1    2     L47181    L                298.2                    308.7   \n",
              "2    3     L47182    L                298.1                    308.5   \n",
              "3    4     L47183    L                298.2                    308.6   \n",
              "4    5     L47184    L                298.2                    308.7   \n",
              "\n",
              "   Rotational speed [rpm]  Torque [Nm]  Tool wear [min]  Target Failure Type  \n",
              "0                    1551         42.8                0       0   No Failure  \n",
              "1                    1408         46.3                3       0   No Failure  \n",
              "2                    1498         49.4                5       0   No Failure  \n",
              "3                    1433         39.5                7       0   No Failure  \n",
              "4                    1408         40.0                9       0   No Failure  "
            ]
          },
          "execution_count": 7,
          "metadata": {},
          "output_type": "execute_result"
        }
      ],
      "source": [
        "data_df.head()"
      ]
    },
    {
      "cell_type": "code",
      "execution_count": 8,
      "id": "-6SD_mry2ZgZ",
      "metadata": {
        "colab": {
          "base_uri": "https://localhost:8080/",
          "height": 206
        },
        "id": "-6SD_mry2ZgZ",
        "outputId": "d60629a3-837b-41ef-c7cb-23ee838b018a"
      },
      "outputs": [
        {
          "data": {
            "text/html": [
              "\n",
              "  <div id=\"df-62c57ccd-ff8d-45ff-9d57-9c5b722d9966\">\n",
              "    <div class=\"colab-df-container\">\n",
              "      <div>\n",
              "<style scoped>\n",
              "    .dataframe tbody tr th:only-of-type {\n",
              "        vertical-align: middle;\n",
              "    }\n",
              "\n",
              "    .dataframe tbody tr th {\n",
              "        vertical-align: top;\n",
              "    }\n",
              "\n",
              "    .dataframe thead th {\n",
              "        text-align: right;\n",
              "    }\n",
              "</style>\n",
              "<table border=\"1\" class=\"dataframe\">\n",
              "  <thead>\n",
              "    <tr style=\"text-align: right;\">\n",
              "      <th></th>\n",
              "      <th>UDI</th>\n",
              "      <th>Product ID</th>\n",
              "      <th>Type</th>\n",
              "      <th>Air temperature [K]</th>\n",
              "      <th>Process temperature [K]</th>\n",
              "      <th>Rotational speed [rpm]</th>\n",
              "      <th>Torque [Nm]</th>\n",
              "      <th>Tool wear [min]</th>\n",
              "      <th>Target</th>\n",
              "      <th>Failure Type</th>\n",
              "    </tr>\n",
              "  </thead>\n",
              "  <tbody>\n",
              "    <tr>\n",
              "      <th>10066</th>\n",
              "      <td>170</td>\n",
              "      <td>L47349</td>\n",
              "      <td>L</td>\n",
              "      <td>298.4</td>\n",
              "      <td>308.3</td>\n",
              "      <td>1318</td>\n",
              "      <td>59.1</td>\n",
              "      <td>22</td>\n",
              "      <td>0</td>\n",
              "      <td>No Failure</td>\n",
              "    </tr>\n",
              "    <tr>\n",
              "      <th>10067</th>\n",
              "      <td>171</td>\n",
              "      <td>M15030</td>\n",
              "      <td>M</td>\n",
              "      <td>298.4</td>\n",
              "      <td>308.2</td>\n",
              "      <td>1610</td>\n",
              "      <td>35.0</td>\n",
              "      <td>24</td>\n",
              "      <td>0</td>\n",
              "      <td>No Failure</td>\n",
              "    </tr>\n",
              "    <tr>\n",
              "      <th>10068</th>\n",
              "      <td>172</td>\n",
              "      <td>L47351</td>\n",
              "      <td>L</td>\n",
              "      <td>298.2</td>\n",
              "      <td>308.1</td>\n",
              "      <td>1462</td>\n",
              "      <td>50.8</td>\n",
              "      <td>27</td>\n",
              "      <td>0</td>\n",
              "      <td>No Failure</td>\n",
              "    </tr>\n",
              "    <tr>\n",
              "      <th>10069</th>\n",
              "      <td>173</td>\n",
              "      <td>M15032</td>\n",
              "      <td>M</td>\n",
              "      <td>298.1</td>\n",
              "      <td>308.0</td>\n",
              "      <td>1924</td>\n",
              "      <td>20.8</td>\n",
              "      <td>29</td>\n",
              "      <td>0</td>\n",
              "      <td>No Failure</td>\n",
              "    </tr>\n",
              "    <tr>\n",
              "      <th>10070</th>\n",
              "      <td>174</td>\n",
              "      <td>M15033</td>\n",
              "      <td>M</td>\n",
              "      <td>298.2</td>\n",
              "      <td>308.0</td>\n",
              "      <td>1591</td>\n",
              "      <td>33.7</td>\n",
              "      <td>32</td>\n",
              "      <td>0</td>\n",
              "      <td>No Failure</td>\n",
              "    </tr>\n",
              "  </tbody>\n",
              "</table>\n",
              "</div>\n",
              "      <button class=\"colab-df-convert\" onclick=\"convertToInteractive('df-62c57ccd-ff8d-45ff-9d57-9c5b722d9966')\"\n",
              "              title=\"Convert this dataframe to an interactive table.\"\n",
              "              style=\"display:none;\">\n",
              "        \n",
              "  <svg xmlns=\"http://www.w3.org/2000/svg\" height=\"24px\"viewBox=\"0 0 24 24\"\n",
              "       width=\"24px\">\n",
              "    <path d=\"M0 0h24v24H0V0z\" fill=\"none\"/>\n",
              "    <path d=\"M18.56 5.44l.94 2.06.94-2.06 2.06-.94-2.06-.94-.94-2.06-.94 2.06-2.06.94zm-11 1L8.5 8.5l.94-2.06 2.06-.94-2.06-.94L8.5 2.5l-.94 2.06-2.06.94zm10 10l.94 2.06.94-2.06 2.06-.94-2.06-.94-.94-2.06-.94 2.06-2.06.94z\"/><path d=\"M17.41 7.96l-1.37-1.37c-.4-.4-.92-.59-1.43-.59-.52 0-1.04.2-1.43.59L10.3 9.45l-7.72 7.72c-.78.78-.78 2.05 0 2.83L4 21.41c.39.39.9.59 1.41.59.51 0 1.02-.2 1.41-.59l7.78-7.78 2.81-2.81c.8-.78.8-2.07 0-2.86zM5.41 20L4 18.59l7.72-7.72 1.47 1.35L5.41 20z\"/>\n",
              "  </svg>\n",
              "      </button>\n",
              "      \n",
              "  <style>\n",
              "    .colab-df-container {\n",
              "      display:flex;\n",
              "      flex-wrap:wrap;\n",
              "      gap: 12px;\n",
              "    }\n",
              "\n",
              "    .colab-df-convert {\n",
              "      background-color: #E8F0FE;\n",
              "      border: none;\n",
              "      border-radius: 50%;\n",
              "      cursor: pointer;\n",
              "      display: none;\n",
              "      fill: #1967D2;\n",
              "      height: 32px;\n",
              "      padding: 0 0 0 0;\n",
              "      width: 32px;\n",
              "    }\n",
              "\n",
              "    .colab-df-convert:hover {\n",
              "      background-color: #E2EBFA;\n",
              "      box-shadow: 0px 1px 2px rgba(60, 64, 67, 0.3), 0px 1px 3px 1px rgba(60, 64, 67, 0.15);\n",
              "      fill: #174EA6;\n",
              "    }\n",
              "\n",
              "    [theme=dark] .colab-df-convert {\n",
              "      background-color: #3B4455;\n",
              "      fill: #D2E3FC;\n",
              "    }\n",
              "\n",
              "    [theme=dark] .colab-df-convert:hover {\n",
              "      background-color: #434B5C;\n",
              "      box-shadow: 0px 1px 3px 1px rgba(0, 0, 0, 0.15);\n",
              "      filter: drop-shadow(0px 1px 2px rgba(0, 0, 0, 0.3));\n",
              "      fill: #FFFFFF;\n",
              "    }\n",
              "  </style>\n",
              "\n",
              "      <script>\n",
              "        const buttonEl =\n",
              "          document.querySelector('#df-62c57ccd-ff8d-45ff-9d57-9c5b722d9966 button.colab-df-convert');\n",
              "        buttonEl.style.display =\n",
              "          google.colab.kernel.accessAllowed ? 'block' : 'none';\n",
              "\n",
              "        async function convertToInteractive(key) {\n",
              "          const element = document.querySelector('#df-62c57ccd-ff8d-45ff-9d57-9c5b722d9966');\n",
              "          const dataTable =\n",
              "            await google.colab.kernel.invokeFunction('convertToInteractive',\n",
              "                                                     [key], {});\n",
              "          if (!dataTable) return;\n",
              "\n",
              "          const docLinkHtml = 'Like what you see? Visit the ' +\n",
              "            '<a target=\"_blank\" href=https://colab.research.google.com/notebooks/data_table.ipynb>data table notebook</a>'\n",
              "            + ' to learn more about interactive tables.';\n",
              "          element.innerHTML = '';\n",
              "          dataTable['output_type'] = 'display_data';\n",
              "          await google.colab.output.renderOutput(dataTable, element);\n",
              "          const docLink = document.createElement('div');\n",
              "          docLink.innerHTML = docLinkHtml;\n",
              "          element.appendChild(docLink);\n",
              "        }\n",
              "      </script>\n",
              "    </div>\n",
              "  </div>\n",
              "  "
            ],
            "text/plain": [
              "       UDI Product ID Type  Air temperature [K]  Process temperature [K]  \\\n",
              "10066  170     L47349    L                298.4                    308.3   \n",
              "10067  171     M15030    M                298.4                    308.2   \n",
              "10068  172     L47351    L                298.2                    308.1   \n",
              "10069  173     M15032    M                298.1                    308.0   \n",
              "10070  174     M15033    M                298.2                    308.0   \n",
              "\n",
              "       Rotational speed [rpm]  Torque [Nm]  Tool wear [min]  Target  \\\n",
              "10066                    1318         59.1               22       0   \n",
              "10067                    1610         35.0               24       0   \n",
              "10068                    1462         50.8               27       0   \n",
              "10069                    1924         20.8               29       0   \n",
              "10070                    1591         33.7               32       0   \n",
              "\n",
              "      Failure Type  \n",
              "10066   No Failure  \n",
              "10067   No Failure  \n",
              "10068   No Failure  \n",
              "10069   No Failure  \n",
              "10070   No Failure  "
            ]
          },
          "execution_count": 8,
          "metadata": {},
          "output_type": "execute_result"
        }
      ],
      "source": [
        "data_df.tail()"
      ]
    },
    {
      "cell_type": "markdown",
      "id": "bb84fc56",
      "metadata": {
        "id": "bb84fc56"
      },
      "source": [
        "## 2.4 Display the column headings, statistical information, description and statistical summary of the data."
      ]
    },
    {
      "cell_type": "code",
      "execution_count": 9,
      "id": "086ad28e",
      "metadata": {
        "id": "086ad28e"
      },
      "outputs": [],
      "source": [
        "##---------Type the code below this line------------------##"
      ]
    },
    {
      "cell_type": "code",
      "execution_count": 10,
      "id": "LY4hHSxa2Zga",
      "metadata": {
        "colab": {
          "base_uri": "https://localhost:8080/"
        },
        "id": "LY4hHSxa2Zga",
        "outputId": "954043ce-132c-4cf7-95cc-6be11bece0c1"
      },
      "outputs": [
        {
          "data": {
            "text/plain": [
              "Index(['UDI', 'Product ID', 'Type', 'Air temperature [K]',\n",
              "       'Process temperature [K]', 'Rotational speed [rpm]', 'Torque [Nm]',\n",
              "       'Tool wear [min]', 'Target', 'Failure Type'],\n",
              "      dtype='object')"
            ]
          },
          "execution_count": 10,
          "metadata": {},
          "output_type": "execute_result"
        }
      ],
      "source": [
        "data_df.columns"
      ]
    },
    {
      "cell_type": "code",
      "execution_count": 11,
      "id": "g1zOKxD32Zga",
      "metadata": {
        "colab": {
          "base_uri": "https://localhost:8080/"
        },
        "id": "g1zOKxD32Zga",
        "outputId": "8c14b464-7d81-4ef2-c6f1-f7fbb9b9c805"
      },
      "outputs": [
        {
          "name": "stdout",
          "output_type": "stream",
          "text": [
            "<class 'pandas.core.frame.DataFrame'>\n",
            "RangeIndex: 10071 entries, 0 to 10070\n",
            "Data columns (total 10 columns):\n",
            " #   Column                   Non-Null Count  Dtype  \n",
            "---  ------                   --------------  -----  \n",
            " 0   UDI                      10071 non-null  int64  \n",
            " 1   Product ID               10071 non-null  object \n",
            " 2   Type                     10071 non-null  object \n",
            " 3   Air temperature [K]      10071 non-null  float64\n",
            " 4   Process temperature [K]  10060 non-null  float64\n",
            " 5   Rotational speed [rpm]   10071 non-null  int64  \n",
            " 6   Torque [Nm]              10071 non-null  float64\n",
            " 7   Tool wear [min]          10071 non-null  int64  \n",
            " 8   Target                   10071 non-null  int64  \n",
            " 9   Failure Type             10071 non-null  object \n",
            "dtypes: float64(3), int64(4), object(3)\n",
            "memory usage: 786.9+ KB\n"
          ]
        }
      ],
      "source": [
        "data_df.info()"
      ]
    },
    {
      "cell_type": "code",
      "execution_count": 12,
      "id": "eBgMzQIv2Zgb",
      "metadata": {
        "colab": {
          "base_uri": "https://localhost:8080/",
          "height": 300
        },
        "id": "eBgMzQIv2Zgb",
        "outputId": "9a64f87d-2137-4fcf-ddd3-c6164c984cef"
      },
      "outputs": [
        {
          "data": {
            "text/html": [
              "\n",
              "  <div id=\"df-fb9f246c-6d9f-47a0-b989-7b752d3fb48b\">\n",
              "    <div class=\"colab-df-container\">\n",
              "      <div>\n",
              "<style scoped>\n",
              "    .dataframe tbody tr th:only-of-type {\n",
              "        vertical-align: middle;\n",
              "    }\n",
              "\n",
              "    .dataframe tbody tr th {\n",
              "        vertical-align: top;\n",
              "    }\n",
              "\n",
              "    .dataframe thead th {\n",
              "        text-align: right;\n",
              "    }\n",
              "</style>\n",
              "<table border=\"1\" class=\"dataframe\">\n",
              "  <thead>\n",
              "    <tr style=\"text-align: right;\">\n",
              "      <th></th>\n",
              "      <th>UDI</th>\n",
              "      <th>Air temperature [K]</th>\n",
              "      <th>Process temperature [K]</th>\n",
              "      <th>Rotational speed [rpm]</th>\n",
              "      <th>Torque [Nm]</th>\n",
              "      <th>Tool wear [min]</th>\n",
              "      <th>Target</th>\n",
              "    </tr>\n",
              "  </thead>\n",
              "  <tbody>\n",
              "    <tr>\n",
              "      <th>count</th>\n",
              "      <td>10071.000000</td>\n",
              "      <td>10071.000000</td>\n",
              "      <td>10060.000000</td>\n",
              "      <td>10071.000000</td>\n",
              "      <td>10071.000000</td>\n",
              "      <td>10071.000000</td>\n",
              "      <td>10071.000000</td>\n",
              "    </tr>\n",
              "    <tr>\n",
              "      <th>mean</th>\n",
              "      <td>4966.226690</td>\n",
              "      <td>295.981134</td>\n",
              "      <td>309.994751</td>\n",
              "      <td>1538.678086</td>\n",
              "      <td>39.990607</td>\n",
              "      <td>108.016682</td>\n",
              "      <td>0.033959</td>\n",
              "    </tr>\n",
              "    <tr>\n",
              "      <th>std</th>\n",
              "      <td>2905.317511</td>\n",
              "      <td>33.161037</td>\n",
              "      <td>1.484650</td>\n",
              "      <td>179.067366</td>\n",
              "      <td>9.965602</td>\n",
              "      <td>63.642729</td>\n",
              "      <td>0.181132</td>\n",
              "    </tr>\n",
              "    <tr>\n",
              "      <th>min</th>\n",
              "      <td>1.000000</td>\n",
              "      <td>24.950000</td>\n",
              "      <td>305.700000</td>\n",
              "      <td>1168.000000</td>\n",
              "      <td>3.800000</td>\n",
              "      <td>0.000000</td>\n",
              "      <td>0.000000</td>\n",
              "    </tr>\n",
              "    <tr>\n",
              "      <th>25%</th>\n",
              "      <td>2447.500000</td>\n",
              "      <td>298.300000</td>\n",
              "      <td>308.800000</td>\n",
              "      <td>1423.000000</td>\n",
              "      <td>33.200000</td>\n",
              "      <td>53.000000</td>\n",
              "      <td>0.000000</td>\n",
              "    </tr>\n",
              "    <tr>\n",
              "      <th>50%</th>\n",
              "      <td>4965.000000</td>\n",
              "      <td>300.100000</td>\n",
              "      <td>310.100000</td>\n",
              "      <td>1503.000000</td>\n",
              "      <td>40.100000</td>\n",
              "      <td>108.000000</td>\n",
              "      <td>0.000000</td>\n",
              "    </tr>\n",
              "    <tr>\n",
              "      <th>75%</th>\n",
              "      <td>7482.500000</td>\n",
              "      <td>301.500000</td>\n",
              "      <td>311.100000</td>\n",
              "      <td>1612.000000</td>\n",
              "      <td>46.750000</td>\n",
              "      <td>162.000000</td>\n",
              "      <td>0.000000</td>\n",
              "    </tr>\n",
              "    <tr>\n",
              "      <th>max</th>\n",
              "      <td>10000.000000</td>\n",
              "      <td>304.500000</td>\n",
              "      <td>313.800000</td>\n",
              "      <td>2886.000000</td>\n",
              "      <td>76.600000</td>\n",
              "      <td>253.000000</td>\n",
              "      <td>1.000000</td>\n",
              "    </tr>\n",
              "  </tbody>\n",
              "</table>\n",
              "</div>\n",
              "      <button class=\"colab-df-convert\" onclick=\"convertToInteractive('df-fb9f246c-6d9f-47a0-b989-7b752d3fb48b')\"\n",
              "              title=\"Convert this dataframe to an interactive table.\"\n",
              "              style=\"display:none;\">\n",
              "        \n",
              "  <svg xmlns=\"http://www.w3.org/2000/svg\" height=\"24px\"viewBox=\"0 0 24 24\"\n",
              "       width=\"24px\">\n",
              "    <path d=\"M0 0h24v24H0V0z\" fill=\"none\"/>\n",
              "    <path d=\"M18.56 5.44l.94 2.06.94-2.06 2.06-.94-2.06-.94-.94-2.06-.94 2.06-2.06.94zm-11 1L8.5 8.5l.94-2.06 2.06-.94-2.06-.94L8.5 2.5l-.94 2.06-2.06.94zm10 10l.94 2.06.94-2.06 2.06-.94-2.06-.94-.94-2.06-.94 2.06-2.06.94z\"/><path d=\"M17.41 7.96l-1.37-1.37c-.4-.4-.92-.59-1.43-.59-.52 0-1.04.2-1.43.59L10.3 9.45l-7.72 7.72c-.78.78-.78 2.05 0 2.83L4 21.41c.39.39.9.59 1.41.59.51 0 1.02-.2 1.41-.59l7.78-7.78 2.81-2.81c.8-.78.8-2.07 0-2.86zM5.41 20L4 18.59l7.72-7.72 1.47 1.35L5.41 20z\"/>\n",
              "  </svg>\n",
              "      </button>\n",
              "      \n",
              "  <style>\n",
              "    .colab-df-container {\n",
              "      display:flex;\n",
              "      flex-wrap:wrap;\n",
              "      gap: 12px;\n",
              "    }\n",
              "\n",
              "    .colab-df-convert {\n",
              "      background-color: #E8F0FE;\n",
              "      border: none;\n",
              "      border-radius: 50%;\n",
              "      cursor: pointer;\n",
              "      display: none;\n",
              "      fill: #1967D2;\n",
              "      height: 32px;\n",
              "      padding: 0 0 0 0;\n",
              "      width: 32px;\n",
              "    }\n",
              "\n",
              "    .colab-df-convert:hover {\n",
              "      background-color: #E2EBFA;\n",
              "      box-shadow: 0px 1px 2px rgba(60, 64, 67, 0.3), 0px 1px 3px 1px rgba(60, 64, 67, 0.15);\n",
              "      fill: #174EA6;\n",
              "    }\n",
              "\n",
              "    [theme=dark] .colab-df-convert {\n",
              "      background-color: #3B4455;\n",
              "      fill: #D2E3FC;\n",
              "    }\n",
              "\n",
              "    [theme=dark] .colab-df-convert:hover {\n",
              "      background-color: #434B5C;\n",
              "      box-shadow: 0px 1px 3px 1px rgba(0, 0, 0, 0.15);\n",
              "      filter: drop-shadow(0px 1px 2px rgba(0, 0, 0, 0.3));\n",
              "      fill: #FFFFFF;\n",
              "    }\n",
              "  </style>\n",
              "\n",
              "      <script>\n",
              "        const buttonEl =\n",
              "          document.querySelector('#df-fb9f246c-6d9f-47a0-b989-7b752d3fb48b button.colab-df-convert');\n",
              "        buttonEl.style.display =\n",
              "          google.colab.kernel.accessAllowed ? 'block' : 'none';\n",
              "\n",
              "        async function convertToInteractive(key) {\n",
              "          const element = document.querySelector('#df-fb9f246c-6d9f-47a0-b989-7b752d3fb48b');\n",
              "          const dataTable =\n",
              "            await google.colab.kernel.invokeFunction('convertToInteractive',\n",
              "                                                     [key], {});\n",
              "          if (!dataTable) return;\n",
              "\n",
              "          const docLinkHtml = 'Like what you see? Visit the ' +\n",
              "            '<a target=\"_blank\" href=https://colab.research.google.com/notebooks/data_table.ipynb>data table notebook</a>'\n",
              "            + ' to learn more about interactive tables.';\n",
              "          element.innerHTML = '';\n",
              "          dataTable['output_type'] = 'display_data';\n",
              "          await google.colab.output.renderOutput(dataTable, element);\n",
              "          const docLink = document.createElement('div');\n",
              "          docLink.innerHTML = docLinkHtml;\n",
              "          element.appendChild(docLink);\n",
              "        }\n",
              "      </script>\n",
              "    </div>\n",
              "  </div>\n",
              "  "
            ],
            "text/plain": [
              "                UDI  Air temperature [K]  Process temperature [K]  \\\n",
              "count  10071.000000         10071.000000             10060.000000   \n",
              "mean    4966.226690           295.981134               309.994751   \n",
              "std     2905.317511            33.161037                 1.484650   \n",
              "min        1.000000            24.950000               305.700000   \n",
              "25%     2447.500000           298.300000               308.800000   \n",
              "50%     4965.000000           300.100000               310.100000   \n",
              "75%     7482.500000           301.500000               311.100000   \n",
              "max    10000.000000           304.500000               313.800000   \n",
              "\n",
              "       Rotational speed [rpm]   Torque [Nm]  Tool wear [min]        Target  \n",
              "count            10071.000000  10071.000000     10071.000000  10071.000000  \n",
              "mean              1538.678086     39.990607       108.016682      0.033959  \n",
              "std                179.067366      9.965602        63.642729      0.181132  \n",
              "min               1168.000000      3.800000         0.000000      0.000000  \n",
              "25%               1423.000000     33.200000        53.000000      0.000000  \n",
              "50%               1503.000000     40.100000       108.000000      0.000000  \n",
              "75%               1612.000000     46.750000       162.000000      0.000000  \n",
              "max               2886.000000     76.600000       253.000000      1.000000  "
            ]
          },
          "execution_count": 12,
          "metadata": {},
          "output_type": "execute_result"
        }
      ],
      "source": [
        "data_df.describe()"
      ]
    },
    {
      "cell_type": "markdown",
      "id": "812edb18",
      "metadata": {
        "id": "812edb18"
      },
      "source": [
        "## 2.5 Write your observations from the above. \n",
        "1. Size of the dataset\n",
        "2. What type of data attributes are there?\n",
        "3. Is there any null data that has to be cleaned?\n",
        "\n",
        "Score: 2 Marks in total (0.25 marks for 2.1, 0.25 marks for 2.2, 0.5 marks for 2.3, 0.25 marks for 2.4, 0.75 marks for 2.5)"
      ]
    },
    {
      "cell_type": "raw",
      "id": "60d80d2f",
      "metadata": {
        "id": "60d80d2f"
      },
      "source": [
        "--------------Type the answers below this line--------------"
      ]
    },
    {
      "cell_type": "markdown",
      "id": "G4sV8w0_2Zgb",
      "metadata": {
        "id": "G4sV8w0_2Zgb"
      },
      "source": [
        "**1. Size of the dataset <br>**\n",
        "Ans. The dataset has 10071 rows and 10 columns (10071,10)\n",
        "<br>\n",
        "\n",
        "**2. What type of data attributes are there? <br>**\n",
        "Ans. We have the following types of data attribute.\n",
        "     1   UDI -                  \n",
        "     2   Product ID - Nominal            \n",
        "     3   Type - Nominal                   \n",
        "     4   Air temperature [K]  - Ratio (Numerical)    \n",
        "     5   Process temperature [K]  - Ratio (Numerical) \n",
        "     6   Rotational speed [rpm]  - Ratio (Numerical) \n",
        "     7   Torque [Nm] - Ratio (Numerical)            \n",
        "     8   Tool wear [min] - Ratio (Numerical)       \n",
        "     9   Target - Nominal                \n",
        "     10   Failure Type - Nominal\n",
        "<br>\n",
        "\n",
        "**3. Is there any null data that has to be cleaned?<br>**\n",
        "Ans. If we see the info(), we can see feature/column \"Process temperature [K]\" has 10060 non-null values out of total 10071 rows. So we have 11 null values in column \"Process temperature [K]\" ."
      ]
    },
    {
      "cell_type": "markdown",
      "id": "102e0e36",
      "metadata": {
        "id": "102e0e36"
      },
      "source": [
        "# 3. Data Preparation"
      ]
    },
    {
      "cell_type": "raw",
      "id": "637cb469",
      "metadata": {
        "id": "637cb469"
      },
      "source": [
        "If input data is numerical or categorical, do 3.1, 3.2 and 3.4\n",
        "If input data is text, do 3.3 and 3.4"
      ]
    },
    {
      "cell_type": "markdown",
      "id": "2bcb953b",
      "metadata": {
        "id": "2bcb953b"
      },
      "source": [
        "## 3.1 Check for \n",
        "\n",
        "* duplicate data\n",
        "* missing data\n",
        "* data inconsistencies\n"
      ]
    },
    {
      "cell_type": "code",
      "execution_count": 13,
      "id": "5a5b960e",
      "metadata": {
        "id": "5a5b960e"
      },
      "outputs": [],
      "source": [
        "##---------Type the code below this line------------------##"
      ]
    },
    {
      "cell_type": "markdown",
      "id": "qXrtZ_RV2Zgc",
      "metadata": {
        "id": "qXrtZ_RV2Zgc"
      },
      "source": [
        "#### Duplicate Data check"
      ]
    },
    {
      "cell_type": "code",
      "execution_count": 14,
      "id": "I2UAYpC32Zgc",
      "metadata": {
        "id": "I2UAYpC32Zgc"
      },
      "outputs": [],
      "source": [
        "duplicateRows = data_df[data_df.duplicated()]"
      ]
    },
    {
      "cell_type": "code",
      "execution_count": 15,
      "id": "x_M4pjFS2Zgc",
      "metadata": {
        "colab": {
          "base_uri": "https://localhost:8080/"
        },
        "id": "x_M4pjFS2Zgc",
        "outputId": "33d2eeaa-648a-4050-91f7-75161a5bf9b5"
      },
      "outputs": [
        {
          "data": {
            "text/plain": [
              "(69, 10)"
            ]
          },
          "execution_count": 15,
          "metadata": {},
          "output_type": "execute_result"
        }
      ],
      "source": [
        "duplicateRows.shape"
      ]
    },
    {
      "cell_type": "code",
      "execution_count": 16,
      "id": "wYZvca3V2Zgc",
      "metadata": {
        "colab": {
          "base_uri": "https://localhost:8080/",
          "height": 112
        },
        "id": "wYZvca3V2Zgc",
        "outputId": "674f144d-ffbb-4023-a1af-788e70a18477"
      },
      "outputs": [
        {
          "data": {
            "text/html": [
              "\n",
              "  <div id=\"df-7a8b8171-90c9-4e6d-9ae0-7dc1ed4c88b1\">\n",
              "    <div class=\"colab-df-container\">\n",
              "      <div>\n",
              "<style scoped>\n",
              "    .dataframe tbody tr th:only-of-type {\n",
              "        vertical-align: middle;\n",
              "    }\n",
              "\n",
              "    .dataframe tbody tr th {\n",
              "        vertical-align: top;\n",
              "    }\n",
              "\n",
              "    .dataframe thead th {\n",
              "        text-align: right;\n",
              "    }\n",
              "</style>\n",
              "<table border=\"1\" class=\"dataframe\">\n",
              "  <thead>\n",
              "    <tr style=\"text-align: right;\">\n",
              "      <th></th>\n",
              "      <th>UDI</th>\n",
              "      <th>Product ID</th>\n",
              "      <th>Type</th>\n",
              "      <th>Air temperature [K]</th>\n",
              "      <th>Process temperature [K]</th>\n",
              "      <th>Rotational speed [rpm]</th>\n",
              "      <th>Torque [Nm]</th>\n",
              "      <th>Tool wear [min]</th>\n",
              "      <th>Target</th>\n",
              "      <th>Failure Type</th>\n",
              "    </tr>\n",
              "  </thead>\n",
              "  <tbody>\n",
              "    <tr>\n",
              "      <th>10000</th>\n",
              "      <td>104</td>\n",
              "      <td>M14963</td>\n",
              "      <td>M</td>\n",
              "      <td>298.8</td>\n",
              "      <td>308.8</td>\n",
              "      <td>1441</td>\n",
              "      <td>40.5</td>\n",
              "      <td>63</td>\n",
              "      <td>0</td>\n",
              "      <td>No Failure</td>\n",
              "    </tr>\n",
              "    <tr>\n",
              "      <th>10001</th>\n",
              "      <td>105</td>\n",
              "      <td>L47284</td>\n",
              "      <td>L</td>\n",
              "      <td>298.8</td>\n",
              "      <td>308.7</td>\n",
              "      <td>1450</td>\n",
              "      <td>43.4</td>\n",
              "      <td>66</td>\n",
              "      <td>0</td>\n",
              "      <td>No Failure</td>\n",
              "    </tr>\n",
              "  </tbody>\n",
              "</table>\n",
              "</div>\n",
              "      <button class=\"colab-df-convert\" onclick=\"convertToInteractive('df-7a8b8171-90c9-4e6d-9ae0-7dc1ed4c88b1')\"\n",
              "              title=\"Convert this dataframe to an interactive table.\"\n",
              "              style=\"display:none;\">\n",
              "        \n",
              "  <svg xmlns=\"http://www.w3.org/2000/svg\" height=\"24px\"viewBox=\"0 0 24 24\"\n",
              "       width=\"24px\">\n",
              "    <path d=\"M0 0h24v24H0V0z\" fill=\"none\"/>\n",
              "    <path d=\"M18.56 5.44l.94 2.06.94-2.06 2.06-.94-2.06-.94-.94-2.06-.94 2.06-2.06.94zm-11 1L8.5 8.5l.94-2.06 2.06-.94-2.06-.94L8.5 2.5l-.94 2.06-2.06.94zm10 10l.94 2.06.94-2.06 2.06-.94-2.06-.94-.94-2.06-.94 2.06-2.06.94z\"/><path d=\"M17.41 7.96l-1.37-1.37c-.4-.4-.92-.59-1.43-.59-.52 0-1.04.2-1.43.59L10.3 9.45l-7.72 7.72c-.78.78-.78 2.05 0 2.83L4 21.41c.39.39.9.59 1.41.59.51 0 1.02-.2 1.41-.59l7.78-7.78 2.81-2.81c.8-.78.8-2.07 0-2.86zM5.41 20L4 18.59l7.72-7.72 1.47 1.35L5.41 20z\"/>\n",
              "  </svg>\n",
              "      </button>\n",
              "      \n",
              "  <style>\n",
              "    .colab-df-container {\n",
              "      display:flex;\n",
              "      flex-wrap:wrap;\n",
              "      gap: 12px;\n",
              "    }\n",
              "\n",
              "    .colab-df-convert {\n",
              "      background-color: #E8F0FE;\n",
              "      border: none;\n",
              "      border-radius: 50%;\n",
              "      cursor: pointer;\n",
              "      display: none;\n",
              "      fill: #1967D2;\n",
              "      height: 32px;\n",
              "      padding: 0 0 0 0;\n",
              "      width: 32px;\n",
              "    }\n",
              "\n",
              "    .colab-df-convert:hover {\n",
              "      background-color: #E2EBFA;\n",
              "      box-shadow: 0px 1px 2px rgba(60, 64, 67, 0.3), 0px 1px 3px 1px rgba(60, 64, 67, 0.15);\n",
              "      fill: #174EA6;\n",
              "    }\n",
              "\n",
              "    [theme=dark] .colab-df-convert {\n",
              "      background-color: #3B4455;\n",
              "      fill: #D2E3FC;\n",
              "    }\n",
              "\n",
              "    [theme=dark] .colab-df-convert:hover {\n",
              "      background-color: #434B5C;\n",
              "      box-shadow: 0px 1px 3px 1px rgba(0, 0, 0, 0.15);\n",
              "      filter: drop-shadow(0px 1px 2px rgba(0, 0, 0, 0.3));\n",
              "      fill: #FFFFFF;\n",
              "    }\n",
              "  </style>\n",
              "\n",
              "      <script>\n",
              "        const buttonEl =\n",
              "          document.querySelector('#df-7a8b8171-90c9-4e6d-9ae0-7dc1ed4c88b1 button.colab-df-convert');\n",
              "        buttonEl.style.display =\n",
              "          google.colab.kernel.accessAllowed ? 'block' : 'none';\n",
              "\n",
              "        async function convertToInteractive(key) {\n",
              "          const element = document.querySelector('#df-7a8b8171-90c9-4e6d-9ae0-7dc1ed4c88b1');\n",
              "          const dataTable =\n",
              "            await google.colab.kernel.invokeFunction('convertToInteractive',\n",
              "                                                     [key], {});\n",
              "          if (!dataTable) return;\n",
              "\n",
              "          const docLinkHtml = 'Like what you see? Visit the ' +\n",
              "            '<a target=\"_blank\" href=https://colab.research.google.com/notebooks/data_table.ipynb>data table notebook</a>'\n",
              "            + ' to learn more about interactive tables.';\n",
              "          element.innerHTML = '';\n",
              "          dataTable['output_type'] = 'display_data';\n",
              "          await google.colab.output.renderOutput(dataTable, element);\n",
              "          const docLink = document.createElement('div');\n",
              "          docLink.innerHTML = docLinkHtml;\n",
              "          element.appendChild(docLink);\n",
              "        }\n",
              "      </script>\n",
              "    </div>\n",
              "  </div>\n",
              "  "
            ],
            "text/plain": [
              "       UDI Product ID Type  Air temperature [K]  Process temperature [K]  \\\n",
              "10000  104     M14963    M                298.8                    308.8   \n",
              "10001  105     L47284    L                298.8                    308.7   \n",
              "\n",
              "       Rotational speed [rpm]  Torque [Nm]  Tool wear [min]  Target  \\\n",
              "10000                    1441         40.5               63       0   \n",
              "10001                    1450         43.4               66       0   \n",
              "\n",
              "      Failure Type  \n",
              "10000   No Failure  \n",
              "10001   No Failure  "
            ]
          },
          "execution_count": 16,
          "metadata": {},
          "output_type": "execute_result"
        }
      ],
      "source": [
        "duplicateRows.head(2)"
      ]
    },
    {
      "cell_type": "markdown",
      "id": "C8SvyY_U2Zgd",
      "metadata": {
        "id": "C8SvyY_U2Zgd"
      },
      "source": [
        "We have 69 duplicate rows, and as we have not used 'subset' parameter in the duplicated function, it means the complete rows are duplicate. "
      ]
    },
    {
      "cell_type": "markdown",
      "id": "HucrSqg12Zgd",
      "metadata": {
        "id": "HucrSqg12Zgd"
      },
      "source": [
        "#### Missing Data Check"
      ]
    },
    {
      "cell_type": "code",
      "execution_count": 17,
      "id": "rqUQakMi2Zgd",
      "metadata": {
        "colab": {
          "base_uri": "https://localhost:8080/"
        },
        "id": "rqUQakMi2Zgd",
        "outputId": "01922462-899f-4553-d02c-e4af52e7c327"
      },
      "outputs": [
        {
          "data": {
            "text/plain": [
              "UDI                         0\n",
              "Product ID                  0\n",
              "Type                        0\n",
              "Air temperature [K]         0\n",
              "Process temperature [K]    11\n",
              "Rotational speed [rpm]      0\n",
              "Torque [Nm]                 0\n",
              "Tool wear [min]             0\n",
              "Target                      0\n",
              "Failure Type                0\n",
              "dtype: int64"
            ]
          },
          "execution_count": 17,
          "metadata": {},
          "output_type": "execute_result"
        }
      ],
      "source": [
        "data_df.isnull().sum()"
      ]
    },
    {
      "cell_type": "markdown",
      "id": "_B--SpFf2Zgd",
      "metadata": {
        "id": "_B--SpFf2Zgd"
      },
      "source": [
        "We have 11 rows missing for column Process temperature [K] "
      ]
    },
    {
      "cell_type": "markdown",
      "id": "iX6B5KDO2Zgd",
      "metadata": {
        "id": "iX6B5KDO2Zgd"
      },
      "source": [
        "#### Data Inconsistencies Check"
      ]
    },
    {
      "cell_type": "markdown",
      "id": "oTlaza6E2Zgd",
      "metadata": {
        "id": "oTlaza6E2Zgd"
      },
      "source": [
        "sns.boxplot(data_df_not_null['Process temperature [K]'])"
      ]
    },
    {
      "cell_type": "code",
      "execution_count": 18,
      "id": "2lhP_ocW2Zgd",
      "metadata": {
        "colab": {
          "base_uri": "https://localhost:8080/",
          "height": 300
        },
        "id": "2lhP_ocW2Zgd",
        "outputId": "d20888d7-e5c7-4b56-f2bb-a74655c7f5a1"
      },
      "outputs": [
        {
          "data": {
            "text/html": [
              "\n",
              "  <div id=\"df-6775c3f8-43ab-4e6b-b273-90b62387c030\">\n",
              "    <div class=\"colab-df-container\">\n",
              "      <div>\n",
              "<style scoped>\n",
              "    .dataframe tbody tr th:only-of-type {\n",
              "        vertical-align: middle;\n",
              "    }\n",
              "\n",
              "    .dataframe tbody tr th {\n",
              "        vertical-align: top;\n",
              "    }\n",
              "\n",
              "    .dataframe thead th {\n",
              "        text-align: right;\n",
              "    }\n",
              "</style>\n",
              "<table border=\"1\" class=\"dataframe\">\n",
              "  <thead>\n",
              "    <tr style=\"text-align: right;\">\n",
              "      <th></th>\n",
              "      <th>UDI</th>\n",
              "      <th>Air temperature [K]</th>\n",
              "      <th>Process temperature [K]</th>\n",
              "      <th>Rotational speed [rpm]</th>\n",
              "      <th>Torque [Nm]</th>\n",
              "      <th>Tool wear [min]</th>\n",
              "      <th>Target</th>\n",
              "    </tr>\n",
              "  </thead>\n",
              "  <tbody>\n",
              "    <tr>\n",
              "      <th>count</th>\n",
              "      <td>10071.000000</td>\n",
              "      <td>10071.000000</td>\n",
              "      <td>10060.000000</td>\n",
              "      <td>10071.000000</td>\n",
              "      <td>10071.000000</td>\n",
              "      <td>10071.000000</td>\n",
              "      <td>10071.000000</td>\n",
              "    </tr>\n",
              "    <tr>\n",
              "      <th>mean</th>\n",
              "      <td>4966.226690</td>\n",
              "      <td>295.981134</td>\n",
              "      <td>309.994751</td>\n",
              "      <td>1538.678086</td>\n",
              "      <td>39.990607</td>\n",
              "      <td>108.016682</td>\n",
              "      <td>0.033959</td>\n",
              "    </tr>\n",
              "    <tr>\n",
              "      <th>std</th>\n",
              "      <td>2905.317511</td>\n",
              "      <td>33.161037</td>\n",
              "      <td>1.484650</td>\n",
              "      <td>179.067366</td>\n",
              "      <td>9.965602</td>\n",
              "      <td>63.642729</td>\n",
              "      <td>0.181132</td>\n",
              "    </tr>\n",
              "    <tr>\n",
              "      <th>min</th>\n",
              "      <td>1.000000</td>\n",
              "      <td>24.950000</td>\n",
              "      <td>305.700000</td>\n",
              "      <td>1168.000000</td>\n",
              "      <td>3.800000</td>\n",
              "      <td>0.000000</td>\n",
              "      <td>0.000000</td>\n",
              "    </tr>\n",
              "    <tr>\n",
              "      <th>25%</th>\n",
              "      <td>2447.500000</td>\n",
              "      <td>298.300000</td>\n",
              "      <td>308.800000</td>\n",
              "      <td>1423.000000</td>\n",
              "      <td>33.200000</td>\n",
              "      <td>53.000000</td>\n",
              "      <td>0.000000</td>\n",
              "    </tr>\n",
              "    <tr>\n",
              "      <th>50%</th>\n",
              "      <td>4965.000000</td>\n",
              "      <td>300.100000</td>\n",
              "      <td>310.100000</td>\n",
              "      <td>1503.000000</td>\n",
              "      <td>40.100000</td>\n",
              "      <td>108.000000</td>\n",
              "      <td>0.000000</td>\n",
              "    </tr>\n",
              "    <tr>\n",
              "      <th>75%</th>\n",
              "      <td>7482.500000</td>\n",
              "      <td>301.500000</td>\n",
              "      <td>311.100000</td>\n",
              "      <td>1612.000000</td>\n",
              "      <td>46.750000</td>\n",
              "      <td>162.000000</td>\n",
              "      <td>0.000000</td>\n",
              "    </tr>\n",
              "    <tr>\n",
              "      <th>max</th>\n",
              "      <td>10000.000000</td>\n",
              "      <td>304.500000</td>\n",
              "      <td>313.800000</td>\n",
              "      <td>2886.000000</td>\n",
              "      <td>76.600000</td>\n",
              "      <td>253.000000</td>\n",
              "      <td>1.000000</td>\n",
              "    </tr>\n",
              "  </tbody>\n",
              "</table>\n",
              "</div>\n",
              "      <button class=\"colab-df-convert\" onclick=\"convertToInteractive('df-6775c3f8-43ab-4e6b-b273-90b62387c030')\"\n",
              "              title=\"Convert this dataframe to an interactive table.\"\n",
              "              style=\"display:none;\">\n",
              "        \n",
              "  <svg xmlns=\"http://www.w3.org/2000/svg\" height=\"24px\"viewBox=\"0 0 24 24\"\n",
              "       width=\"24px\">\n",
              "    <path d=\"M0 0h24v24H0V0z\" fill=\"none\"/>\n",
              "    <path d=\"M18.56 5.44l.94 2.06.94-2.06 2.06-.94-2.06-.94-.94-2.06-.94 2.06-2.06.94zm-11 1L8.5 8.5l.94-2.06 2.06-.94-2.06-.94L8.5 2.5l-.94 2.06-2.06.94zm10 10l.94 2.06.94-2.06 2.06-.94-2.06-.94-.94-2.06-.94 2.06-2.06.94z\"/><path d=\"M17.41 7.96l-1.37-1.37c-.4-.4-.92-.59-1.43-.59-.52 0-1.04.2-1.43.59L10.3 9.45l-7.72 7.72c-.78.78-.78 2.05 0 2.83L4 21.41c.39.39.9.59 1.41.59.51 0 1.02-.2 1.41-.59l7.78-7.78 2.81-2.81c.8-.78.8-2.07 0-2.86zM5.41 20L4 18.59l7.72-7.72 1.47 1.35L5.41 20z\"/>\n",
              "  </svg>\n",
              "      </button>\n",
              "      \n",
              "  <style>\n",
              "    .colab-df-container {\n",
              "      display:flex;\n",
              "      flex-wrap:wrap;\n",
              "      gap: 12px;\n",
              "    }\n",
              "\n",
              "    .colab-df-convert {\n",
              "      background-color: #E8F0FE;\n",
              "      border: none;\n",
              "      border-radius: 50%;\n",
              "      cursor: pointer;\n",
              "      display: none;\n",
              "      fill: #1967D2;\n",
              "      height: 32px;\n",
              "      padding: 0 0 0 0;\n",
              "      width: 32px;\n",
              "    }\n",
              "\n",
              "    .colab-df-convert:hover {\n",
              "      background-color: #E2EBFA;\n",
              "      box-shadow: 0px 1px 2px rgba(60, 64, 67, 0.3), 0px 1px 3px 1px rgba(60, 64, 67, 0.15);\n",
              "      fill: #174EA6;\n",
              "    }\n",
              "\n",
              "    [theme=dark] .colab-df-convert {\n",
              "      background-color: #3B4455;\n",
              "      fill: #D2E3FC;\n",
              "    }\n",
              "\n",
              "    [theme=dark] .colab-df-convert:hover {\n",
              "      background-color: #434B5C;\n",
              "      box-shadow: 0px 1px 3px 1px rgba(0, 0, 0, 0.15);\n",
              "      filter: drop-shadow(0px 1px 2px rgba(0, 0, 0, 0.3));\n",
              "      fill: #FFFFFF;\n",
              "    }\n",
              "  </style>\n",
              "\n",
              "      <script>\n",
              "        const buttonEl =\n",
              "          document.querySelector('#df-6775c3f8-43ab-4e6b-b273-90b62387c030 button.colab-df-convert');\n",
              "        buttonEl.style.display =\n",
              "          google.colab.kernel.accessAllowed ? 'block' : 'none';\n",
              "\n",
              "        async function convertToInteractive(key) {\n",
              "          const element = document.querySelector('#df-6775c3f8-43ab-4e6b-b273-90b62387c030');\n",
              "          const dataTable =\n",
              "            await google.colab.kernel.invokeFunction('convertToInteractive',\n",
              "                                                     [key], {});\n",
              "          if (!dataTable) return;\n",
              "\n",
              "          const docLinkHtml = 'Like what you see? Visit the ' +\n",
              "            '<a target=\"_blank\" href=https://colab.research.google.com/notebooks/data_table.ipynb>data table notebook</a>'\n",
              "            + ' to learn more about interactive tables.';\n",
              "          element.innerHTML = '';\n",
              "          dataTable['output_type'] = 'display_data';\n",
              "          await google.colab.output.renderOutput(dataTable, element);\n",
              "          const docLink = document.createElement('div');\n",
              "          docLink.innerHTML = docLinkHtml;\n",
              "          element.appendChild(docLink);\n",
              "        }\n",
              "      </script>\n",
              "    </div>\n",
              "  </div>\n",
              "  "
            ],
            "text/plain": [
              "                UDI  Air temperature [K]  Process temperature [K]  \\\n",
              "count  10071.000000         10071.000000             10060.000000   \n",
              "mean    4966.226690           295.981134               309.994751   \n",
              "std     2905.317511            33.161037                 1.484650   \n",
              "min        1.000000            24.950000               305.700000   \n",
              "25%     2447.500000           298.300000               308.800000   \n",
              "50%     4965.000000           300.100000               310.100000   \n",
              "75%     7482.500000           301.500000               311.100000   \n",
              "max    10000.000000           304.500000               313.800000   \n",
              "\n",
              "       Rotational speed [rpm]   Torque [Nm]  Tool wear [min]        Target  \n",
              "count            10071.000000  10071.000000     10071.000000  10071.000000  \n",
              "mean              1538.678086     39.990607       108.016682      0.033959  \n",
              "std                179.067366      9.965602        63.642729      0.181132  \n",
              "min               1168.000000      3.800000         0.000000      0.000000  \n",
              "25%               1423.000000     33.200000        53.000000      0.000000  \n",
              "50%               1503.000000     40.100000       108.000000      0.000000  \n",
              "75%               1612.000000     46.750000       162.000000      0.000000  \n",
              "max               2886.000000     76.600000       253.000000      1.000000  "
            ]
          },
          "execution_count": 18,
          "metadata": {},
          "output_type": "execute_result"
        }
      ],
      "source": [
        "data_df.describe()"
      ]
    },
    {
      "cell_type": "markdown",
      "id": "mDsr0zU82Zge",
      "metadata": {
        "id": "mDsr0zU82Zge"
      },
      "source": [
        "Looking closely at Air Temperature, we can see that Min value of Air Temperature is 24.95 but on seeing the mean, 25%, 50% and 75%, we can see that the data ranges close to 298.3. So these data can be outliers."
      ]
    },
    {
      "cell_type": "code",
      "execution_count": 19,
      "id": "Se1-ZXQr2Zge",
      "metadata": {
        "colab": {
          "base_uri": "https://localhost:8080/",
          "height": 296
        },
        "id": "Se1-ZXQr2Zge",
        "outputId": "f6b587a8-f9d5-4449-e5f9-51853feb243a"
      },
      "outputs": [
        {
          "data": {
            "text/plain": [
              "<AxesSubplot:xlabel='Air temperature [K]'>"
            ]
          },
          "execution_count": 19,
          "metadata": {},
          "output_type": "execute_result"
        },
        {
          "data": {
            "image/png": "[encoded data removed]",
            "text/plain": [
              "<Figure size 432x288 with 1 Axes>"
            ]
          },
          "metadata": {
            "needs_background": "light"
          },
          "output_type": "display_data"
        }
      ],
      "source": [
        "sns.boxplot(data=data_df, x=\"Air temperature [K]\")"
      ]
    },
    {
      "cell_type": "markdown",
      "id": "3l2Z3fa92Zge",
      "metadata": {
        "id": "3l2Z3fa92Zge"
      },
      "source": [
        "From the box plot, we can say that it is not just outlier but incorrect data, as the data is way too less than the range of data.\n",
        "There can be few possible conditions:\n",
        "1. Data is incorrect (entered number is random error) - In this case we can either remove these records or impute them.\n",
        "2. Data unit is incorrectly recorded. - In this case we can bring the data onto the same scale."
      ]
    },
    {
      "cell_type": "markdown",
      "id": "06fdebf8",
      "metadata": {
        "id": "06fdebf8"
      },
      "source": [
        "## 3.2 Apply techiniques\n",
        "* to remove duplicate data\n",
        "* to impute or remove missing data\n",
        "* to remove data inconsistencies\n"
      ]
    },
    {
      "cell_type": "code",
      "execution_count": 20,
      "id": "dd3118eb",
      "metadata": {
        "id": "dd3118eb"
      },
      "outputs": [],
      "source": [
        "##---------Type the code below this line------------------##"
      ]
    },
    {
      "cell_type": "markdown",
      "id": "tfs-XOuE2Zge",
      "metadata": {
        "id": "tfs-XOuE2Zge"
      },
      "source": [
        "#### Remove Duplicate Data"
      ]
    },
    {
      "cell_type": "markdown",
      "id": "mwBtKK5i2Zge",
      "metadata": {
        "id": "mwBtKK5i2Zge"
      },
      "source": [
        "While using the duplicated function we have not used the 'subset' parameter, which means the complete rows are duplicate. <br>\n",
        "Secondly, if we see the data, we have a column UDI, which kind of acts as a serial number for the observations. So now the duplicate date has the same serial number as well, so it is safe to delete the duplicate rows.  <br>\n",
        "We can keep the 1st occurance of the duplicate rows as all occurance are the same."
      ]
    },
    {
      "cell_type": "code",
      "execution_count": 21,
      "id": "_aHVvqU72Zgf",
      "metadata": {
        "id": "_aHVvqU72Zgf"
      },
      "outputs": [],
      "source": [
        "data_df = data_df.drop_duplicates(keep='first')"
      ]
    },
    {
      "cell_type": "code",
      "execution_count": 22,
      "id": "jwcsxhL02Zgf",
      "metadata": {
        "colab": {
          "base_uri": "https://localhost:8080/"
        },
        "id": "jwcsxhL02Zgf",
        "outputId": "05f58a14-8f27-461e-d263-51974d9f089e"
      },
      "outputs": [
        {
          "data": {
            "text/plain": [
              "(10002, 10)"
            ]
          },
          "execution_count": 22,
          "metadata": {},
          "output_type": "execute_result"
        }
      ],
      "source": [
        "data_df.shape"
      ]
    },
    {
      "cell_type": "markdown",
      "id": "AFayRUxg2Zgf",
      "metadata": {
        "id": "AFayRUxg2Zgf"
      },
      "source": [
        "#### Impute/Drop Missing Data"
      ]
    },
    {
      "cell_type": "code",
      "execution_count": 23,
      "id": "nLL5dfY72Zgf",
      "metadata": {
        "colab": {
          "base_uri": "https://localhost:8080/",
          "height": 394
        },
        "id": "nLL5dfY72Zgf",
        "outputId": "c6ebd33c-b755-4c84-85fb-f674c74577dd"
      },
      "outputs": [
        {
          "data": {
            "text/html": [
              "\n",
              "  <div id=\"df-b665d18d-1635-441e-af96-06678696ba5e\">\n",
              "    <div class=\"colab-df-container\">\n",
              "      <div>\n",
              "<style scoped>\n",
              "    .dataframe tbody tr th:only-of-type {\n",
              "        vertical-align: middle;\n",
              "    }\n",
              "\n",
              "    .dataframe tbody tr th {\n",
              "        vertical-align: top;\n",
              "    }\n",
              "\n",
              "    .dataframe thead th {\n",
              "        text-align: right;\n",
              "    }\n",
              "</style>\n",
              "<table border=\"1\" class=\"dataframe\">\n",
              "  <thead>\n",
              "    <tr style=\"text-align: right;\">\n",
              "      <th></th>\n",
              "      <th>UDI</th>\n",
              "      <th>Product ID</th>\n",
              "      <th>Type</th>\n",
              "      <th>Air temperature [K]</th>\n",
              "      <th>Process temperature [K]</th>\n",
              "      <th>Rotational speed [rpm]</th>\n",
              "      <th>Torque [Nm]</th>\n",
              "      <th>Tool wear [min]</th>\n",
              "      <th>Target</th>\n",
              "      <th>Failure Type</th>\n",
              "    </tr>\n",
              "  </thead>\n",
              "  <tbody>\n",
              "    <tr>\n",
              "      <th>16</th>\n",
              "      <td>17</td>\n",
              "      <td>M14876</td>\n",
              "      <td>M</td>\n",
              "      <td>298.6</td>\n",
              "      <td>NaN</td>\n",
              "      <td>1311</td>\n",
              "      <td>46.6</td>\n",
              "      <td>44</td>\n",
              "      <td>0</td>\n",
              "      <td>No Failure</td>\n",
              "    </tr>\n",
              "    <tr>\n",
              "      <th>125</th>\n",
              "      <td>126</td>\n",
              "      <td>L47305</td>\n",
              "      <td>L</td>\n",
              "      <td>298.9</td>\n",
              "      <td>NaN</td>\n",
              "      <td>1560</td>\n",
              "      <td>32.2</td>\n",
              "      <td>118</td>\n",
              "      <td>0</td>\n",
              "      <td>No Failure</td>\n",
              "    </tr>\n",
              "    <tr>\n",
              "      <th>299</th>\n",
              "      <td>300</td>\n",
              "      <td>M15159</td>\n",
              "      <td>M</td>\n",
              "      <td>297.8</td>\n",
              "      <td>NaN</td>\n",
              "      <td>1567</td>\n",
              "      <td>35.6</td>\n",
              "      <td>131</td>\n",
              "      <td>0</td>\n",
              "      <td>No Failure</td>\n",
              "    </tr>\n",
              "    <tr>\n",
              "      <th>364</th>\n",
              "      <td>365</td>\n",
              "      <td>L47544</td>\n",
              "      <td>L</td>\n",
              "      <td>297.6</td>\n",
              "      <td>NaN</td>\n",
              "      <td>1407</td>\n",
              "      <td>55.2</td>\n",
              "      <td>86</td>\n",
              "      <td>0</td>\n",
              "      <td>No Failure</td>\n",
              "    </tr>\n",
              "    <tr>\n",
              "      <th>528</th>\n",
              "      <td>529</td>\n",
              "      <td>M15388</td>\n",
              "      <td>M</td>\n",
              "      <td>297.5</td>\n",
              "      <td>NaN</td>\n",
              "      <td>1553</td>\n",
              "      <td>42.4</td>\n",
              "      <td>60</td>\n",
              "      <td>0</td>\n",
              "      <td>No Failure</td>\n",
              "    </tr>\n",
              "    <tr>\n",
              "      <th>666</th>\n",
              "      <td>667</td>\n",
              "      <td>L47846</td>\n",
              "      <td>L</td>\n",
              "      <td>297.5</td>\n",
              "      <td>NaN</td>\n",
              "      <td>1470</td>\n",
              "      <td>43.5</td>\n",
              "      <td>191</td>\n",
              "      <td>0</td>\n",
              "      <td>No Failure</td>\n",
              "    </tr>\n",
              "    <tr>\n",
              "      <th>3475</th>\n",
              "      <td>3476</td>\n",
              "      <td>L50655</td>\n",
              "      <td>L</td>\n",
              "      <td>301.8</td>\n",
              "      <td>NaN</td>\n",
              "      <td>1644</td>\n",
              "      <td>33.4</td>\n",
              "      <td>68</td>\n",
              "      <td>0</td>\n",
              "      <td>No Failure</td>\n",
              "    </tr>\n",
              "    <tr>\n",
              "      <th>5380</th>\n",
              "      <td>5381</td>\n",
              "      <td>L52560</td>\n",
              "      <td>L</td>\n",
              "      <td>302.8</td>\n",
              "      <td>NaN</td>\n",
              "      <td>1494</td>\n",
              "      <td>37.5</td>\n",
              "      <td>198</td>\n",
              "      <td>0</td>\n",
              "      <td>No Failure</td>\n",
              "    </tr>\n",
              "    <tr>\n",
              "      <th>6576</th>\n",
              "      <td>6577</td>\n",
              "      <td>L53756</td>\n",
              "      <td>L</td>\n",
              "      <td>301.5</td>\n",
              "      <td>NaN</td>\n",
              "      <td>1644</td>\n",
              "      <td>34.9</td>\n",
              "      <td>186</td>\n",
              "      <td>0</td>\n",
              "      <td>No Failure</td>\n",
              "    </tr>\n",
              "    <tr>\n",
              "      <th>6589</th>\n",
              "      <td>6590</td>\n",
              "      <td>M21449</td>\n",
              "      <td>M</td>\n",
              "      <td>301.6</td>\n",
              "      <td>NaN</td>\n",
              "      <td>1553</td>\n",
              "      <td>38.9</td>\n",
              "      <td>0</td>\n",
              "      <td>0</td>\n",
              "      <td>No Failure</td>\n",
              "    </tr>\n",
              "    <tr>\n",
              "      <th>6803</th>\n",
              "      <td>6804</td>\n",
              "      <td>M21663</td>\n",
              "      <td>M</td>\n",
              "      <td>301.1</td>\n",
              "      <td>NaN</td>\n",
              "      <td>1367</td>\n",
              "      <td>43.4</td>\n",
              "      <td>111</td>\n",
              "      <td>0</td>\n",
              "      <td>No Failure</td>\n",
              "    </tr>\n",
              "  </tbody>\n",
              "</table>\n",
              "</div>\n",
              "      <button class=\"colab-df-convert\" onclick=\"convertToInteractive('df-b665d18d-1635-441e-af96-06678696ba5e')\"\n",
              "              title=\"Convert this dataframe to an interactive table.\"\n",
              "              style=\"display:none;\">\n",
              "        \n",
              "  <svg xmlns=\"http://www.w3.org/2000/svg\" height=\"24px\"viewBox=\"0 0 24 24\"\n",
              "       width=\"24px\">\n",
              "    <path d=\"M0 0h24v24H0V0z\" fill=\"none\"/>\n",
              "    <path d=\"M18.56 5.44l.94 2.06.94-2.06 2.06-.94-2.06-.94-.94-2.06-.94 2.06-2.06.94zm-11 1L8.5 8.5l.94-2.06 2.06-.94-2.06-.94L8.5 2.5l-.94 2.06-2.06.94zm10 10l.94 2.06.94-2.06 2.06-.94-2.06-.94-.94-2.06-.94 2.06-2.06.94z\"/><path d=\"M17.41 7.96l-1.37-1.37c-.4-.4-.92-.59-1.43-.59-.52 0-1.04.2-1.43.59L10.3 9.45l-7.72 7.72c-.78.78-.78 2.05 0 2.83L4 21.41c.39.39.9.59 1.41.59.51 0 1.02-.2 1.41-.59l7.78-7.78 2.81-2.81c.8-.78.8-2.07 0-2.86zM5.41 20L4 18.59l7.72-7.72 1.47 1.35L5.41 20z\"/>\n",
              "  </svg>\n",
              "      </button>\n",
              "      \n",
              "  <style>\n",
              "    .colab-df-container {\n",
              "      display:flex;\n",
              "      flex-wrap:wrap;\n",
              "      gap: 12px;\n",
              "    }\n",
              "\n",
              "    .colab-df-convert {\n",
              "      background-color: #E8F0FE;\n",
              "      border: none;\n",
              "      border-radius: 50%;\n",
              "      cursor: pointer;\n",
              "      display: none;\n",
              "      fill: #1967D2;\n",
              "      height: 32px;\n",
              "      padding: 0 0 0 0;\n",
              "      width: 32px;\n",
              "    }\n",
              "\n",
              "    .colab-df-convert:hover {\n",
              "      background-color: #E2EBFA;\n",
              "      box-shadow: 0px 1px 2px rgba(60, 64, 67, 0.3), 0px 1px 3px 1px rgba(60, 64, 67, 0.15);\n",
              "      fill: #174EA6;\n",
              "    }\n",
              "\n",
              "    [theme=dark] .colab-df-convert {\n",
              "      background-color: #3B4455;\n",
              "      fill: #D2E3FC;\n",
              "    }\n",
              "\n",
              "    [theme=dark] .colab-df-convert:hover {\n",
              "      background-color: #434B5C;\n",
              "      box-shadow: 0px 1px 3px 1px rgba(0, 0, 0, 0.15);\n",
              "      filter: drop-shadow(0px 1px 2px rgba(0, 0, 0, 0.3));\n",
              "      fill: #FFFFFF;\n",
              "    }\n",
              "  </style>\n",
              "\n",
              "      <script>\n",
              "        const buttonEl =\n",
              "          document.querySelector('#df-b665d18d-1635-441e-af96-06678696ba5e button.colab-df-convert');\n",
              "        buttonEl.style.display =\n",
              "          google.colab.kernel.accessAllowed ? 'block' : 'none';\n",
              "\n",
              "        async function convertToInteractive(key) {\n",
              "          const element = document.querySelector('#df-b665d18d-1635-441e-af96-06678696ba5e');\n",
              "          const dataTable =\n",
              "            await google.colab.kernel.invokeFunction('convertToInteractive',\n",
              "                                                     [key], {});\n",
              "          if (!dataTable) return;\n",
              "\n",
              "          const docLinkHtml = 'Like what you see? Visit the ' +\n",
              "            '<a target=\"_blank\" href=https://colab.research.google.com/notebooks/data_table.ipynb>data table notebook</a>'\n",
              "            + ' to learn more about interactive tables.';\n",
              "          element.innerHTML = '';\n",
              "          dataTable['output_type'] = 'display_data';\n",
              "          await google.colab.output.renderOutput(dataTable, element);\n",
              "          const docLink = document.createElement('div');\n",
              "          docLink.innerHTML = docLinkHtml;\n",
              "          element.appendChild(docLink);\n",
              "        }\n",
              "      </script>\n",
              "    </div>\n",
              "  </div>\n",
              "  "
            ],
            "text/plain": [
              "       UDI Product ID Type  Air temperature [K]  Process temperature [K]  \\\n",
              "16      17     M14876    M                298.6                      NaN   \n",
              "125    126     L47305    L                298.9                      NaN   \n",
              "299    300     M15159    M                297.8                      NaN   \n",
              "364    365     L47544    L                297.6                      NaN   \n",
              "528    529     M15388    M                297.5                      NaN   \n",
              "666    667     L47846    L                297.5                      NaN   \n",
              "3475  3476     L50655    L                301.8                      NaN   \n",
              "5380  5381     L52560    L                302.8                      NaN   \n",
              "6576  6577     L53756    L                301.5                      NaN   \n",
              "6589  6590     M21449    M                301.6                      NaN   \n",
              "6803  6804     M21663    M                301.1                      NaN   \n",
              "\n",
              "      Rotational speed [rpm]  Torque [Nm]  Tool wear [min]  Target  \\\n",
              "16                      1311         46.6               44       0   \n",
              "125                     1560         32.2              118       0   \n",
              "299                     1567         35.6              131       0   \n",
              "364                     1407         55.2               86       0   \n",
              "528                     1553         42.4               60       0   \n",
              "666                     1470         43.5              191       0   \n",
              "3475                    1644         33.4               68       0   \n",
              "5380                    1494         37.5              198       0   \n",
              "6576                    1644         34.9              186       0   \n",
              "6589                    1553         38.9                0       0   \n",
              "6803                    1367         43.4              111       0   \n",
              "\n",
              "     Failure Type  \n",
              "16     No Failure  \n",
              "125    No Failure  \n",
              "299    No Failure  \n",
              "364    No Failure  \n",
              "528    No Failure  \n",
              "666    No Failure  \n",
              "3475   No Failure  \n",
              "5380   No Failure  \n",
              "6576   No Failure  \n",
              "6589   No Failure  \n",
              "6803   No Failure  "
            ]
          },
          "execution_count": 23,
          "metadata": {},
          "output_type": "execute_result"
        }
      ],
      "source": [
        "data_df[data_df['Process temperature [K]'].isna()]"
      ]
    },
    {
      "cell_type": "markdown",
      "id": "e0-sHV1p2Zgf",
      "metadata": {
        "id": "e0-sHV1p2Zgf"
      },
      "source": [
        "Percentage of records having missing value:"
      ]
    },
    {
      "cell_type": "code",
      "execution_count": 24,
      "id": "U2V4Y3Of2Zgf",
      "metadata": {
        "colab": {
          "base_uri": "https://localhost:8080/"
        },
        "id": "U2V4Y3Of2Zgf",
        "outputId": "a21493f6-f447-4e88-f0ec-b054eb0fdfb8"
      },
      "outputs": [
        {
          "data": {
            "text/plain": [
              "0.10997800439912019"
            ]
          },
          "execution_count": 24,
          "metadata": {},
          "output_type": "execute_result"
        }
      ],
      "source": [
        "(data_df['Process temperature [K]'].isnull().sum()) / (data_df.shape[0]) *100"
      ]
    },
    {
      "cell_type": "markdown",
      "id": "An2cV_VD2Zgg",
      "metadata": {
        "id": "An2cV_VD2Zgg"
      },
      "source": [
        "As all records are of Failure Type \"No Failure\", Percentage of \"No Failure\" records are null"
      ]
    },
    {
      "cell_type": "code",
      "execution_count": 25,
      "id": "KKR6Z5NF2Zgg",
      "metadata": {
        "colab": {
          "base_uri": "https://localhost:8080/"
        },
        "id": "KKR6Z5NF2Zgg",
        "outputId": "a678581b-b85f-4724-a72b-ac3d5b2bed49"
      },
      "outputs": [
        {
          "data": {
            "text/plain": [
              "0.11394240729231406"
            ]
          },
          "execution_count": 25,
          "metadata": {},
          "output_type": "execute_result"
        }
      ],
      "source": [
        "(data_df['Process temperature [K]'].isnull().sum()) / (data_df[data_df['Failure Type']== 'No Failure'].shape[0]) *100"
      ]
    },
    {
      "cell_type": "markdown",
      "id": "sBJ0omsj2Zgg",
      "metadata": {
        "id": "sBJ0omsj2Zgg"
      },
      "source": [
        "As we can see we have only 0.1% of data with missing rows,  <br>\n",
        "and 0.11% from the Failure Type \"No Failure\", so we can safely drop these rows. <br>\n",
        "\n",
        "In case this percentage was higher we could have imputed the mean of the Process temperature as from data_df.describe() we can see the data for Process temperature falls in range of 305 to 314. To make it further accurate we could have taken mean from the specific \"Type\""
      ]
    },
    {
      "cell_type": "code",
      "execution_count": 26,
      "id": "jmLp2MSh2Zgg",
      "metadata": {
        "id": "jmLp2MSh2Zgg"
      },
      "outputs": [],
      "source": [
        "data_df.dropna(axis=0, inplace=True)"
      ]
    },
    {
      "cell_type": "code",
      "execution_count": 27,
      "id": "dGAaBhNo2Zgg",
      "metadata": {
        "colab": {
          "base_uri": "https://localhost:8080/"
        },
        "id": "dGAaBhNo2Zgg",
        "outputId": "e2348aad-6941-484c-ac77-89dd2f3c49de"
      },
      "outputs": [
        {
          "data": {
            "text/plain": [
              "0"
            ]
          },
          "execution_count": 27,
          "metadata": {},
          "output_type": "execute_result"
        }
      ],
      "source": [
        "data_df['Process temperature [K]'].isnull().sum()"
      ]
    },
    {
      "cell_type": "markdown",
      "id": "1PUvR68D2Zgg",
      "metadata": {
        "id": "1PUvR68D2Zgg"
      },
      "source": [
        "#### Remove Data Inconsistencies"
      ]
    },
    {
      "cell_type": "markdown",
      "id": "Hycwrc832Zgg",
      "metadata": {
        "id": "Hycwrc832Zgg"
      },
      "source": [
        "From the box plot in above section, we can say that it is not just outlier but incorrect data, as the data is way too less than the range of data.\n",
        "There can be few possible conditions:\n",
        "1. Data is incorrect (entered number is random error) - In this case we can either remove these records or impute them.\n",
        "2. Data unit is incorrectly recorded. - In this case we can bring the data onto the same scale.\n",
        "\n",
        "Let us check if the data has **Data Confirmity** issue i.e. Data is inserted with different measurement unit.<br>\n",
        "\n",
        "Next Step: <br>\n",
        "we assume that these inconsistent data is either in Fahrenheit or Celsius, we convert these  to kelvin and if the data falls in range of our records, we can apply imputation"
      ]
    },
    {
      "cell_type": "markdown",
      "id": "7UA_7MEn2Zgh",
      "metadata": {
        "id": "7UA_7MEn2Zgh"
      },
      "source": [
        "Finding Outlier rows"
      ]
    },
    {
      "cell_type": "code",
      "execution_count": 28,
      "id": "EP0MOj082Zgh",
      "metadata": {
        "id": "EP0MOj082Zgh"
      },
      "outputs": [],
      "source": [
        "Q1 = np.percentile(data_df['Air temperature [K]'], 25,\n",
        "                   interpolation = 'midpoint')\n",
        " \n",
        "Q3 = np.percentile(data_df['Air temperature [K]'], 75,\n",
        "                   interpolation = 'midpoint')\n",
        "IQR = Q3 - Q1\n",
        "lower_bound = Q1-1.5*IQR"
      ]
    },
    {
      "cell_type": "code",
      "execution_count": 29,
      "id": "cyKv0QpJ2Zgh",
      "metadata": {
        "colab": {
          "base_uri": "https://localhost:8080/",
          "height": 423
        },
        "id": "cyKv0QpJ2Zgh",
        "outputId": "7ee0d800-89f4-4941-c5b4-aaa61bab9f08"
      },
      "outputs": [
        {
          "data": {
            "text/html": [
              "\n",
              "  <div id=\"df-3203620e-47da-4664-8188-92cfadee4dfe\">\n",
              "    <div class=\"colab-df-container\">\n",
              "      <div>\n",
              "<style scoped>\n",
              "    .dataframe tbody tr th:only-of-type {\n",
              "        vertical-align: middle;\n",
              "    }\n",
              "\n",
              "    .dataframe tbody tr th {\n",
              "        vertical-align: top;\n",
              "    }\n",
              "\n",
              "    .dataframe thead th {\n",
              "        text-align: right;\n",
              "    }\n",
              "</style>\n",
              "<table border=\"1\" class=\"dataframe\">\n",
              "  <thead>\n",
              "    <tr style=\"text-align: right;\">\n",
              "      <th></th>\n",
              "      <th>UDI</th>\n",
              "      <th>Product ID</th>\n",
              "      <th>Type</th>\n",
              "      <th>Air temperature [K]</th>\n",
              "      <th>Process temperature [K]</th>\n",
              "      <th>Rotational speed [rpm]</th>\n",
              "      <th>Torque [Nm]</th>\n",
              "      <th>Tool wear [min]</th>\n",
              "      <th>Target</th>\n",
              "      <th>Failure Type</th>\n",
              "    </tr>\n",
              "  </thead>\n",
              "  <tbody>\n",
              "    <tr>\n",
              "      <th>5</th>\n",
              "      <td>6</td>\n",
              "      <td>M14865</td>\n",
              "      <td>M</td>\n",
              "      <td>24.95</td>\n",
              "      <td>308.6</td>\n",
              "      <td>1425</td>\n",
              "      <td>41.9</td>\n",
              "      <td>11</td>\n",
              "      <td>0</td>\n",
              "      <td>No Failure</td>\n",
              "    </tr>\n",
              "    <tr>\n",
              "      <th>6</th>\n",
              "      <td>7</td>\n",
              "      <td>L47186</td>\n",
              "      <td>L</td>\n",
              "      <td>24.95</td>\n",
              "      <td>308.6</td>\n",
              "      <td>1558</td>\n",
              "      <td>42.4</td>\n",
              "      <td>14</td>\n",
              "      <td>0</td>\n",
              "      <td>No Failure</td>\n",
              "    </tr>\n",
              "    <tr>\n",
              "      <th>7</th>\n",
              "      <td>8</td>\n",
              "      <td>L47187</td>\n",
              "      <td>L</td>\n",
              "      <td>24.95</td>\n",
              "      <td>308.6</td>\n",
              "      <td>1527</td>\n",
              "      <td>40.2</td>\n",
              "      <td>16</td>\n",
              "      <td>0</td>\n",
              "      <td>No Failure</td>\n",
              "    </tr>\n",
              "    <tr>\n",
              "      <th>172</th>\n",
              "      <td>173</td>\n",
              "      <td>M15032</td>\n",
              "      <td>M</td>\n",
              "      <td>24.95</td>\n",
              "      <td>308.0</td>\n",
              "      <td>1924</td>\n",
              "      <td>20.8</td>\n",
              "      <td>29</td>\n",
              "      <td>0</td>\n",
              "      <td>No Failure</td>\n",
              "    </tr>\n",
              "    <tr>\n",
              "      <th>182</th>\n",
              "      <td>183</td>\n",
              "      <td>M15042</td>\n",
              "      <td>M</td>\n",
              "      <td>24.95</td>\n",
              "      <td>308.2</td>\n",
              "      <td>1342</td>\n",
              "      <td>48.1</td>\n",
              "      <td>54</td>\n",
              "      <td>0</td>\n",
              "      <td>No Failure</td>\n",
              "    </tr>\n",
              "    <tr>\n",
              "      <th>...</th>\n",
              "      <td>...</td>\n",
              "      <td>...</td>\n",
              "      <td>...</td>\n",
              "      <td>...</td>\n",
              "      <td>...</td>\n",
              "      <td>...</td>\n",
              "      <td>...</td>\n",
              "      <td>...</td>\n",
              "      <td>...</td>\n",
              "      <td>...</td>\n",
              "    </tr>\n",
              "    <tr>\n",
              "      <th>9228</th>\n",
              "      <td>9229</td>\n",
              "      <td>M24088</td>\n",
              "      <td>M</td>\n",
              "      <td>24.95</td>\n",
              "      <td>309.1</td>\n",
              "      <td>1572</td>\n",
              "      <td>37.5</td>\n",
              "      <td>126</td>\n",
              "      <td>0</td>\n",
              "      <td>No Failure</td>\n",
              "    </tr>\n",
              "    <tr>\n",
              "      <th>9229</th>\n",
              "      <td>9230</td>\n",
              "      <td>M24089</td>\n",
              "      <td>M</td>\n",
              "      <td>24.95</td>\n",
              "      <td>309.0</td>\n",
              "      <td>2042</td>\n",
              "      <td>17.8</td>\n",
              "      <td>129</td>\n",
              "      <td>0</td>\n",
              "      <td>No Failure</td>\n",
              "    </tr>\n",
              "    <tr>\n",
              "      <th>9236</th>\n",
              "      <td>9237</td>\n",
              "      <td>L56416</td>\n",
              "      <td>L</td>\n",
              "      <td>24.95</td>\n",
              "      <td>308.7</td>\n",
              "      <td>1556</td>\n",
              "      <td>31.6</td>\n",
              "      <td>145</td>\n",
              "      <td>0</td>\n",
              "      <td>No Failure</td>\n",
              "    </tr>\n",
              "    <tr>\n",
              "      <th>9237</th>\n",
              "      <td>9238</td>\n",
              "      <td>M24097</td>\n",
              "      <td>M</td>\n",
              "      <td>24.95</td>\n",
              "      <td>308.8</td>\n",
              "      <td>1811</td>\n",
              "      <td>25.4</td>\n",
              "      <td>147</td>\n",
              "      <td>0</td>\n",
              "      <td>No Failure</td>\n",
              "    </tr>\n",
              "    <tr>\n",
              "      <th>9240</th>\n",
              "      <td>9241</td>\n",
              "      <td>M24100</td>\n",
              "      <td>M</td>\n",
              "      <td>24.95</td>\n",
              "      <td>308.7</td>\n",
              "      <td>1362</td>\n",
              "      <td>49.6</td>\n",
              "      <td>158</td>\n",
              "      <td>0</td>\n",
              "      <td>No Failure</td>\n",
              "    </tr>\n",
              "  </tbody>\n",
              "</table>\n",
              "<p>148 rows × 10 columns</p>\n",
              "</div>\n",
              "      <button class=\"colab-df-convert\" onclick=\"convertToInteractive('df-3203620e-47da-4664-8188-92cfadee4dfe')\"\n",
              "              title=\"Convert this dataframe to an interactive table.\"\n",
              "              style=\"display:none;\">\n",
              "        \n",
              "  <svg xmlns=\"http://www.w3.org/2000/svg\" height=\"24px\"viewBox=\"0 0 24 24\"\n",
              "       width=\"24px\">\n",
              "    <path d=\"M0 0h24v24H0V0z\" fill=\"none\"/>\n",
              "    <path d=\"M18.56 5.44l.94 2.06.94-2.06 2.06-.94-2.06-.94-.94-2.06-.94 2.06-2.06.94zm-11 1L8.5 8.5l.94-2.06 2.06-.94-2.06-.94L8.5 2.5l-.94 2.06-2.06.94zm10 10l.94 2.06.94-2.06 2.06-.94-2.06-.94-.94-2.06-.94 2.06-2.06.94z\"/><path d=\"M17.41 7.96l-1.37-1.37c-.4-.4-.92-.59-1.43-.59-.52 0-1.04.2-1.43.59L10.3 9.45l-7.72 7.72c-.78.78-.78 2.05 0 2.83L4 21.41c.39.39.9.59 1.41.59.51 0 1.02-.2 1.41-.59l7.78-7.78 2.81-2.81c.8-.78.8-2.07 0-2.86zM5.41 20L4 18.59l7.72-7.72 1.47 1.35L5.41 20z\"/>\n",
              "  </svg>\n",
              "      </button>\n",
              "      \n",
              "  <style>\n",
              "    .colab-df-container {\n",
              "      display:flex;\n",
              "      flex-wrap:wrap;\n",
              "      gap: 12px;\n",
              "    }\n",
              "\n",
              "    .colab-df-convert {\n",
              "      background-color: #E8F0FE;\n",
              "      border: none;\n",
              "      border-radius: 50%;\n",
              "      cursor: pointer;\n",
              "      display: none;\n",
              "      fill: #1967D2;\n",
              "      height: 32px;\n",
              "      padding: 0 0 0 0;\n",
              "      width: 32px;\n",
              "    }\n",
              "\n",
              "    .colab-df-convert:hover {\n",
              "      background-color: #E2EBFA;\n",
              "      box-shadow: 0px 1px 2px rgba(60, 64, 67, 0.3), 0px 1px 3px 1px rgba(60, 64, 67, 0.15);\n",
              "      fill: #174EA6;\n",
              "    }\n",
              "\n",
              "    [theme=dark] .colab-df-convert {\n",
              "      background-color: #3B4455;\n",
              "      fill: #D2E3FC;\n",
              "    }\n",
              "\n",
              "    [theme=dark] .colab-df-convert:hover {\n",
              "      background-color: #434B5C;\n",
              "      box-shadow: 0px 1px 3px 1px rgba(0, 0, 0, 0.15);\n",
              "      filter: drop-shadow(0px 1px 2px rgba(0, 0, 0, 0.3));\n",
              "      fill: #FFFFFF;\n",
              "    }\n",
              "  </style>\n",
              "\n",
              "      <script>\n",
              "        const buttonEl =\n",
              "          document.querySelector('#df-3203620e-47da-4664-8188-92cfadee4dfe button.colab-df-convert');\n",
              "        buttonEl.style.display =\n",
              "          google.colab.kernel.accessAllowed ? 'block' : 'none';\n",
              "\n",
              "        async function convertToInteractive(key) {\n",
              "          const element = document.querySelector('#df-3203620e-47da-4664-8188-92cfadee4dfe');\n",
              "          const dataTable =\n",
              "            await google.colab.kernel.invokeFunction('convertToInteractive',\n",
              "                                                     [key], {});\n",
              "          if (!dataTable) return;\n",
              "\n",
              "          const docLinkHtml = 'Like what you see? Visit the ' +\n",
              "            '<a target=\"_blank\" href=https://colab.research.google.com/notebooks/data_table.ipynb>data table notebook</a>'\n",
              "            + ' to learn more about interactive tables.';\n",
              "          element.innerHTML = '';\n",
              "          dataTable['output_type'] = 'display_data';\n",
              "          await google.colab.output.renderOutput(dataTable, element);\n",
              "          const docLink = document.createElement('div');\n",
              "          docLink.innerHTML = docLinkHtml;\n",
              "          element.appendChild(docLink);\n",
              "        }\n",
              "      </script>\n",
              "    </div>\n",
              "  </div>\n",
              "  "
            ],
            "text/plain": [
              "       UDI Product ID Type  Air temperature [K]  Process temperature [K]  \\\n",
              "5        6     M14865    M                24.95                    308.6   \n",
              "6        7     L47186    L                24.95                    308.6   \n",
              "7        8     L47187    L                24.95                    308.6   \n",
              "172    173     M15032    M                24.95                    308.0   \n",
              "182    183     M15042    M                24.95                    308.2   \n",
              "...    ...        ...  ...                  ...                      ...   \n",
              "9228  9229     M24088    M                24.95                    309.1   \n",
              "9229  9230     M24089    M                24.95                    309.0   \n",
              "9236  9237     L56416    L                24.95                    308.7   \n",
              "9237  9238     M24097    M                24.95                    308.8   \n",
              "9240  9241     M24100    M                24.95                    308.7   \n",
              "\n",
              "      Rotational speed [rpm]  Torque [Nm]  Tool wear [min]  Target  \\\n",
              "5                       1425         41.9               11       0   \n",
              "6                       1558         42.4               14       0   \n",
              "7                       1527         40.2               16       0   \n",
              "172                     1924         20.8               29       0   \n",
              "182                     1342         48.1               54       0   \n",
              "...                      ...          ...              ...     ...   \n",
              "9228                    1572         37.5              126       0   \n",
              "9229                    2042         17.8              129       0   \n",
              "9236                    1556         31.6              145       0   \n",
              "9237                    1811         25.4              147       0   \n",
              "9240                    1362         49.6              158       0   \n",
              "\n",
              "     Failure Type  \n",
              "5      No Failure  \n",
              "6      No Failure  \n",
              "7      No Failure  \n",
              "172    No Failure  \n",
              "182    No Failure  \n",
              "...           ...  \n",
              "9228   No Failure  \n",
              "9229   No Failure  \n",
              "9236   No Failure  \n",
              "9237   No Failure  \n",
              "9240   No Failure  \n",
              "\n",
              "[148 rows x 10 columns]"
            ]
          },
          "execution_count": 29,
          "metadata": {},
          "output_type": "execute_result"
        }
      ],
      "source": [
        "data_df[data_df['Air temperature [K]']<=lower_bound]"
      ]
    },
    {
      "cell_type": "markdown",
      "id": "kCBkrHZq2Zgh",
      "metadata": {
        "id": "kCBkrHZq2Zgh"
      },
      "source": [
        "We have 148 such rows which have outliers for \"Air temperature [K]\" feature, checking the values these contains"
      ]
    },
    {
      "cell_type": "code",
      "execution_count": 30,
      "id": "hv2FL6MN2Zgh",
      "metadata": {
        "colab": {
          "base_uri": "https://localhost:8080/"
        },
        "id": "hv2FL6MN2Zgh",
        "outputId": "1ebc8cee-17aa-4255-9b6c-758262512b93"
      },
      "outputs": [
        {
          "data": {
            "text/plain": [
              "array([24.95])"
            ]
          },
          "execution_count": 30,
          "metadata": {},
          "output_type": "execute_result"
        }
      ],
      "source": [
        "data_df[data_df['Air temperature [K]']<=lower_bound]['Air temperature [K]'].unique()"
      ]
    },
    {
      "cell_type": "markdown",
      "id": "WvMNa2we2Zgh",
      "metadata": {
        "id": "WvMNa2we2Zgh"
      },
      "source": [
        "All these 148 records have the same \"Air temperature [K]\" value. <br>\n",
        "Next we assume this to be in degree celsius  as these are very low in number and convert it to Kelvin."
      ]
    },
    {
      "cell_type": "code",
      "execution_count": 31,
      "id": "sJ_sNSKl2Zgi",
      "metadata": {
        "colab": {
          "base_uri": "https://localhost:8080/"
        },
        "id": "sJ_sNSKl2Zgi",
        "outputId": "f89bf893-f45a-4484-b9e6-53ed94f36946"
      },
      "outputs": [
        {
          "name": "stdout",
          "output_type": "stream",
          "text": [
            "298.09999999999997\n"
          ]
        }
      ],
      "source": [
        "kelvin_temp = 24.95 + 273.15\n",
        "print(kelvin_temp)"
      ]
    },
    {
      "cell_type": "markdown",
      "id": "ibvU6qk12Zgi",
      "metadata": {
        "id": "ibvU6qk12Zgi"
      },
      "source": [
        "This kelvin value does fall close to Q2, so we can convert the degree celcius data to kelvin to remove inconsistency  in our data."
      ]
    },
    {
      "cell_type": "code",
      "execution_count": 32,
      "id": "uuA2pDcO2Zgi",
      "metadata": {
        "id": "uuA2pDcO2Zgi"
      },
      "outputs": [],
      "source": [
        "data_df.loc[data_df['Air temperature [K]'] <= lower_bound, 'Air temperature [K]'] = data_df['Air temperature [K]'] + 273.15"
      ]
    },
    {
      "cell_type": "code",
      "execution_count": 33,
      "id": "xvHGF2bS2Zgi",
      "metadata": {
        "colab": {
          "base_uri": "https://localhost:8080/",
          "height": 296
        },
        "id": "xvHGF2bS2Zgi",
        "outputId": "928caee9-4f8c-42cc-aab0-80ce7212b4d4"
      },
      "outputs": [
        {
          "data": {
            "text/plain": [
              "<AxesSubplot:xlabel='Air temperature [K]'>"
            ]
          },
          "execution_count": 33,
          "metadata": {},
          "output_type": "execute_result"
        },
        {
          "data": {
            "image/png": "[encoded data removed]",
            "text/plain": [
              "<Figure size 432x288 with 1 Axes>"
            ]
          },
          "metadata": {
            "needs_background": "light"
          },
          "output_type": "display_data"
        }
      ],
      "source": [
        "sns.boxplot(data=data_df, x=\"Air temperature [K]\")"
      ]
    },
    {
      "cell_type": "markdown",
      "id": "38lNYApN2Zgi",
      "metadata": {
        "id": "38lNYApN2Zgi"
      },
      "source": [
        "Now, the feature 'Air temperature [K]' has consistent data."
      ]
    },
    {
      "cell_type": "markdown",
      "id": "2139fedf",
      "metadata": {
        "id": "2139fedf"
      },
      "source": [
        "## 3.3 Encode categorical data"
      ]
    },
    {
      "cell_type": "code",
      "execution_count": 34,
      "id": "da6886fc",
      "metadata": {
        "id": "da6886fc"
      },
      "outputs": [],
      "source": [
        "##---------Type the code below this line------------------##"
      ]
    },
    {
      "cell_type": "code",
      "execution_count": 35,
      "id": "Bbj-xznoYrIl",
      "metadata": {
        "id": "Bbj-xznoYrIl"
      },
      "outputs": [],
      "source": [
        "#Creating a backup of data before encoding the categorical variables. This might be helpful at analysing the data further.\n",
        "data_df_backup = data_df.copy()"
      ]
    },
    {
      "cell_type": "code",
      "execution_count": 36,
      "id": "3puv0HQZ2Zgj",
      "metadata": {
        "colab": {
          "base_uri": "https://localhost:8080/",
          "height": 206
        },
        "id": "3puv0HQZ2Zgj",
        "outputId": "bbeaebdb-83a5-4c35-c72c-e087844edbac"
      },
      "outputs": [
        {
          "data": {
            "text/html": [
              "\n",
              "  <div id=\"df-330882b4-4dc6-4e5b-a5b1-8da703d72b3f\">\n",
              "    <div class=\"colab-df-container\">\n",
              "      <div>\n",
              "<style scoped>\n",
              "    .dataframe tbody tr th:only-of-type {\n",
              "        vertical-align: middle;\n",
              "    }\n",
              "\n",
              "    .dataframe tbody tr th {\n",
              "        vertical-align: top;\n",
              "    }\n",
              "\n",
              "    .dataframe thead th {\n",
              "        text-align: right;\n",
              "    }\n",
              "</style>\n",
              "<table border=\"1\" class=\"dataframe\">\n",
              "  <thead>\n",
              "    <tr style=\"text-align: right;\">\n",
              "      <th></th>\n",
              "      <th>UDI</th>\n",
              "      <th>Product ID</th>\n",
              "      <th>Type</th>\n",
              "      <th>Air temperature [K]</th>\n",
              "      <th>Process temperature [K]</th>\n",
              "      <th>Rotational speed [rpm]</th>\n",
              "      <th>Torque [Nm]</th>\n",
              "      <th>Tool wear [min]</th>\n",
              "      <th>Target</th>\n",
              "      <th>Failure Type</th>\n",
              "    </tr>\n",
              "  </thead>\n",
              "  <tbody>\n",
              "    <tr>\n",
              "      <th>0</th>\n",
              "      <td>1</td>\n",
              "      <td>M14860</td>\n",
              "      <td>M</td>\n",
              "      <td>298.1</td>\n",
              "      <td>308.6</td>\n",
              "      <td>1551</td>\n",
              "      <td>42.8</td>\n",
              "      <td>0</td>\n",
              "      <td>0</td>\n",
              "      <td>No Failure</td>\n",
              "    </tr>\n",
              "    <tr>\n",
              "      <th>1</th>\n",
              "      <td>2</td>\n",
              "      <td>L47181</td>\n",
              "      <td>L</td>\n",
              "      <td>298.2</td>\n",
              "      <td>308.7</td>\n",
              "      <td>1408</td>\n",
              "      <td>46.3</td>\n",
              "      <td>3</td>\n",
              "      <td>0</td>\n",
              "      <td>No Failure</td>\n",
              "    </tr>\n",
              "    <tr>\n",
              "      <th>2</th>\n",
              "      <td>3</td>\n",
              "      <td>L47182</td>\n",
              "      <td>L</td>\n",
              "      <td>298.1</td>\n",
              "      <td>308.5</td>\n",
              "      <td>1498</td>\n",
              "      <td>49.4</td>\n",
              "      <td>5</td>\n",
              "      <td>0</td>\n",
              "      <td>No Failure</td>\n",
              "    </tr>\n",
              "    <tr>\n",
              "      <th>3</th>\n",
              "      <td>4</td>\n",
              "      <td>L47183</td>\n",
              "      <td>L</td>\n",
              "      <td>298.2</td>\n",
              "      <td>308.6</td>\n",
              "      <td>1433</td>\n",
              "      <td>39.5</td>\n",
              "      <td>7</td>\n",
              "      <td>0</td>\n",
              "      <td>No Failure</td>\n",
              "    </tr>\n",
              "    <tr>\n",
              "      <th>4</th>\n",
              "      <td>5</td>\n",
              "      <td>L47184</td>\n",
              "      <td>L</td>\n",
              "      <td>298.2</td>\n",
              "      <td>308.7</td>\n",
              "      <td>1408</td>\n",
              "      <td>40.0</td>\n",
              "      <td>9</td>\n",
              "      <td>0</td>\n",
              "      <td>No Failure</td>\n",
              "    </tr>\n",
              "  </tbody>\n",
              "</table>\n",
              "</div>\n",
              "      <button class=\"colab-df-convert\" onclick=\"convertToInteractive('df-330882b4-4dc6-4e5b-a5b1-8da703d72b3f')\"\n",
              "              title=\"Convert this dataframe to an interactive table.\"\n",
              "              style=\"display:none;\">\n",
              "        \n",
              "  <svg xmlns=\"http://www.w3.org/2000/svg\" height=\"24px\"viewBox=\"0 0 24 24\"\n",
              "       width=\"24px\">\n",
              "    <path d=\"M0 0h24v24H0V0z\" fill=\"none\"/>\n",
              "    <path d=\"M18.56 5.44l.94 2.06.94-2.06 2.06-.94-2.06-.94-.94-2.06-.94 2.06-2.06.94zm-11 1L8.5 8.5l.94-2.06 2.06-.94-2.06-.94L8.5 2.5l-.94 2.06-2.06.94zm10 10l.94 2.06.94-2.06 2.06-.94-2.06-.94-.94-2.06-.94 2.06-2.06.94z\"/><path d=\"M17.41 7.96l-1.37-1.37c-.4-.4-.92-.59-1.43-.59-.52 0-1.04.2-1.43.59L10.3 9.45l-7.72 7.72c-.78.78-.78 2.05 0 2.83L4 21.41c.39.39.9.59 1.41.59.51 0 1.02-.2 1.41-.59l7.78-7.78 2.81-2.81c.8-.78.8-2.07 0-2.86zM5.41 20L4 18.59l7.72-7.72 1.47 1.35L5.41 20z\"/>\n",
              "  </svg>\n",
              "      </button>\n",
              "      \n",
              "  <style>\n",
              "    .colab-df-container {\n",
              "      display:flex;\n",
              "      flex-wrap:wrap;\n",
              "      gap: 12px;\n",
              "    }\n",
              "\n",
              "    .colab-df-convert {\n",
              "      background-color: #E8F0FE;\n",
              "      border: none;\n",
              "      border-radius: 50%;\n",
              "      cursor: pointer;\n",
              "      display: none;\n",
              "      fill: #1967D2;\n",
              "      height: 32px;\n",
              "      padding: 0 0 0 0;\n",
              "      width: 32px;\n",
              "    }\n",
              "\n",
              "    .colab-df-convert:hover {\n",
              "      background-color: #E2EBFA;\n",
              "      box-shadow: 0px 1px 2px rgba(60, 64, 67, 0.3), 0px 1px 3px 1px rgba(60, 64, 67, 0.15);\n",
              "      fill: #174EA6;\n",
              "    }\n",
              "\n",
              "    [theme=dark] .colab-df-convert {\n",
              "      background-color: #3B4455;\n",
              "      fill: #D2E3FC;\n",
              "    }\n",
              "\n",
              "    [theme=dark] .colab-df-convert:hover {\n",
              "      background-color: #434B5C;\n",
              "      box-shadow: 0px 1px 3px 1px rgba(0, 0, 0, 0.15);\n",
              "      filter: drop-shadow(0px 1px 2px rgba(0, 0, 0, 0.3));\n",
              "      fill: #FFFFFF;\n",
              "    }\n",
              "  </style>\n",
              "\n",
              "      <script>\n",
              "        const buttonEl =\n",
              "          document.querySelector('#df-330882b4-4dc6-4e5b-a5b1-8da703d72b3f button.colab-df-convert');\n",
              "        buttonEl.style.display =\n",
              "          google.colab.kernel.accessAllowed ? 'block' : 'none';\n",
              "\n",
              "        async function convertToInteractive(key) {\n",
              "          const element = document.querySelector('#df-330882b4-4dc6-4e5b-a5b1-8da703d72b3f');\n",
              "          const dataTable =\n",
              "            await google.colab.kernel.invokeFunction('convertToInteractive',\n",
              "                                                     [key], {});\n",
              "          if (!dataTable) return;\n",
              "\n",
              "          const docLinkHtml = 'Like what you see? Visit the ' +\n",
              "            '<a target=\"_blank\" href=https://colab.research.google.com/notebooks/data_table.ipynb>data table notebook</a>'\n",
              "            + ' to learn more about interactive tables.';\n",
              "          element.innerHTML = '';\n",
              "          dataTable['output_type'] = 'display_data';\n",
              "          await google.colab.output.renderOutput(dataTable, element);\n",
              "          const docLink = document.createElement('div');\n",
              "          docLink.innerHTML = docLinkHtml;\n",
              "          element.appendChild(docLink);\n",
              "        }\n",
              "      </script>\n",
              "    </div>\n",
              "  </div>\n",
              "  "
            ],
            "text/plain": [
              "   UDI Product ID Type  Air temperature [K]  Process temperature [K]  \\\n",
              "0    1     M14860    M                298.1                    308.6   \n",
              "1    2     L47181    L                298.2                    308.7   \n",
              "2    3     L47182    L                298.1                    308.5   \n",
              "3    4     L47183    L                298.2                    308.6   \n",
              "4    5     L47184    L                298.2                    308.7   \n",
              "\n",
              "   Rotational speed [rpm]  Torque [Nm]  Tool wear [min]  Target Failure Type  \n",
              "0                    1551         42.8                0       0   No Failure  \n",
              "1                    1408         46.3                3       0   No Failure  \n",
              "2                    1498         49.4                5       0   No Failure  \n",
              "3                    1433         39.5                7       0   No Failure  \n",
              "4                    1408         40.0                9       0   No Failure  "
            ]
          },
          "execution_count": 36,
          "metadata": {},
          "output_type": "execute_result"
        }
      ],
      "source": [
        "data_df.head()"
      ]
    },
    {
      "cell_type": "markdown",
      "id": "4K7rZIZ72Zgj",
      "metadata": {
        "id": "4K7rZIZ72Zgj"
      },
      "source": [
        "We can clearly see we have the following categorical variables:\n",
        "1. Type\n",
        "2. Target\n",
        "3. Failure Type"
      ]
    },
    {
      "cell_type": "code",
      "execution_count": 37,
      "id": "XFYFQzCx2Zgj",
      "metadata": {
        "colab": {
          "base_uri": "https://localhost:8080/"
        },
        "id": "XFYFQzCx2Zgj",
        "outputId": "160182e6-943f-4e2a-8490-9a34b141945b"
      },
      "outputs": [
        {
          "data": {
            "text/plain": [
              "array(['M', 'L', 'H'], dtype=object)"
            ]
          },
          "execution_count": 37,
          "metadata": {},
          "output_type": "execute_result"
        }
      ],
      "source": [
        "data_df['Type'].unique()"
      ]
    },
    {
      "cell_type": "code",
      "execution_count": 38,
      "id": "AIL-SstD2Zgj",
      "metadata": {
        "colab": {
          "base_uri": "https://localhost:8080/"
        },
        "id": "AIL-SstD2Zgj",
        "outputId": "1019852e-6aaa-47fe-98bb-ba9f044b6fc3"
      },
      "outputs": [
        {
          "data": {
            "text/plain": [
              "array([0, 1])"
            ]
          },
          "execution_count": 38,
          "metadata": {},
          "output_type": "execute_result"
        }
      ],
      "source": [
        "data_df['Target'].unique()"
      ]
    },
    {
      "cell_type": "code",
      "execution_count": 39,
      "id": "kye4sPlS2Zgk",
      "metadata": {
        "colab": {
          "base_uri": "https://localhost:8080/"
        },
        "id": "kye4sPlS2Zgk",
        "outputId": "cb512710-2c4f-4d0c-fd84-41bd750fe4c3"
      },
      "outputs": [
        {
          "data": {
            "text/plain": [
              "array(['No Failure', 'Power Failure', 'Tool Wear Failure',\n",
              "       'Overstrain Failure', 'Random Failures',\n",
              "       'Heat Dissipation Failure'], dtype=object)"
            ]
          },
          "execution_count": 39,
          "metadata": {},
          "output_type": "execute_result"
        }
      ],
      "source": [
        "data_df['Failure Type'].unique()"
      ]
    },
    {
      "cell_type": "markdown",
      "id": "EnJTtoGx2Zgk",
      "metadata": {
        "id": "EnJTtoGx2Zgk"
      },
      "source": [
        "**Type** - Has no order we can apply one-hot encoding. <br>\n",
        "**Target** - It is already in encoded format. <br>\n",
        "**Failure Type** - This being our target variable we can apply label encoding. <br>"
      ]
    },
    {
      "cell_type": "markdown",
      "id": "YVqNHTxK2Zgk",
      "metadata": {
        "id": "YVqNHTxK2Zgk"
      },
      "source": [
        "**Type**"
      ]
    },
    {
      "cell_type": "code",
      "execution_count": 40,
      "id": "FddVsP5Q2Zgk",
      "metadata": {
        "colab": {
          "base_uri": "https://localhost:8080/"
        },
        "id": "FddVsP5Q2Zgk",
        "outputId": "1a398359-c102-4832-8de0-21d281e95ea0"
      },
      "outputs": [
        {
          "name": "stdout",
          "output_type": "stream",
          "text": [
            "   Type_L  Type_M\n",
            "0       0       1\n",
            "1       1       0\n",
            "2       1       0\n",
            "3       1       0\n",
            "4       1       0\n"
          ]
        }
      ],
      "source": [
        "y = pd.get_dummies(data_df.Type, prefix='Type', drop_first=True)\n",
        "print(y.head())"
      ]
    },
    {
      "cell_type": "code",
      "execution_count": 41,
      "id": "BLZv2Acb2Zgk",
      "metadata": {
        "id": "BLZv2Acb2Zgk"
      },
      "outputs": [],
      "source": [
        "#y.drop('Type_M', axis=1, inplace=True)"
      ]
    },
    {
      "cell_type": "code",
      "execution_count": 42,
      "id": "HugjUiCl2Zgk",
      "metadata": {
        "id": "HugjUiCl2Zgk"
      },
      "outputs": [],
      "source": [
        "data_df = data_df.join(y)"
      ]
    },
    {
      "cell_type": "code",
      "execution_count": 43,
      "id": "vDNfWvAd2Zgk",
      "metadata": {
        "colab": {
          "base_uri": "https://localhost:8080/",
          "height": 206
        },
        "id": "vDNfWvAd2Zgk",
        "outputId": "8bd30bfb-c19c-4ab4-a76a-da0910af5454"
      },
      "outputs": [
        {
          "data": {
            "text/html": [
              "\n",
              "  <div id=\"df-4c86c4dd-2ce5-4e9f-ae0b-0b4e41e4ff27\">\n",
              "    <div class=\"colab-df-container\">\n",
              "      <div>\n",
              "<style scoped>\n",
              "    .dataframe tbody tr th:only-of-type {\n",
              "        vertical-align: middle;\n",
              "    }\n",
              "\n",
              "    .dataframe tbody tr th {\n",
              "        vertical-align: top;\n",
              "    }\n",
              "\n",
              "    .dataframe thead th {\n",
              "        text-align: right;\n",
              "    }\n",
              "</style>\n",
              "<table border=\"1\" class=\"dataframe\">\n",
              "  <thead>\n",
              "    <tr style=\"text-align: right;\">\n",
              "      <th></th>\n",
              "      <th>UDI</th>\n",
              "      <th>Product ID</th>\n",
              "      <th>Type</th>\n",
              "      <th>Air temperature [K]</th>\n",
              "      <th>Process temperature [K]</th>\n",
              "      <th>Rotational speed [rpm]</th>\n",
              "      <th>Torque [Nm]</th>\n",
              "      <th>Tool wear [min]</th>\n",
              "      <th>Target</th>\n",
              "      <th>Failure Type</th>\n",
              "      <th>Type_L</th>\n",
              "      <th>Type_M</th>\n",
              "    </tr>\n",
              "  </thead>\n",
              "  <tbody>\n",
              "    <tr>\n",
              "      <th>0</th>\n",
              "      <td>1</td>\n",
              "      <td>M14860</td>\n",
              "      <td>M</td>\n",
              "      <td>298.1</td>\n",
              "      <td>308.6</td>\n",
              "      <td>1551</td>\n",
              "      <td>42.8</td>\n",
              "      <td>0</td>\n",
              "      <td>0</td>\n",
              "      <td>No Failure</td>\n",
              "      <td>0</td>\n",
              "      <td>1</td>\n",
              "    </tr>\n",
              "    <tr>\n",
              "      <th>1</th>\n",
              "      <td>2</td>\n",
              "      <td>L47181</td>\n",
              "      <td>L</td>\n",
              "      <td>298.2</td>\n",
              "      <td>308.7</td>\n",
              "      <td>1408</td>\n",
              "      <td>46.3</td>\n",
              "      <td>3</td>\n",
              "      <td>0</td>\n",
              "      <td>No Failure</td>\n",
              "      <td>1</td>\n",
              "      <td>0</td>\n",
              "    </tr>\n",
              "    <tr>\n",
              "      <th>2</th>\n",
              "      <td>3</td>\n",
              "      <td>L47182</td>\n",
              "      <td>L</td>\n",
              "      <td>298.1</td>\n",
              "      <td>308.5</td>\n",
              "      <td>1498</td>\n",
              "      <td>49.4</td>\n",
              "      <td>5</td>\n",
              "      <td>0</td>\n",
              "      <td>No Failure</td>\n",
              "      <td>1</td>\n",
              "      <td>0</td>\n",
              "    </tr>\n",
              "    <tr>\n",
              "      <th>3</th>\n",
              "      <td>4</td>\n",
              "      <td>L47183</td>\n",
              "      <td>L</td>\n",
              "      <td>298.2</td>\n",
              "      <td>308.6</td>\n",
              "      <td>1433</td>\n",
              "      <td>39.5</td>\n",
              "      <td>7</td>\n",
              "      <td>0</td>\n",
              "      <td>No Failure</td>\n",
              "      <td>1</td>\n",
              "      <td>0</td>\n",
              "    </tr>\n",
              "    <tr>\n",
              "      <th>4</th>\n",
              "      <td>5</td>\n",
              "      <td>L47184</td>\n",
              "      <td>L</td>\n",
              "      <td>298.2</td>\n",
              "      <td>308.7</td>\n",
              "      <td>1408</td>\n",
              "      <td>40.0</td>\n",
              "      <td>9</td>\n",
              "      <td>0</td>\n",
              "      <td>No Failure</td>\n",
              "      <td>1</td>\n",
              "      <td>0</td>\n",
              "    </tr>\n",
              "  </tbody>\n",
              "</table>\n",
              "</div>\n",
              "      <button class=\"colab-df-convert\" onclick=\"convertToInteractive('df-4c86c4dd-2ce5-4e9f-ae0b-0b4e41e4ff27')\"\n",
              "              title=\"Convert this dataframe to an interactive table.\"\n",
              "              style=\"display:none;\">\n",
              "        \n",
              "  <svg xmlns=\"http://www.w3.org/2000/svg\" height=\"24px\"viewBox=\"0 0 24 24\"\n",
              "       width=\"24px\">\n",
              "    <path d=\"M0 0h24v24H0V0z\" fill=\"none\"/>\n",
              "    <path d=\"M18.56 5.44l.94 2.06.94-2.06 2.06-.94-2.06-.94-.94-2.06-.94 2.06-2.06.94zm-11 1L8.5 8.5l.94-2.06 2.06-.94-2.06-.94L8.5 2.5l-.94 2.06-2.06.94zm10 10l.94 2.06.94-2.06 2.06-.94-2.06-.94-.94-2.06-.94 2.06-2.06.94z\"/><path d=\"M17.41 7.96l-1.37-1.37c-.4-.4-.92-.59-1.43-.59-.52 0-1.04.2-1.43.59L10.3 9.45l-7.72 7.72c-.78.78-.78 2.05 0 2.83L4 21.41c.39.39.9.59 1.41.59.51 0 1.02-.2 1.41-.59l7.78-7.78 2.81-2.81c.8-.78.8-2.07 0-2.86zM5.41 20L4 18.59l7.72-7.72 1.47 1.35L5.41 20z\"/>\n",
              "  </svg>\n",
              "      </button>\n",
              "      \n",
              "  <style>\n",
              "    .colab-df-container {\n",
              "      display:flex;\n",
              "      flex-wrap:wrap;\n",
              "      gap: 12px;\n",
              "    }\n",
              "\n",
              "    .colab-df-convert {\n",
              "      background-color: #E8F0FE;\n",
              "      border: none;\n",
              "      border-radius: 50%;\n",
              "      cursor: pointer;\n",
              "      display: none;\n",
              "      fill: #1967D2;\n",
              "      height: 32px;\n",
              "      padding: 0 0 0 0;\n",
              "      width: 32px;\n",
              "    }\n",
              "\n",
              "    .colab-df-convert:hover {\n",
              "      background-color: #E2EBFA;\n",
              "      box-shadow: 0px 1px 2px rgba(60, 64, 67, 0.3), 0px 1px 3px 1px rgba(60, 64, 67, 0.15);\n",
              "      fill: #174EA6;\n",
              "    }\n",
              "\n",
              "    [theme=dark] .colab-df-convert {\n",
              "      background-color: #3B4455;\n",
              "      fill: #D2E3FC;\n",
              "    }\n",
              "\n",
              "    [theme=dark] .colab-df-convert:hover {\n",
              "      background-color: #434B5C;\n",
              "      box-shadow: 0px 1px 3px 1px rgba(0, 0, 0, 0.15);\n",
              "      filter: drop-shadow(0px 1px 2px rgba(0, 0, 0, 0.3));\n",
              "      fill: #FFFFFF;\n",
              "    }\n",
              "  </style>\n",
              "\n",
              "      <script>\n",
              "        const buttonEl =\n",
              "          document.querySelector('#df-4c86c4dd-2ce5-4e9f-ae0b-0b4e41e4ff27 button.colab-df-convert');\n",
              "        buttonEl.style.display =\n",
              "          google.colab.kernel.accessAllowed ? 'block' : 'none';\n",
              "\n",
              "        async function convertToInteractive(key) {\n",
              "          const element = document.querySelector('#df-4c86c4dd-2ce5-4e9f-ae0b-0b4e41e4ff27');\n",
              "          const dataTable =\n",
              "            await google.colab.kernel.invokeFunction('convertToInteractive',\n",
              "                                                     [key], {});\n",
              "          if (!dataTable) return;\n",
              "\n",
              "          const docLinkHtml = 'Like what you see? Visit the ' +\n",
              "            '<a target=\"_blank\" href=https://colab.research.google.com/notebooks/data_table.ipynb>data table notebook</a>'\n",
              "            + ' to learn more about interactive tables.';\n",
              "          element.innerHTML = '';\n",
              "          dataTable['output_type'] = 'display_data';\n",
              "          await google.colab.output.renderOutput(dataTable, element);\n",
              "          const docLink = document.createElement('div');\n",
              "          docLink.innerHTML = docLinkHtml;\n",
              "          element.appendChild(docLink);\n",
              "        }\n",
              "      </script>\n",
              "    </div>\n",
              "  </div>\n",
              "  "
            ],
            "text/plain": [
              "   UDI Product ID Type  Air temperature [K]  Process temperature [K]  \\\n",
              "0    1     M14860    M                298.1                    308.6   \n",
              "1    2     L47181    L                298.2                    308.7   \n",
              "2    3     L47182    L                298.1                    308.5   \n",
              "3    4     L47183    L                298.2                    308.6   \n",
              "4    5     L47184    L                298.2                    308.7   \n",
              "\n",
              "   Rotational speed [rpm]  Torque [Nm]  Tool wear [min]  Target Failure Type  \\\n",
              "0                    1551         42.8                0       0   No Failure   \n",
              "1                    1408         46.3                3       0   No Failure   \n",
              "2                    1498         49.4                5       0   No Failure   \n",
              "3                    1433         39.5                7       0   No Failure   \n",
              "4                    1408         40.0                9       0   No Failure   \n",
              "\n",
              "   Type_L  Type_M  \n",
              "0       0       1  \n",
              "1       1       0  \n",
              "2       1       0  \n",
              "3       1       0  \n",
              "4       1       0  "
            ]
          },
          "execution_count": 43,
          "metadata": {},
          "output_type": "execute_result"
        }
      ],
      "source": [
        "data_df.head()"
      ]
    },
    {
      "cell_type": "code",
      "execution_count": 44,
      "id": "ln8-a4uj2Zgl",
      "metadata": {
        "id": "ln8-a4uj2Zgl"
      },
      "outputs": [],
      "source": [
        "data_df.drop(['Type'], axis=1, inplace=True)"
      ]
    },
    {
      "cell_type": "code",
      "execution_count": 45,
      "id": "b1KKYpLa2Zgn",
      "metadata": {
        "colab": {
          "base_uri": "https://localhost:8080/",
          "height": 206
        },
        "id": "b1KKYpLa2Zgn",
        "outputId": "66cb63ec-de3e-4c74-fcf7-cade6a2d3a51"
      },
      "outputs": [
        {
          "data": {
            "text/html": [
              "\n",
              "  <div id=\"df-a5374566-61e0-4657-b9ff-099c2742d0bd\">\n",
              "    <div class=\"colab-df-container\">\n",
              "      <div>\n",
              "<style scoped>\n",
              "    .dataframe tbody tr th:only-of-type {\n",
              "        vertical-align: middle;\n",
              "    }\n",
              "\n",
              "    .dataframe tbody tr th {\n",
              "        vertical-align: top;\n",
              "    }\n",
              "\n",
              "    .dataframe thead th {\n",
              "        text-align: right;\n",
              "    }\n",
              "</style>\n",
              "<table border=\"1\" class=\"dataframe\">\n",
              "  <thead>\n",
              "    <tr style=\"text-align: right;\">\n",
              "      <th></th>\n",
              "      <th>UDI</th>\n",
              "      <th>Product ID</th>\n",
              "      <th>Air temperature [K]</th>\n",
              "      <th>Process temperature [K]</th>\n",
              "      <th>Rotational speed [rpm]</th>\n",
              "      <th>Torque [Nm]</th>\n",
              "      <th>Tool wear [min]</th>\n",
              "      <th>Target</th>\n",
              "      <th>Failure Type</th>\n",
              "      <th>Type_L</th>\n",
              "      <th>Type_M</th>\n",
              "    </tr>\n",
              "  </thead>\n",
              "  <tbody>\n",
              "    <tr>\n",
              "      <th>0</th>\n",
              "      <td>1</td>\n",
              "      <td>M14860</td>\n",
              "      <td>298.1</td>\n",
              "      <td>308.6</td>\n",
              "      <td>1551</td>\n",
              "      <td>42.8</td>\n",
              "      <td>0</td>\n",
              "      <td>0</td>\n",
              "      <td>No Failure</td>\n",
              "      <td>0</td>\n",
              "      <td>1</td>\n",
              "    </tr>\n",
              "    <tr>\n",
              "      <th>1</th>\n",
              "      <td>2</td>\n",
              "      <td>L47181</td>\n",
              "      <td>298.2</td>\n",
              "      <td>308.7</td>\n",
              "      <td>1408</td>\n",
              "      <td>46.3</td>\n",
              "      <td>3</td>\n",
              "      <td>0</td>\n",
              "      <td>No Failure</td>\n",
              "      <td>1</td>\n",
              "      <td>0</td>\n",
              "    </tr>\n",
              "    <tr>\n",
              "      <th>2</th>\n",
              "      <td>3</td>\n",
              "      <td>L47182</td>\n",
              "      <td>298.1</td>\n",
              "      <td>308.5</td>\n",
              "      <td>1498</td>\n",
              "      <td>49.4</td>\n",
              "      <td>5</td>\n",
              "      <td>0</td>\n",
              "      <td>No Failure</td>\n",
              "      <td>1</td>\n",
              "      <td>0</td>\n",
              "    </tr>\n",
              "    <tr>\n",
              "      <th>3</th>\n",
              "      <td>4</td>\n",
              "      <td>L47183</td>\n",
              "      <td>298.2</td>\n",
              "      <td>308.6</td>\n",
              "      <td>1433</td>\n",
              "      <td>39.5</td>\n",
              "      <td>7</td>\n",
              "      <td>0</td>\n",
              "      <td>No Failure</td>\n",
              "      <td>1</td>\n",
              "      <td>0</td>\n",
              "    </tr>\n",
              "    <tr>\n",
              "      <th>4</th>\n",
              "      <td>5</td>\n",
              "      <td>L47184</td>\n",
              "      <td>298.2</td>\n",
              "      <td>308.7</td>\n",
              "      <td>1408</td>\n",
              "      <td>40.0</td>\n",
              "      <td>9</td>\n",
              "      <td>0</td>\n",
              "      <td>No Failure</td>\n",
              "      <td>1</td>\n",
              "      <td>0</td>\n",
              "    </tr>\n",
              "  </tbody>\n",
              "</table>\n",
              "</div>\n",
              "      <button class=\"colab-df-convert\" onclick=\"convertToInteractive('df-a5374566-61e0-4657-b9ff-099c2742d0bd')\"\n",
              "              title=\"Convert this dataframe to an interactive table.\"\n",
              "              style=\"display:none;\">\n",
              "        \n",
              "  <svg xmlns=\"http://www.w3.org/2000/svg\" height=\"24px\"viewBox=\"0 0 24 24\"\n",
              "       width=\"24px\">\n",
              "    <path d=\"M0 0h24v24H0V0z\" fill=\"none\"/>\n",
              "    <path d=\"M18.56 5.44l.94 2.06.94-2.06 2.06-.94-2.06-.94-.94-2.06-.94 2.06-2.06.94zm-11 1L8.5 8.5l.94-2.06 2.06-.94-2.06-.94L8.5 2.5l-.94 2.06-2.06.94zm10 10l.94 2.06.94-2.06 2.06-.94-2.06-.94-.94-2.06-.94 2.06-2.06.94z\"/><path d=\"M17.41 7.96l-1.37-1.37c-.4-.4-.92-.59-1.43-.59-.52 0-1.04.2-1.43.59L10.3 9.45l-7.72 7.72c-.78.78-.78 2.05 0 2.83L4 21.41c.39.39.9.59 1.41.59.51 0 1.02-.2 1.41-.59l7.78-7.78 2.81-2.81c.8-.78.8-2.07 0-2.86zM5.41 20L4 18.59l7.72-7.72 1.47 1.35L5.41 20z\"/>\n",
              "  </svg>\n",
              "      </button>\n",
              "      \n",
              "  <style>\n",
              "    .colab-df-container {\n",
              "      display:flex;\n",
              "      flex-wrap:wrap;\n",
              "      gap: 12px;\n",
              "    }\n",
              "\n",
              "    .colab-df-convert {\n",
              "      background-color: #E8F0FE;\n",
              "      border: none;\n",
              "      border-radius: 50%;\n",
              "      cursor: pointer;\n",
              "      display: none;\n",
              "      fill: #1967D2;\n",
              "      height: 32px;\n",
              "      padding: 0 0 0 0;\n",
              "      width: 32px;\n",
              "    }\n",
              "\n",
              "    .colab-df-convert:hover {\n",
              "      background-color: #E2EBFA;\n",
              "      box-shadow: 0px 1px 2px rgba(60, 64, 67, 0.3), 0px 1px 3px 1px rgba(60, 64, 67, 0.15);\n",
              "      fill: #174EA6;\n",
              "    }\n",
              "\n",
              "    [theme=dark] .colab-df-convert {\n",
              "      background-color: #3B4455;\n",
              "      fill: #D2E3FC;\n",
              "    }\n",
              "\n",
              "    [theme=dark] .colab-df-convert:hover {\n",
              "      background-color: #434B5C;\n",
              "      box-shadow: 0px 1px 3px 1px rgba(0, 0, 0, 0.15);\n",
              "      filter: drop-shadow(0px 1px 2px rgba(0, 0, 0, 0.3));\n",
              "      fill: #FFFFFF;\n",
              "    }\n",
              "  </style>\n",
              "\n",
              "      <script>\n",
              "        const buttonEl =\n",
              "          document.querySelector('#df-a5374566-61e0-4657-b9ff-099c2742d0bd button.colab-df-convert');\n",
              "        buttonEl.style.display =\n",
              "          google.colab.kernel.accessAllowed ? 'block' : 'none';\n",
              "\n",
              "        async function convertToInteractive(key) {\n",
              "          const element = document.querySelector('#df-a5374566-61e0-4657-b9ff-099c2742d0bd');\n",
              "          const dataTable =\n",
              "            await google.colab.kernel.invokeFunction('convertToInteractive',\n",
              "                                                     [key], {});\n",
              "          if (!dataTable) return;\n",
              "\n",
              "          const docLinkHtml = 'Like what you see? Visit the ' +\n",
              "            '<a target=\"_blank\" href=https://colab.research.google.com/notebooks/data_table.ipynb>data table notebook</a>'\n",
              "            + ' to learn more about interactive tables.';\n",
              "          element.innerHTML = '';\n",
              "          dataTable['output_type'] = 'display_data';\n",
              "          await google.colab.output.renderOutput(dataTable, element);\n",
              "          const docLink = document.createElement('div');\n",
              "          docLink.innerHTML = docLinkHtml;\n",
              "          element.appendChild(docLink);\n",
              "        }\n",
              "      </script>\n",
              "    </div>\n",
              "  </div>\n",
              "  "
            ],
            "text/plain": [
              "   UDI Product ID  Air temperature [K]  Process temperature [K]  \\\n",
              "0    1     M14860                298.1                    308.6   \n",
              "1    2     L47181                298.2                    308.7   \n",
              "2    3     L47182                298.1                    308.5   \n",
              "3    4     L47183                298.2                    308.6   \n",
              "4    5     L47184                298.2                    308.7   \n",
              "\n",
              "   Rotational speed [rpm]  Torque [Nm]  Tool wear [min]  Target Failure Type  \\\n",
              "0                    1551         42.8                0       0   No Failure   \n",
              "1                    1408         46.3                3       0   No Failure   \n",
              "2                    1498         49.4                5       0   No Failure   \n",
              "3                    1433         39.5                7       0   No Failure   \n",
              "4                    1408         40.0                9       0   No Failure   \n",
              "\n",
              "   Type_L  Type_M  \n",
              "0       0       1  \n",
              "1       1       0  \n",
              "2       1       0  \n",
              "3       1       0  \n",
              "4       1       0  "
            ]
          },
          "execution_count": 45,
          "metadata": {},
          "output_type": "execute_result"
        }
      ],
      "source": [
        "data_df.head()"
      ]
    },
    {
      "cell_type": "markdown",
      "id": "o3QjIYOh2Zgo",
      "metadata": {
        "id": "o3QjIYOh2Zgo"
      },
      "source": [
        "**Failure Type**"
      ]
    },
    {
      "cell_type": "code",
      "execution_count": 46,
      "id": "_tv3HeIX2Zgo",
      "metadata": {
        "id": "_tv3HeIX2Zgo"
      },
      "outputs": [],
      "source": [
        "label_encoder = LabelEncoder()"
      ]
    },
    {
      "cell_type": "code",
      "execution_count": 47,
      "id": "GfzVZWBO2Zgo",
      "metadata": {
        "id": "GfzVZWBO2Zgo"
      },
      "outputs": [],
      "source": [
        "data_df['Failure Type']= label_encoder.fit_transform(data_df['Failure Type'])"
      ]
    },
    {
      "cell_type": "code",
      "execution_count": 48,
      "id": "OE6Ymj_W2Zgo",
      "metadata": {
        "colab": {
          "base_uri": "https://localhost:8080/",
          "height": 206
        },
        "id": "OE6Ymj_W2Zgo",
        "outputId": "67bc72fc-cfd8-4bea-8bec-3b8793dce3ff"
      },
      "outputs": [
        {
          "data": {
            "text/html": [
              "\n",
              "  <div id=\"df-30da0b4d-0923-47cb-b6df-733f252984a3\">\n",
              "    <div class=\"colab-df-container\">\n",
              "      <div>\n",
              "<style scoped>\n",
              "    .dataframe tbody tr th:only-of-type {\n",
              "        vertical-align: middle;\n",
              "    }\n",
              "\n",
              "    .dataframe tbody tr th {\n",
              "        vertical-align: top;\n",
              "    }\n",
              "\n",
              "    .dataframe thead th {\n",
              "        text-align: right;\n",
              "    }\n",
              "</style>\n",
              "<table border=\"1\" class=\"dataframe\">\n",
              "  <thead>\n",
              "    <tr style=\"text-align: right;\">\n",
              "      <th></th>\n",
              "      <th>UDI</th>\n",
              "      <th>Product ID</th>\n",
              "      <th>Air temperature [K]</th>\n",
              "      <th>Process temperature [K]</th>\n",
              "      <th>Rotational speed [rpm]</th>\n",
              "      <th>Torque [Nm]</th>\n",
              "      <th>Tool wear [min]</th>\n",
              "      <th>Target</th>\n",
              "      <th>Failure Type</th>\n",
              "      <th>Type_L</th>\n",
              "      <th>Type_M</th>\n",
              "    </tr>\n",
              "  </thead>\n",
              "  <tbody>\n",
              "    <tr>\n",
              "      <th>0</th>\n",
              "      <td>1</td>\n",
              "      <td>M14860</td>\n",
              "      <td>298.1</td>\n",
              "      <td>308.6</td>\n",
              "      <td>1551</td>\n",
              "      <td>42.8</td>\n",
              "      <td>0</td>\n",
              "      <td>0</td>\n",
              "      <td>1</td>\n",
              "      <td>0</td>\n",
              "      <td>1</td>\n",
              "    </tr>\n",
              "    <tr>\n",
              "      <th>1</th>\n",
              "      <td>2</td>\n",
              "      <td>L47181</td>\n",
              "      <td>298.2</td>\n",
              "      <td>308.7</td>\n",
              "      <td>1408</td>\n",
              "      <td>46.3</td>\n",
              "      <td>3</td>\n",
              "      <td>0</td>\n",
              "      <td>1</td>\n",
              "      <td>1</td>\n",
              "      <td>0</td>\n",
              "    </tr>\n",
              "    <tr>\n",
              "      <th>2</th>\n",
              "      <td>3</td>\n",
              "      <td>L47182</td>\n",
              "      <td>298.1</td>\n",
              "      <td>308.5</td>\n",
              "      <td>1498</td>\n",
              "      <td>49.4</td>\n",
              "      <td>5</td>\n",
              "      <td>0</td>\n",
              "      <td>1</td>\n",
              "      <td>1</td>\n",
              "      <td>0</td>\n",
              "    </tr>\n",
              "    <tr>\n",
              "      <th>3</th>\n",
              "      <td>4</td>\n",
              "      <td>L47183</td>\n",
              "      <td>298.2</td>\n",
              "      <td>308.6</td>\n",
              "      <td>1433</td>\n",
              "      <td>39.5</td>\n",
              "      <td>7</td>\n",
              "      <td>0</td>\n",
              "      <td>1</td>\n",
              "      <td>1</td>\n",
              "      <td>0</td>\n",
              "    </tr>\n",
              "    <tr>\n",
              "      <th>4</th>\n",
              "      <td>5</td>\n",
              "      <td>L47184</td>\n",
              "      <td>298.2</td>\n",
              "      <td>308.7</td>\n",
              "      <td>1408</td>\n",
              "      <td>40.0</td>\n",
              "      <td>9</td>\n",
              "      <td>0</td>\n",
              "      <td>1</td>\n",
              "      <td>1</td>\n",
              "      <td>0</td>\n",
              "    </tr>\n",
              "  </tbody>\n",
              "</table>\n",
              "</div>\n",
              "      <button class=\"colab-df-convert\" onclick=\"convertToInteractive('df-30da0b4d-0923-47cb-b6df-733f252984a3')\"\n",
              "              title=\"Convert this dataframe to an interactive table.\"\n",
              "              style=\"display:none;\">\n",
              "        \n",
              "  <svg xmlns=\"http://www.w3.org/2000/svg\" height=\"24px\"viewBox=\"0 0 24 24\"\n",
              "       width=\"24px\">\n",
              "    <path d=\"M0 0h24v24H0V0z\" fill=\"none\"/>\n",
              "    <path d=\"M18.56 5.44l.94 2.06.94-2.06 2.06-.94-2.06-.94-.94-2.06-.94 2.06-2.06.94zm-11 1L8.5 8.5l.94-2.06 2.06-.94-2.06-.94L8.5 2.5l-.94 2.06-2.06.94zm10 10l.94 2.06.94-2.06 2.06-.94-2.06-.94-.94-2.06-.94 2.06-2.06.94z\"/><path d=\"M17.41 7.96l-1.37-1.37c-.4-.4-.92-.59-1.43-.59-.52 0-1.04.2-1.43.59L10.3 9.45l-7.72 7.72c-.78.78-.78 2.05 0 2.83L4 21.41c.39.39.9.59 1.41.59.51 0 1.02-.2 1.41-.59l7.78-7.78 2.81-2.81c.8-.78.8-2.07 0-2.86zM5.41 20L4 18.59l7.72-7.72 1.47 1.35L5.41 20z\"/>\n",
              "  </svg>\n",
              "      </button>\n",
              "      \n",
              "  <style>\n",
              "    .colab-df-container {\n",
              "      display:flex;\n",
              "      flex-wrap:wrap;\n",
              "      gap: 12px;\n",
              "    }\n",
              "\n",
              "    .colab-df-convert {\n",
              "      background-color: #E8F0FE;\n",
              "      border: none;\n",
              "      border-radius: 50%;\n",
              "      cursor: pointer;\n",
              "      display: none;\n",
              "      fill: #1967D2;\n",
              "      height: 32px;\n",
              "      padding: 0 0 0 0;\n",
              "      width: 32px;\n",
              "    }\n",
              "\n",
              "    .colab-df-convert:hover {\n",
              "      background-color: #E2EBFA;\n",
              "      box-shadow: 0px 1px 2px rgba(60, 64, 67, 0.3), 0px 1px 3px 1px rgba(60, 64, 67, 0.15);\n",
              "      fill: #174EA6;\n",
              "    }\n",
              "\n",
              "    [theme=dark] .colab-df-convert {\n",
              "      background-color: #3B4455;\n",
              "      fill: #D2E3FC;\n",
              "    }\n",
              "\n",
              "    [theme=dark] .colab-df-convert:hover {\n",
              "      background-color: #434B5C;\n",
              "      box-shadow: 0px 1px 3px 1px rgba(0, 0, 0, 0.15);\n",
              "      filter: drop-shadow(0px 1px 2px rgba(0, 0, 0, 0.3));\n",
              "      fill: #FFFFFF;\n",
              "    }\n",
              "  </style>\n",
              "\n",
              "      <script>\n",
              "        const buttonEl =\n",
              "          document.querySelector('#df-30da0b4d-0923-47cb-b6df-733f252984a3 button.colab-df-convert');\n",
              "        buttonEl.style.display =\n",
              "          google.colab.kernel.accessAllowed ? 'block' : 'none';\n",
              "\n",
              "        async function convertToInteractive(key) {\n",
              "          const element = document.querySelector('#df-30da0b4d-0923-47cb-b6df-733f252984a3');\n",
              "          const dataTable =\n",
              "            await google.colab.kernel.invokeFunction('convertToInteractive',\n",
              "                                                     [key], {});\n",
              "          if (!dataTable) return;\n",
              "\n",
              "          const docLinkHtml = 'Like what you see? Visit the ' +\n",
              "            '<a target=\"_blank\" href=https://colab.research.google.com/notebooks/data_table.ipynb>data table notebook</a>'\n",
              "            + ' to learn more about interactive tables.';\n",
              "          element.innerHTML = '';\n",
              "          dataTable['output_type'] = 'display_data';\n",
              "          await google.colab.output.renderOutput(dataTable, element);\n",
              "          const docLink = document.createElement('div');\n",
              "          docLink.innerHTML = docLinkHtml;\n",
              "          element.appendChild(docLink);\n",
              "        }\n",
              "      </script>\n",
              "    </div>\n",
              "  </div>\n",
              "  "
            ],
            "text/plain": [
              "   UDI Product ID  Air temperature [K]  Process temperature [K]  \\\n",
              "0    1     M14860                298.1                    308.6   \n",
              "1    2     L47181                298.2                    308.7   \n",
              "2    3     L47182                298.1                    308.5   \n",
              "3    4     L47183                298.2                    308.6   \n",
              "4    5     L47184                298.2                    308.7   \n",
              "\n",
              "   Rotational speed [rpm]  Torque [Nm]  Tool wear [min]  Target  Failure Type  \\\n",
              "0                    1551         42.8                0       0             1   \n",
              "1                    1408         46.3                3       0             1   \n",
              "2                    1498         49.4                5       0             1   \n",
              "3                    1433         39.5                7       0             1   \n",
              "4                    1408         40.0                9       0             1   \n",
              "\n",
              "   Type_L  Type_M  \n",
              "0       0       1  \n",
              "1       1       0  \n",
              "2       1       0  \n",
              "3       1       0  \n",
              "4       1       0  "
            ]
          },
          "execution_count": 48,
          "metadata": {},
          "output_type": "execute_result"
        }
      ],
      "source": [
        "data_df.head()"
      ]
    },
    {
      "cell_type": "markdown",
      "id": "ae5a2917",
      "metadata": {
        "id": "ae5a2917"
      },
      "source": [
        "## 3.4 Text data\n",
        "\n",
        "1. Remove special characters\n",
        "2. Change the case (up-casing and down-casing).\n",
        "3. Tokenization — process of discretizing words within a document.\n",
        "4. Filter Stop Words."
      ]
    },
    {
      "cell_type": "code",
      "execution_count": 49,
      "id": "c86d5b0b",
      "metadata": {
        "id": "c86d5b0b"
      },
      "outputs": [],
      "source": [
        "##---------Type the code below this line------------------##"
      ]
    },
    {
      "cell_type": "code",
      "execution_count": 50,
      "id": "a3b2cdee",
      "metadata": {
        "id": "a3b2cdee"
      },
      "outputs": [],
      "source": [
        "##---------Type the code below this line------------------##"
      ]
    },
    {
      "cell_type": "markdown",
      "id": "e3cec4fc",
      "metadata": {
        "id": "e3cec4fc"
      },
      "source": [
        "## 3.4 Report\n",
        "\n",
        "Mention and justify the method adopted \n",
        "* to remove duplicate data, if present \n",
        "* to impute or remove missing data, if present \n",
        "* to remove data inconsistencies, if present \n",
        "\n",
        "OR for textdata\n",
        "* How many tokens after step 3?\n",
        "* how may tokens after stop words filtering?\n",
        "\n",
        "If the any of the above are not present, then also add in the report below.\n",
        "\n",
        "Score: 2 Marks (based on the dataset you have, the data prepreation you had to do and report typed, marks will be distributed between 3.1, 3.2, 3.3 and 3.4)"
      ]
    },
    {
      "cell_type": "code",
      "execution_count": 51,
      "id": "3ab84ce6",
      "metadata": {
        "id": "3ab84ce6"
      },
      "outputs": [],
      "source": [
        "##---------Type the code below this line------------------##"
      ]
    },
    {
      "cell_type": "code",
      "execution_count": 52,
      "id": "f0fea7e8",
      "metadata": {
        "id": "f0fea7e8"
      },
      "outputs": [],
      "source": [
        "##---------Type the code below this line------------------##"
      ]
    },
    {
      "cell_type": "markdown",
      "id": "Xni5q1af2Zgq",
      "metadata": {
        "id": "Xni5q1af2Zgq"
      },
      "source": [
        "**To remove duplicate data**\n",
        "\n",
        "While using the duplicated function we have not used the 'subset' parameter, which means the complete rows are duplicate. <br>\n",
        "Secondly, if we see the data, we have a column UDI, which kind of acts as a serial number for the observations. So now the duplicate date has the same serial number as well, so it is safe to delete the duplicate rows.  <br>\n",
        "We can keep the 1st occurance of the duplicate rows as all occurance are the same.\n",
        "\n",
        "**To impute or remove missing data**\n",
        "\n",
        "On analysis we found we have only 0.1% of data with missing rows,  <br>\n",
        "Now all these missing rows were from the same Failure Type(this column is our target variable) \"No Failure\", so we analysed how much percent of rows have missing data with Failure type as \"No Failure\". <br>\n",
        "We found these missing records contribute to 0.11% from the Failure Type \"No Failure.\n",
        "Hence we concluded that we can safely drop these rows. <br>\n",
        "\n",
        "**To remove data inconsistencies**\n",
        "\n",
        "From the box plot we could say that it is not just outlier but incorrect data, as the data is way too less in scale. (Below the lower bound). <br>\n",
        "As all records were in Kelvin(i.e. 289) and these inconsistent data were very less in scale(i.e. 24), so we checked if the data has **Data Confirmity** issue i.e. Data is inserted with different measurement unit.<br>\n",
        "Considering the inconsistent data to be in celsius (As the numbers were less in magnitude), we converted them to kelvin ( by adding 273.15 and found the results fit perfectly in the range, thus removing the Data Conformity issue."
      ]
    },
    {
      "cell_type": "markdown",
      "id": "793cd04b",
      "metadata": {
        "id": "793cd04b"
      },
      "source": [
        "## 3.5 Identify the target variables.\n",
        "\n",
        "* Separate the data from the target such that the dataset is in the form of (X,y) or (Features, Label)\n",
        "\n",
        "* Discretize / Encode the target variable or perform one-hot encoding on the target or any other as and if required.\n",
        "\n",
        "* Report the observations\n",
        "\n",
        "Score: 1 Mark"
      ]
    },
    {
      "cell_type": "code",
      "execution_count": 53,
      "id": "c9089b57",
      "metadata": {
        "id": "c9089b57"
      },
      "outputs": [],
      "source": [
        "##---------Type the code below this line------------------##"
      ]
    },
    {
      "cell_type": "code",
      "execution_count": 54,
      "id": "Tx_BG4xU2Zgq",
      "metadata": {
        "colab": {
          "base_uri": "https://localhost:8080/",
          "height": 112
        },
        "id": "Tx_BG4xU2Zgq",
        "outputId": "e227efdb-064f-4fc4-8634-09637854848d"
      },
      "outputs": [
        {
          "data": {
            "text/html": [
              "\n",
              "  <div id=\"df-ad47da36-b985-45c1-b92b-31ad5ca77c86\">\n",
              "    <div class=\"colab-df-container\">\n",
              "      <div>\n",
              "<style scoped>\n",
              "    .dataframe tbody tr th:only-of-type {\n",
              "        vertical-align: middle;\n",
              "    }\n",
              "\n",
              "    .dataframe tbody tr th {\n",
              "        vertical-align: top;\n",
              "    }\n",
              "\n",
              "    .dataframe thead th {\n",
              "        text-align: right;\n",
              "    }\n",
              "</style>\n",
              "<table border=\"1\" class=\"dataframe\">\n",
              "  <thead>\n",
              "    <tr style=\"text-align: right;\">\n",
              "      <th></th>\n",
              "      <th>UDI</th>\n",
              "      <th>Product ID</th>\n",
              "      <th>Air temperature [K]</th>\n",
              "      <th>Process temperature [K]</th>\n",
              "      <th>Rotational speed [rpm]</th>\n",
              "      <th>Torque [Nm]</th>\n",
              "      <th>Tool wear [min]</th>\n",
              "      <th>Target</th>\n",
              "      <th>Failure Type</th>\n",
              "      <th>Type_L</th>\n",
              "      <th>Type_M</th>\n",
              "    </tr>\n",
              "  </thead>\n",
              "  <tbody>\n",
              "    <tr>\n",
              "      <th>0</th>\n",
              "      <td>1</td>\n",
              "      <td>M14860</td>\n",
              "      <td>298.1</td>\n",
              "      <td>308.6</td>\n",
              "      <td>1551</td>\n",
              "      <td>42.8</td>\n",
              "      <td>0</td>\n",
              "      <td>0</td>\n",
              "      <td>1</td>\n",
              "      <td>0</td>\n",
              "      <td>1</td>\n",
              "    </tr>\n",
              "    <tr>\n",
              "      <th>1</th>\n",
              "      <td>2</td>\n",
              "      <td>L47181</td>\n",
              "      <td>298.2</td>\n",
              "      <td>308.7</td>\n",
              "      <td>1408</td>\n",
              "      <td>46.3</td>\n",
              "      <td>3</td>\n",
              "      <td>0</td>\n",
              "      <td>1</td>\n",
              "      <td>1</td>\n",
              "      <td>0</td>\n",
              "    </tr>\n",
              "  </tbody>\n",
              "</table>\n",
              "</div>\n",
              "      <button class=\"colab-df-convert\" onclick=\"convertToInteractive('df-ad47da36-b985-45c1-b92b-31ad5ca77c86')\"\n",
              "              title=\"Convert this dataframe to an interactive table.\"\n",
              "              style=\"display:none;\">\n",
              "        \n",
              "  <svg xmlns=\"http://www.w3.org/2000/svg\" height=\"24px\"viewBox=\"0 0 24 24\"\n",
              "       width=\"24px\">\n",
              "    <path d=\"M0 0h24v24H0V0z\" fill=\"none\"/>\n",
              "    <path d=\"M18.56 5.44l.94 2.06.94-2.06 2.06-.94-2.06-.94-.94-2.06-.94 2.06-2.06.94zm-11 1L8.5 8.5l.94-2.06 2.06-.94-2.06-.94L8.5 2.5l-.94 2.06-2.06.94zm10 10l.94 2.06.94-2.06 2.06-.94-2.06-.94-.94-2.06-.94 2.06-2.06.94z\"/><path d=\"M17.41 7.96l-1.37-1.37c-.4-.4-.92-.59-1.43-.59-.52 0-1.04.2-1.43.59L10.3 9.45l-7.72 7.72c-.78.78-.78 2.05 0 2.83L4 21.41c.39.39.9.59 1.41.59.51 0 1.02-.2 1.41-.59l7.78-7.78 2.81-2.81c.8-.78.8-2.07 0-2.86zM5.41 20L4 18.59l7.72-7.72 1.47 1.35L5.41 20z\"/>\n",
              "  </svg>\n",
              "      </button>\n",
              "      \n",
              "  <style>\n",
              "    .colab-df-container {\n",
              "      display:flex;\n",
              "      flex-wrap:wrap;\n",
              "      gap: 12px;\n",
              "    }\n",
              "\n",
              "    .colab-df-convert {\n",
              "      background-color: #E8F0FE;\n",
              "      border: none;\n",
              "      border-radius: 50%;\n",
              "      cursor: pointer;\n",
              "      display: none;\n",
              "      fill: #1967D2;\n",
              "      height: 32px;\n",
              "      padding: 0 0 0 0;\n",
              "      width: 32px;\n",
              "    }\n",
              "\n",
              "    .colab-df-convert:hover {\n",
              "      background-color: #E2EBFA;\n",
              "      box-shadow: 0px 1px 2px rgba(60, 64, 67, 0.3), 0px 1px 3px 1px rgba(60, 64, 67, 0.15);\n",
              "      fill: #174EA6;\n",
              "    }\n",
              "\n",
              "    [theme=dark] .colab-df-convert {\n",
              "      background-color: #3B4455;\n",
              "      fill: #D2E3FC;\n",
              "    }\n",
              "\n",
              "    [theme=dark] .colab-df-convert:hover {\n",
              "      background-color: #434B5C;\n",
              "      box-shadow: 0px 1px 3px 1px rgba(0, 0, 0, 0.15);\n",
              "      filter: drop-shadow(0px 1px 2px rgba(0, 0, 0, 0.3));\n",
              "      fill: #FFFFFF;\n",
              "    }\n",
              "  </style>\n",
              "\n",
              "      <script>\n",
              "        const buttonEl =\n",
              "          document.querySelector('#df-ad47da36-b985-45c1-b92b-31ad5ca77c86 button.colab-df-convert');\n",
              "        buttonEl.style.display =\n",
              "          google.colab.kernel.accessAllowed ? 'block' : 'none';\n",
              "\n",
              "        async function convertToInteractive(key) {\n",
              "          const element = document.querySelector('#df-ad47da36-b985-45c1-b92b-31ad5ca77c86');\n",
              "          const dataTable =\n",
              "            await google.colab.kernel.invokeFunction('convertToInteractive',\n",
              "                                                     [key], {});\n",
              "          if (!dataTable) return;\n",
              "\n",
              "          const docLinkHtml = 'Like what you see? Visit the ' +\n",
              "            '<a target=\"_blank\" href=https://colab.research.google.com/notebooks/data_table.ipynb>data table notebook</a>'\n",
              "            + ' to learn more about interactive tables.';\n",
              "          element.innerHTML = '';\n",
              "          dataTable['output_type'] = 'display_data';\n",
              "          await google.colab.output.renderOutput(dataTable, element);\n",
              "          const docLink = document.createElement('div');\n",
              "          docLink.innerHTML = docLinkHtml;\n",
              "          element.appendChild(docLink);\n",
              "        }\n",
              "      </script>\n",
              "    </div>\n",
              "  </div>\n",
              "  "
            ],
            "text/plain": [
              "   UDI Product ID  Air temperature [K]  Process temperature [K]  \\\n",
              "0    1     M14860                298.1                    308.6   \n",
              "1    2     L47181                298.2                    308.7   \n",
              "\n",
              "   Rotational speed [rpm]  Torque [Nm]  Tool wear [min]  Target  Failure Type  \\\n",
              "0                    1551         42.8                0       0             1   \n",
              "1                    1408         46.3                3       0             1   \n",
              "\n",
              "   Type_L  Type_M  \n",
              "0       0       1  \n",
              "1       1       0  "
            ]
          },
          "execution_count": 54,
          "metadata": {},
          "output_type": "execute_result"
        }
      ],
      "source": [
        "data_df.head(2)"
      ]
    },
    {
      "cell_type": "markdown",
      "id": "KSOgJ7Iv2Zgr",
      "metadata": {
        "id": "KSOgJ7Iv2Zgr"
      },
      "source": [
        "From the above table, we can see we have 2 columns that can be used as Target (y).\n",
        "1. Target - having value 0 and 1, which says if a failure has occurred. \n",
        "2. Failure Type - Which has the type of failure that has occurred.\n",
        "\n",
        "For this problem statement we shall use Failure Type as dependent variable(Target or y), as it specifies the type of failure when a failure occurs."
      ]
    },
    {
      "cell_type": "code",
      "execution_count": 55,
      "id": "ZVYJYmoU2Zgr",
      "metadata": {
        "id": "ZVYJYmoU2Zgr"
      },
      "outputs": [],
      "source": [
        "X = data_df[['Air temperature [K]', 'Type_M', 'Type_L', 'Process temperature [K]', 'Rotational speed [rpm]', 'Torque [Nm]', 'Tool wear [min]']]\n",
        "y = data_df['Failure Type']"
      ]
    },
    {
      "cell_type": "code",
      "execution_count": 56,
      "id": "3TYvRZer2Zgr",
      "metadata": {
        "colab": {
          "base_uri": "https://localhost:8080/",
          "height": 206
        },
        "id": "3TYvRZer2Zgr",
        "outputId": "a3cb0180-7015-4514-daec-2b9e237c5b11"
      },
      "outputs": [
        {
          "data": {
            "text/html": [
              "\n",
              "  <div id=\"df-e9088acf-fe34-42fa-a805-53f83ceb4059\">\n",
              "    <div class=\"colab-df-container\">\n",
              "      <div>\n",
              "<style scoped>\n",
              "    .dataframe tbody tr th:only-of-type {\n",
              "        vertical-align: middle;\n",
              "    }\n",
              "\n",
              "    .dataframe tbody tr th {\n",
              "        vertical-align: top;\n",
              "    }\n",
              "\n",
              "    .dataframe thead th {\n",
              "        text-align: right;\n",
              "    }\n",
              "</style>\n",
              "<table border=\"1\" class=\"dataframe\">\n",
              "  <thead>\n",
              "    <tr style=\"text-align: right;\">\n",
              "      <th></th>\n",
              "      <th>Air temperature [K]</th>\n",
              "      <th>Type_M</th>\n",
              "      <th>Type_L</th>\n",
              "      <th>Process temperature [K]</th>\n",
              "      <th>Rotational speed [rpm]</th>\n",
              "      <th>Torque [Nm]</th>\n",
              "      <th>Tool wear [min]</th>\n",
              "    </tr>\n",
              "  </thead>\n",
              "  <tbody>\n",
              "    <tr>\n",
              "      <th>0</th>\n",
              "      <td>298.1</td>\n",
              "      <td>1</td>\n",
              "      <td>0</td>\n",
              "      <td>308.6</td>\n",
              "      <td>1551</td>\n",
              "      <td>42.8</td>\n",
              "      <td>0</td>\n",
              "    </tr>\n",
              "    <tr>\n",
              "      <th>1</th>\n",
              "      <td>298.2</td>\n",
              "      <td>0</td>\n",
              "      <td>1</td>\n",
              "      <td>308.7</td>\n",
              "      <td>1408</td>\n",
              "      <td>46.3</td>\n",
              "      <td>3</td>\n",
              "    </tr>\n",
              "    <tr>\n",
              "      <th>2</th>\n",
              "      <td>298.1</td>\n",
              "      <td>0</td>\n",
              "      <td>1</td>\n",
              "      <td>308.5</td>\n",
              "      <td>1498</td>\n",
              "      <td>49.4</td>\n",
              "      <td>5</td>\n",
              "    </tr>\n",
              "    <tr>\n",
              "      <th>3</th>\n",
              "      <td>298.2</td>\n",
              "      <td>0</td>\n",
              "      <td>1</td>\n",
              "      <td>308.6</td>\n",
              "      <td>1433</td>\n",
              "      <td>39.5</td>\n",
              "      <td>7</td>\n",
              "    </tr>\n",
              "    <tr>\n",
              "      <th>4</th>\n",
              "      <td>298.2</td>\n",
              "      <td>0</td>\n",
              "      <td>1</td>\n",
              "      <td>308.7</td>\n",
              "      <td>1408</td>\n",
              "      <td>40.0</td>\n",
              "      <td>9</td>\n",
              "    </tr>\n",
              "  </tbody>\n",
              "</table>\n",
              "</div>\n",
              "      <button class=\"colab-df-convert\" onclick=\"convertToInteractive('df-e9088acf-fe34-42fa-a805-53f83ceb4059')\"\n",
              "              title=\"Convert this dataframe to an interactive table.\"\n",
              "              style=\"display:none;\">\n",
              "        \n",
              "  <svg xmlns=\"http://www.w3.org/2000/svg\" height=\"24px\"viewBox=\"0 0 24 24\"\n",
              "       width=\"24px\">\n",
              "    <path d=\"M0 0h24v24H0V0z\" fill=\"none\"/>\n",
              "    <path d=\"M18.56 5.44l.94 2.06.94-2.06 2.06-.94-2.06-.94-.94-2.06-.94 2.06-2.06.94zm-11 1L8.5 8.5l.94-2.06 2.06-.94-2.06-.94L8.5 2.5l-.94 2.06-2.06.94zm10 10l.94 2.06.94-2.06 2.06-.94-2.06-.94-.94-2.06-.94 2.06-2.06.94z\"/><path d=\"M17.41 7.96l-1.37-1.37c-.4-.4-.92-.59-1.43-.59-.52 0-1.04.2-1.43.59L10.3 9.45l-7.72 7.72c-.78.78-.78 2.05 0 2.83L4 21.41c.39.39.9.59 1.41.59.51 0 1.02-.2 1.41-.59l7.78-7.78 2.81-2.81c.8-.78.8-2.07 0-2.86zM5.41 20L4 18.59l7.72-7.72 1.47 1.35L5.41 20z\"/>\n",
              "  </svg>\n",
              "      </button>\n",
              "      \n",
              "  <style>\n",
              "    .colab-df-container {\n",
              "      display:flex;\n",
              "      flex-wrap:wrap;\n",
              "      gap: 12px;\n",
              "    }\n",
              "\n",
              "    .colab-df-convert {\n",
              "      background-color: #E8F0FE;\n",
              "      border: none;\n",
              "      border-radius: 50%;\n",
              "      cursor: pointer;\n",
              "      display: none;\n",
              "      fill: #1967D2;\n",
              "      height: 32px;\n",
              "      padding: 0 0 0 0;\n",
              "      width: 32px;\n",
              "    }\n",
              "\n",
              "    .colab-df-convert:hover {\n",
              "      background-color: #E2EBFA;\n",
              "      box-shadow: 0px 1px 2px rgba(60, 64, 67, 0.3), 0px 1px 3px 1px rgba(60, 64, 67, 0.15);\n",
              "      fill: #174EA6;\n",
              "    }\n",
              "\n",
              "    [theme=dark] .colab-df-convert {\n",
              "      background-color: #3B4455;\n",
              "      fill: #D2E3FC;\n",
              "    }\n",
              "\n",
              "    [theme=dark] .colab-df-convert:hover {\n",
              "      background-color: #434B5C;\n",
              "      box-shadow: 0px 1px 3px 1px rgba(0, 0, 0, 0.15);\n",
              "      filter: drop-shadow(0px 1px 2px rgba(0, 0, 0, 0.3));\n",
              "      fill: #FFFFFF;\n",
              "    }\n",
              "  </style>\n",
              "\n",
              "      <script>\n",
              "        const buttonEl =\n",
              "          document.querySelector('#df-e9088acf-fe34-42fa-a805-53f83ceb4059 button.colab-df-convert');\n",
              "        buttonEl.style.display =\n",
              "          google.colab.kernel.accessAllowed ? 'block' : 'none';\n",
              "\n",
              "        async function convertToInteractive(key) {\n",
              "          const element = document.querySelector('#df-e9088acf-fe34-42fa-a805-53f83ceb4059');\n",
              "          const dataTable =\n",
              "            await google.colab.kernel.invokeFunction('convertToInteractive',\n",
              "                                                     [key], {});\n",
              "          if (!dataTable) return;\n",
              "\n",
              "          const docLinkHtml = 'Like what you see? Visit the ' +\n",
              "            '<a target=\"_blank\" href=https://colab.research.google.com/notebooks/data_table.ipynb>data table notebook</a>'\n",
              "            + ' to learn more about interactive tables.';\n",
              "          element.innerHTML = '';\n",
              "          dataTable['output_type'] = 'display_data';\n",
              "          await google.colab.output.renderOutput(dataTable, element);\n",
              "          const docLink = document.createElement('div');\n",
              "          docLink.innerHTML = docLinkHtml;\n",
              "          element.appendChild(docLink);\n",
              "        }\n",
              "      </script>\n",
              "    </div>\n",
              "  </div>\n",
              "  "
            ],
            "text/plain": [
              "   Air temperature [K]  Type_M  Type_L  Process temperature [K]  \\\n",
              "0                298.1       1       0                    308.6   \n",
              "1                298.2       0       1                    308.7   \n",
              "2                298.1       0       1                    308.5   \n",
              "3                298.2       0       1                    308.6   \n",
              "4                298.2       0       1                    308.7   \n",
              "\n",
              "   Rotational speed [rpm]  Torque [Nm]  Tool wear [min]  \n",
              "0                    1551         42.8                0  \n",
              "1                    1408         46.3                3  \n",
              "2                    1498         49.4                5  \n",
              "3                    1433         39.5                7  \n",
              "4                    1408         40.0                9  "
            ]
          },
          "execution_count": 56,
          "metadata": {},
          "output_type": "execute_result"
        }
      ],
      "source": [
        "X.head()"
      ]
    },
    {
      "cell_type": "code",
      "execution_count": 57,
      "id": "vGF05B1t2Zgr",
      "metadata": {
        "colab": {
          "base_uri": "https://localhost:8080/"
        },
        "id": "vGF05B1t2Zgr",
        "outputId": "0d6afa90-5a4e-4686-a6e6-277682fc0c20"
      },
      "outputs": [
        {
          "data": {
            "text/plain": [
              "0    1\n",
              "1    1\n",
              "2    1\n",
              "3    1\n",
              "4    1\n",
              "Name: Failure Type, dtype: int64"
            ]
          },
          "execution_count": 57,
          "metadata": {},
          "output_type": "execute_result"
        }
      ],
      "source": [
        "y.head()"
      ]
    },
    {
      "cell_type": "markdown",
      "id": "6ZzMNmiF2Zgr",
      "metadata": {
        "id": "6ZzMNmiF2Zgr"
      },
      "source": [
        "We have already applied Label Encoder on the Target variable in the above pre-processing step.  <br>\n",
        "As we have multiple classes in the Target variable and they are not ordinal, we should ideally use a One-hot encoder.  <br>\n",
        "But using one hot encoding would make the problem multi-label, which would make the problem much more complex for the model and would very likely lead to lower performance, or it would require much more data in order to reach the same performance as regular classification. Hence we prefer to go with Label Encoding technique."
      ]
    },
    {
      "cell_type": "markdown",
      "id": "3ae0b5d2",
      "metadata": {
        "id": "3ae0b5d2"
      },
      "source": [
        "# 4. Data Exploration using various plots\n",
        "\n"
      ]
    },
    {
      "cell_type": "markdown",
      "id": "186bf4d7",
      "metadata": {
        "id": "186bf4d7"
      },
      "source": [
        "## 4.1 Scatter plot of each quantitative attribute with the target.\n",
        "\n",
        "Score: 1 Mark"
      ]
    },
    {
      "cell_type": "code",
      "execution_count": 58,
      "id": "868d7b27",
      "metadata": {
        "id": "868d7b27"
      },
      "outputs": [],
      "source": [
        "##---------Type the code below this line------------------##"
      ]
    },
    {
      "cell_type": "code",
      "execution_count": 59,
      "id": "mrku_23y2Zgs",
      "metadata": {
        "id": "mrku_23y2Zgs"
      },
      "outputs": [],
      "source": [
        "data_df.drop(['UDI', 'Product ID'], axis=1, inplace=True)"
      ]
    },
    {
      "cell_type": "code",
      "execution_count": 60,
      "id": "MrKU0MRVvBaR",
      "metadata": {
        "colab": {
          "base_uri": "https://localhost:8080/",
          "height": 1000
        },
        "id": "MrKU0MRVvBaR",
        "outputId": "990da470-a63e-4992-b1c2-5dfc0787e17a"
      },
      "outputs": [
        {
          "data": {
            "image/png": "[encoded data removed]",
            "text/plain": [
              "<Figure size 432x288 with 1 Axes>"
            ]
          },
          "metadata": {
            "needs_background": "light"
          },
          "output_type": "display_data"
        },
        {
          "data": {
            "image/png": "[encoded data removed]",
            "text/plain": [
              "<Figure size 432x288 with 1 Axes>"
            ]
          },
          "metadata": {
            "needs_background": "light"
          },
          "output_type": "display_data"
        },
        {
          "data": {
            "image/png": "[encoded data removed]",
            "text/plain": [
              "<Figure size 432x288 with 1 Axes>"
            ]
          },
          "metadata": {
            "needs_background": "light"
          },
          "output_type": "display_data"
        },
        {
          "data": {
            "image/png": "[encoded data removed]",
            "text/plain": [
              "<Figure size 432x288 with 1 Axes>"
            ]
          },
          "metadata": {
            "needs_background": "light"
          },
          "output_type": "display_data"
        },
        {
          "data": {
            "image/png": "[encoded data removed]",
            "text/plain": [
              "<Figure size 432x288 with 1 Axes>"
            ]
          },
          "metadata": {
            "needs_background": "light"
          },
          "output_type": "display_data"
        },
        {
          "data": {
            "image/png": "[encoded data removed]",
            "text/plain": [
              "<Figure size 432x288 with 1 Axes>"
            ]
          },
          "metadata": {
            "needs_background": "light"
          },
          "output_type": "display_data"
        },
        {
          "data": {
            "image/png": "[encoded data removed]",
            "text/plain": [
              "<Figure size 432x288 with 1 Axes>"
            ]
          },
          "metadata": {
            "needs_background": "light"
          },
          "output_type": "display_data"
        }
      ],
      "source": [
        "for column in X.columns:\n",
        "    sns.scatterplot(data=data_df, x=data_df[\"Failure Type\"], y=data_df[column])\n",
        "    plt.xlabel(\"Failure Type\",fontsize=10)\n",
        "    plt.ylabel(column,fontsize=10)\n",
        "    plt.title(column + \" Vs Failure Type\")\n",
        "    plt.show()"
      ]
    },
    {
      "cell_type": "markdown",
      "id": "575f9e37",
      "metadata": {
        "id": "575f9e37"
      },
      "source": [
        "## 4.2 EDA using visuals\n",
        "* Use (minimum) 2 plots (pair plot, heat map, correlation plot, regression plot...) to identify the optimal set of attributes that can be used for classification. \n",
        "* Name them, explain why you think they can be helpful in the task and perform the plot as well. Unless proper justification for the choice of plots given, no credit will be awarded.\n",
        "\n",
        "Score: 2 Marks"
      ]
    },
    {
      "cell_type": "code",
      "execution_count": 61,
      "id": "4d614311",
      "metadata": {
        "id": "4d614311"
      },
      "outputs": [],
      "source": [
        "##---------Type the code below this line------------------##"
      ]
    },
    {
      "cell_type": "markdown",
      "id": "RgcjNrZp2iGP",
      "metadata": {
        "id": "RgcjNrZp2iGP"
      },
      "source": [
        "First choice of plot is Heat Map, as heat map shows the correlation between the different features. Higher correlation between the target and the dependent variable implies the dependent variable is better at predicting the target.\n",
        "<br>\n",
        "Secondly we also can find dependent variables/features that are highly correlated, when two dependent variables are highly correlated they tend to give the same information and are redundant, thus we can remove one of them. Thus it helps in feature selection too."
      ]
    },
    {
      "cell_type": "code",
      "execution_count": 62,
      "id": "pVJ1Rxr-x6Xp",
      "metadata": {
        "colab": {
          "base_uri": "https://localhost:8080/",
          "height": 811
        },
        "id": "pVJ1Rxr-x6Xp",
        "outputId": "69ad15b1-d394-4436-b992-df338c504e77"
      },
      "outputs": [
        {
          "data": {
            "image/png": "[encoded data removed]",
            "text/plain": [
              "<Figure size 1152x864 with 2 Axes>"
            ]
          },
          "metadata": {
            "needs_background": "light"
          },
          "output_type": "display_data"
        }
      ],
      "source": [
        "data_df_corr = data_df.corr(method='pearson')\n",
        "mask = np.triu(np.ones_like(data_df_corr))\n",
        "\n",
        "plt.figure(figsize=(16, 12))\n",
        "sns.heatmap(data_df_corr, mask=mask, center=0, annot=True, fmt='.2f', square=True, cmap = 'YlGnBu')\n",
        "plt.show()"
      ]
    },
    {
      "cell_type": "markdown",
      "id": "gyGUiIqx1jwY",
      "metadata": {
        "id": "gyGUiIqx1jwY"
      },
      "source": [
        "From the heat map we can see \"Tool wear\" and \"Torque\" has the highest correlation with Target. <br>\n",
        "\"Torque\" and \"Rotational speed\" have the highest correlation with Failure Type.\n",
        "\n",
        "\n",
        "Secondly we can see a very high correlation between \"Process Temperature\" and \"Air Temperature\", so these two shall provide the same information. We shall not remove any of them now, we shall further test this using statistical technique."
      ]
    },
    {
      "cell_type": "markdown",
      "id": "eL9obdPbGzj7",
      "metadata": {
        "id": "eL9obdPbGzj7"
      },
      "source": [
        "Now let us consider box plots which will give us a clear idea at what values of each feature a failure occurs. This will also help us understand which features are best for predicting the Target variable\n"
      ]
    },
    {
      "cell_type": "code",
      "execution_count": 63,
      "id": "RaPrCofn1hx2",
      "metadata": {
        "colab": {
          "base_uri": "https://localhost:8080/"
        },
        "id": "RaPrCofn1hx2",
        "outputId": "4b2478ec-abb6-408f-962c-a33c6c9c6672"
      },
      "outputs": [
        {
          "data": {
            "text/plain": [
              "Index(['Air temperature [K]', 'Process temperature [K]',\n",
              "       'Rotational speed [rpm]', 'Torque [Nm]', 'Tool wear [min]'],\n",
              "      dtype='object')"
            ]
          },
          "execution_count": 63,
          "metadata": {},
          "output_type": "execute_result"
        }
      ],
      "source": [
        "data_df.columns[:5]"
      ]
    },
    {
      "cell_type": "code",
      "execution_count": 64,
      "id": "PpzZoGFxx5_M",
      "metadata": {
        "colab": {
          "base_uri": "https://localhost:8080/",
          "height": 1000
        },
        "id": "PpzZoGFxx5_M",
        "outputId": "0b8257eb-ba38-4bac-d5ba-fff9cb523b97"
      },
      "outputs": [
        {
          "data": {
            "image/png": "[encoded data removed]",
            "text/plain": [
              "<Figure size 432x288 with 1 Axes>"
            ]
          },
          "metadata": {
            "needs_background": "light"
          },
          "output_type": "display_data"
        },
        {
          "data": {
            "image/png": "[encoded data removed]",
            "text/plain": [
              "<Figure size 432x288 with 1 Axes>"
            ]
          },
          "metadata": {
            "needs_background": "light"
          },
          "output_type": "display_data"
        },
        {
          "data": {
            "image/png": "[encoded data removed]",
            "text/plain": [
              "<Figure size 432x288 with 1 Axes>"
            ]
          },
          "metadata": {
            "needs_background": "light"
          },
          "output_type": "display_data"
        },
        {
          "data": {
            "image/png": "[encoded data removed]",
            "text/plain": [
              "<Figure size 432x288 with 1 Axes>"
            ]
          },
          "metadata": {
            "needs_background": "light"
          },
          "output_type": "display_data"
        },
        {
          "data": {
            "image/png": "[encoded data removed]",
            "text/plain": [
              "<Figure size 432x288 with 1 Axes>"
            ]
          },
          "metadata": {
            "needs_background": "light"
          },
          "output_type": "display_data"
        }
      ],
      "source": [
        "for col in data_df.columns[:5]:\n",
        "  sns.boxplot(data=data_df, x=\"Target\", y=col)\n",
        "  plt.xlabel(\"Target\",fontsize=10)\n",
        "  plt.ylabel(col,fontsize=10)\n",
        "  plt.title(col + \" Vs Failure Type\")\n",
        "  plt.show()"
      ]
    },
    {
      "cell_type": "markdown",
      "id": "9N-go_63HUzK",
      "metadata": {
        "id": "9N-go_63HUzK"
      },
      "source": [
        "From the above plots we can say Failure occurs  when\n",
        "\n",
        "\n",
        "1.   Temperature  is high.\n",
        "2.   Rotational Speed is less\n",
        "3.   Torque is high.\n",
        "4.   Tool wear is high.\n",
        "\n"
      ]
    },
    {
      "cell_type": "markdown",
      "id": "bdbc82a1",
      "metadata": {
        "id": "bdbc82a1"
      },
      "source": [
        "# 5. Data Wrangling\n",
        "\n"
      ]
    },
    {
      "cell_type": "markdown",
      "id": "ca214eb3",
      "metadata": {
        "id": "ca214eb3"
      },
      "source": [
        "## 5.1 Univariate Filters \n",
        "\n",
        "#### Numerical and Categorical Data\n",
        "* Identify top 5 significant features by evaluating each feature independently with respect to the target variable by exploring \n",
        "1. Mutual Information (Information Gain)\n",
        "2. Gini index\n",
        "3. Gain Ratio\n",
        "4. Chi-Squared test\n",
        "5. Fisher Score\n",
        "(From the above 5 you are required to use only any <b>two</b>) \n",
        "\n",
        "#### For Text data\n",
        "\n",
        "1. Stemming / Lemmatization.\n",
        "2. Forming n-grams and storing them in the document vector.\n",
        "3. TF-IDF\n",
        "(From the above 2 you are required to use only any <b>two</b>)\n",
        "\n",
        "\n",
        "Score: 3 Marks"
      ]
    },
    {
      "cell_type": "code",
      "execution_count": 65,
      "id": "a85e9754",
      "metadata": {
        "id": "a85e9754"
      },
      "outputs": [],
      "source": [
        "##---------Type the code below this line------------------##"
      ]
    },
    {
      "cell_type": "code",
      "execution_count": 66,
      "id": "2l_76pA-Jdkl",
      "metadata": {
        "colab": {
          "base_uri": "https://localhost:8080/",
          "height": 112
        },
        "id": "2l_76pA-Jdkl",
        "outputId": "554caf31-8b19-4cfe-881c-775415d7761e"
      },
      "outputs": [
        {
          "data": {
            "text/html": [
              "\n",
              "  <div id=\"df-2a757130-c06b-426b-8b4b-bca8d272e054\">\n",
              "    <div class=\"colab-df-container\">\n",
              "      <div>\n",
              "<style scoped>\n",
              "    .dataframe tbody tr th:only-of-type {\n",
              "        vertical-align: middle;\n",
              "    }\n",
              "\n",
              "    .dataframe tbody tr th {\n",
              "        vertical-align: top;\n",
              "    }\n",
              "\n",
              "    .dataframe thead th {\n",
              "        text-align: right;\n",
              "    }\n",
              "</style>\n",
              "<table border=\"1\" class=\"dataframe\">\n",
              "  <thead>\n",
              "    <tr style=\"text-align: right;\">\n",
              "      <th></th>\n",
              "      <th>Air temperature [K]</th>\n",
              "      <th>Type_M</th>\n",
              "      <th>Type_L</th>\n",
              "      <th>Process temperature [K]</th>\n",
              "      <th>Rotational speed [rpm]</th>\n",
              "      <th>Torque [Nm]</th>\n",
              "      <th>Tool wear [min]</th>\n",
              "    </tr>\n",
              "  </thead>\n",
              "  <tbody>\n",
              "    <tr>\n",
              "      <th>0</th>\n",
              "      <td>298.1</td>\n",
              "      <td>1</td>\n",
              "      <td>0</td>\n",
              "      <td>308.6</td>\n",
              "      <td>1551</td>\n",
              "      <td>42.8</td>\n",
              "      <td>0</td>\n",
              "    </tr>\n",
              "    <tr>\n",
              "      <th>1</th>\n",
              "      <td>298.2</td>\n",
              "      <td>0</td>\n",
              "      <td>1</td>\n",
              "      <td>308.7</td>\n",
              "      <td>1408</td>\n",
              "      <td>46.3</td>\n",
              "      <td>3</td>\n",
              "    </tr>\n",
              "  </tbody>\n",
              "</table>\n",
              "</div>\n",
              "      <button class=\"colab-df-convert\" onclick=\"convertToInteractive('df-2a757130-c06b-426b-8b4b-bca8d272e054')\"\n",
              "              title=\"Convert this dataframe to an interactive table.\"\n",
              "              style=\"display:none;\">\n",
              "        \n",
              "  <svg xmlns=\"http://www.w3.org/2000/svg\" height=\"24px\"viewBox=\"0 0 24 24\"\n",
              "       width=\"24px\">\n",
              "    <path d=\"M0 0h24v24H0V0z\" fill=\"none\"/>\n",
              "    <path d=\"M18.56 5.44l.94 2.06.94-2.06 2.06-.94-2.06-.94-.94-2.06-.94 2.06-2.06.94zm-11 1L8.5 8.5l.94-2.06 2.06-.94-2.06-.94L8.5 2.5l-.94 2.06-2.06.94zm10 10l.94 2.06.94-2.06 2.06-.94-2.06-.94-.94-2.06-.94 2.06-2.06.94z\"/><path d=\"M17.41 7.96l-1.37-1.37c-.4-.4-.92-.59-1.43-.59-.52 0-1.04.2-1.43.59L10.3 9.45l-7.72 7.72c-.78.78-.78 2.05 0 2.83L4 21.41c.39.39.9.59 1.41.59.51 0 1.02-.2 1.41-.59l7.78-7.78 2.81-2.81c.8-.78.8-2.07 0-2.86zM5.41 20L4 18.59l7.72-7.72 1.47 1.35L5.41 20z\"/>\n",
              "  </svg>\n",
              "      </button>\n",
              "      \n",
              "  <style>\n",
              "    .colab-df-container {\n",
              "      display:flex;\n",
              "      flex-wrap:wrap;\n",
              "      gap: 12px;\n",
              "    }\n",
              "\n",
              "    .colab-df-convert {\n",
              "      background-color: #E8F0FE;\n",
              "      border: none;\n",
              "      border-radius: 50%;\n",
              "      cursor: pointer;\n",
              "      display: none;\n",
              "      fill: #1967D2;\n",
              "      height: 32px;\n",
              "      padding: 0 0 0 0;\n",
              "      width: 32px;\n",
              "    }\n",
              "\n",
              "    .colab-df-convert:hover {\n",
              "      background-color: #E2EBFA;\n",
              "      box-shadow: 0px 1px 2px rgba(60, 64, 67, 0.3), 0px 1px 3px 1px rgba(60, 64, 67, 0.15);\n",
              "      fill: #174EA6;\n",
              "    }\n",
              "\n",
              "    [theme=dark] .colab-df-convert {\n",
              "      background-color: #3B4455;\n",
              "      fill: #D2E3FC;\n",
              "    }\n",
              "\n",
              "    [theme=dark] .colab-df-convert:hover {\n",
              "      background-color: #434B5C;\n",
              "      box-shadow: 0px 1px 3px 1px rgba(0, 0, 0, 0.15);\n",
              "      filter: drop-shadow(0px 1px 2px rgba(0, 0, 0, 0.3));\n",
              "      fill: #FFFFFF;\n",
              "    }\n",
              "  </style>\n",
              "\n",
              "      <script>\n",
              "        const buttonEl =\n",
              "          document.querySelector('#df-2a757130-c06b-426b-8b4b-bca8d272e054 button.colab-df-convert');\n",
              "        buttonEl.style.display =\n",
              "          google.colab.kernel.accessAllowed ? 'block' : 'none';\n",
              "\n",
              "        async function convertToInteractive(key) {\n",
              "          const element = document.querySelector('#df-2a757130-c06b-426b-8b4b-bca8d272e054');\n",
              "          const dataTable =\n",
              "            await google.colab.kernel.invokeFunction('convertToInteractive',\n",
              "                                                     [key], {});\n",
              "          if (!dataTable) return;\n",
              "\n",
              "          const docLinkHtml = 'Like what you see? Visit the ' +\n",
              "            '<a target=\"_blank\" href=https://colab.research.google.com/notebooks/data_table.ipynb>data table notebook</a>'\n",
              "            + ' to learn more about interactive tables.';\n",
              "          element.innerHTML = '';\n",
              "          dataTable['output_type'] = 'display_data';\n",
              "          await google.colab.output.renderOutput(dataTable, element);\n",
              "          const docLink = document.createElement('div');\n",
              "          docLink.innerHTML = docLinkHtml;\n",
              "          element.appendChild(docLink);\n",
              "        }\n",
              "      </script>\n",
              "    </div>\n",
              "  </div>\n",
              "  "
            ],
            "text/plain": [
              "   Air temperature [K]  Type_M  Type_L  Process temperature [K]  \\\n",
              "0                298.1       1       0                    308.6   \n",
              "1                298.2       0       1                    308.7   \n",
              "\n",
              "   Rotational speed [rpm]  Torque [Nm]  Tool wear [min]  \n",
              "0                    1551         42.8                0  \n",
              "1                    1408         46.3                3  "
            ]
          },
          "execution_count": 66,
          "metadata": {},
          "output_type": "execute_result"
        }
      ],
      "source": [
        "X.head(2)"
      ]
    },
    {
      "cell_type": "markdown",
      "id": "fXGIFTk-MFn4",
      "metadata": {
        "id": "fXGIFTk-MFn4"
      },
      "source": [
        "**Continious Features and Failure Type**<br>\n",
        "\n",
        "\n",
        "> Air temperature [K],Process temperature [K], Rotational speed [rpm],\tTorque [Nm],\tTool wear [min] are all continuous variables.\n",
        "Failure Type is Categorical\n",
        "<br>We will have to discretise these features and then apply Information Gain.\n"
      ]
    },
    {
      "cell_type": "code",
      "execution_count": 67,
      "id": "apxWtWneXEiM",
      "metadata": {
        "colab": {
          "base_uri": "https://localhost:8080/"
        },
        "id": "apxWtWneXEiM",
        "outputId": "19b72428-cd25-421b-a974-7200558be9a7"
      },
      "outputs": [
        {
          "data": {
            "text/plain": [
              "Index(['Air temperature [K]', 'Process temperature [K]',\n",
              "       'Rotational speed [rpm]', 'Torque [Nm]', 'Tool wear [min]'],\n",
              "      dtype='object')"
            ]
          },
          "execution_count": 67,
          "metadata": {},
          "output_type": "execute_result"
        }
      ],
      "source": [
        "X.drop(['Type_M', 'Type_L'], axis=1).columns"
      ]
    },
    {
      "cell_type": "code",
      "execution_count": 68,
      "id": "WIG8TvxQMEKq",
      "metadata": {
        "colab": {
          "base_uri": "https://localhost:8080/",
          "height": 262
        },
        "id": "WIG8TvxQMEKq",
        "outputId": "98860a35-9817-459a-c6e4-849a99db529d"
      },
      "outputs": [
        {
          "data": {
            "image/png": "[encoded data removed]",
            "text/plain": [
              "<Figure size 432x288 with 1 Axes>"
            ]
          },
          "metadata": {
            "needs_background": "light"
          },
          "output_type": "display_data"
        }
      ],
      "source": [
        "importances = mutual_info_classif(X.drop(['Type_M', 'Type_L'], axis=1),y.values.ravel())\n",
        "feat_importances = pd.Series(importances)\n",
        "feat_importances.plot(kind='bar')\n",
        "plt.show()"
      ]
    },
    {
      "cell_type": "markdown",
      "id": "BwnzAPY-XQWo",
      "metadata": {
        "id": "BwnzAPY-XQWo"
      },
      "source": [
        "From the above plot we can clearly state that 'Rotational speed [rpm]', 'Torque [Nm]' are the most significant features and 'Process temperature [K]' being the least significant\n",
        "\n"
      ]
    },
    {
      "cell_type": "markdown",
      "id": "UmV_0eFvXxo4",
      "metadata": {
        "id": "UmV_0eFvXxo4"
      },
      "source": [
        "**Categorical Features and Failure Type**\n",
        "\n",
        "> \"Type\" categorical feature and its significance with the Failure Type (Target Variable). We shall use chi2 test.\n",
        "\n"
      ]
    },
    {
      "cell_type": "code",
      "execution_count": 69,
      "id": "CuttJNqNMEGF",
      "metadata": {
        "colab": {
          "base_uri": "https://localhost:8080/",
          "height": 206
        },
        "id": "CuttJNqNMEGF",
        "outputId": "966a3982-e476-46c9-b408-8cda28543a85"
      },
      "outputs": [
        {
          "data": {
            "text/html": [
              "\n",
              "  <div id=\"df-3c630b00-c9e7-4da7-a74e-af91529a0475\">\n",
              "    <div class=\"colab-df-container\">\n",
              "      <div>\n",
              "<style scoped>\n",
              "    .dataframe tbody tr th:only-of-type {\n",
              "        vertical-align: middle;\n",
              "    }\n",
              "\n",
              "    .dataframe tbody tr th {\n",
              "        vertical-align: top;\n",
              "    }\n",
              "\n",
              "    .dataframe thead th {\n",
              "        text-align: right;\n",
              "    }\n",
              "</style>\n",
              "<table border=\"1\" class=\"dataframe\">\n",
              "  <thead>\n",
              "    <tr style=\"text-align: right;\">\n",
              "      <th></th>\n",
              "      <th>UDI</th>\n",
              "      <th>Product ID</th>\n",
              "      <th>Type</th>\n",
              "      <th>Air temperature [K]</th>\n",
              "      <th>Process temperature [K]</th>\n",
              "      <th>Rotational speed [rpm]</th>\n",
              "      <th>Torque [Nm]</th>\n",
              "      <th>Tool wear [min]</th>\n",
              "      <th>Target</th>\n",
              "      <th>Failure Type</th>\n",
              "    </tr>\n",
              "  </thead>\n",
              "  <tbody>\n",
              "    <tr>\n",
              "      <th>0</th>\n",
              "      <td>1</td>\n",
              "      <td>M14860</td>\n",
              "      <td>M</td>\n",
              "      <td>298.1</td>\n",
              "      <td>308.6</td>\n",
              "      <td>1551</td>\n",
              "      <td>42.8</td>\n",
              "      <td>0</td>\n",
              "      <td>0</td>\n",
              "      <td>No Failure</td>\n",
              "    </tr>\n",
              "    <tr>\n",
              "      <th>1</th>\n",
              "      <td>2</td>\n",
              "      <td>L47181</td>\n",
              "      <td>L</td>\n",
              "      <td>298.2</td>\n",
              "      <td>308.7</td>\n",
              "      <td>1408</td>\n",
              "      <td>46.3</td>\n",
              "      <td>3</td>\n",
              "      <td>0</td>\n",
              "      <td>No Failure</td>\n",
              "    </tr>\n",
              "    <tr>\n",
              "      <th>2</th>\n",
              "      <td>3</td>\n",
              "      <td>L47182</td>\n",
              "      <td>L</td>\n",
              "      <td>298.1</td>\n",
              "      <td>308.5</td>\n",
              "      <td>1498</td>\n",
              "      <td>49.4</td>\n",
              "      <td>5</td>\n",
              "      <td>0</td>\n",
              "      <td>No Failure</td>\n",
              "    </tr>\n",
              "    <tr>\n",
              "      <th>3</th>\n",
              "      <td>4</td>\n",
              "      <td>L47183</td>\n",
              "      <td>L</td>\n",
              "      <td>298.2</td>\n",
              "      <td>308.6</td>\n",
              "      <td>1433</td>\n",
              "      <td>39.5</td>\n",
              "      <td>7</td>\n",
              "      <td>0</td>\n",
              "      <td>No Failure</td>\n",
              "    </tr>\n",
              "    <tr>\n",
              "      <th>4</th>\n",
              "      <td>5</td>\n",
              "      <td>L47184</td>\n",
              "      <td>L</td>\n",
              "      <td>298.2</td>\n",
              "      <td>308.7</td>\n",
              "      <td>1408</td>\n",
              "      <td>40.0</td>\n",
              "      <td>9</td>\n",
              "      <td>0</td>\n",
              "      <td>No Failure</td>\n",
              "    </tr>\n",
              "  </tbody>\n",
              "</table>\n",
              "</div>\n",
              "      <button class=\"colab-df-convert\" onclick=\"convertToInteractive('df-3c630b00-c9e7-4da7-a74e-af91529a0475')\"\n",
              "              title=\"Convert this dataframe to an interactive table.\"\n",
              "              style=\"display:none;\">\n",
              "        \n",
              "  <svg xmlns=\"http://www.w3.org/2000/svg\" height=\"24px\"viewBox=\"0 0 24 24\"\n",
              "       width=\"24px\">\n",
              "    <path d=\"M0 0h24v24H0V0z\" fill=\"none\"/>\n",
              "    <path d=\"M18.56 5.44l.94 2.06.94-2.06 2.06-.94-2.06-.94-.94-2.06-.94 2.06-2.06.94zm-11 1L8.5 8.5l.94-2.06 2.06-.94-2.06-.94L8.5 2.5l-.94 2.06-2.06.94zm10 10l.94 2.06.94-2.06 2.06-.94-2.06-.94-.94-2.06-.94 2.06-2.06.94z\"/><path d=\"M17.41 7.96l-1.37-1.37c-.4-.4-.92-.59-1.43-.59-.52 0-1.04.2-1.43.59L10.3 9.45l-7.72 7.72c-.78.78-.78 2.05 0 2.83L4 21.41c.39.39.9.59 1.41.59.51 0 1.02-.2 1.41-.59l7.78-7.78 2.81-2.81c.8-.78.8-2.07 0-2.86zM5.41 20L4 18.59l7.72-7.72 1.47 1.35L5.41 20z\"/>\n",
              "  </svg>\n",
              "      </button>\n",
              "      \n",
              "  <style>\n",
              "    .colab-df-container {\n",
              "      display:flex;\n",
              "      flex-wrap:wrap;\n",
              "      gap: 12px;\n",
              "    }\n",
              "\n",
              "    .colab-df-convert {\n",
              "      background-color: #E8F0FE;\n",
              "      border: none;\n",
              "      border-radius: 50%;\n",
              "      cursor: pointer;\n",
              "      display: none;\n",
              "      fill: #1967D2;\n",
              "      height: 32px;\n",
              "      padding: 0 0 0 0;\n",
              "      width: 32px;\n",
              "    }\n",
              "\n",
              "    .colab-df-convert:hover {\n",
              "      background-color: #E2EBFA;\n",
              "      box-shadow: 0px 1px 2px rgba(60, 64, 67, 0.3), 0px 1px 3px 1px rgba(60, 64, 67, 0.15);\n",
              "      fill: #174EA6;\n",
              "    }\n",
              "\n",
              "    [theme=dark] .colab-df-convert {\n",
              "      background-color: #3B4455;\n",
              "      fill: #D2E3FC;\n",
              "    }\n",
              "\n",
              "    [theme=dark] .colab-df-convert:hover {\n",
              "      background-color: #434B5C;\n",
              "      box-shadow: 0px 1px 3px 1px rgba(0, 0, 0, 0.15);\n",
              "      filter: drop-shadow(0px 1px 2px rgba(0, 0, 0, 0.3));\n",
              "      fill: #FFFFFF;\n",
              "    }\n",
              "  </style>\n",
              "\n",
              "      <script>\n",
              "        const buttonEl =\n",
              "          document.querySelector('#df-3c630b00-c9e7-4da7-a74e-af91529a0475 button.colab-df-convert');\n",
              "        buttonEl.style.display =\n",
              "          google.colab.kernel.accessAllowed ? 'block' : 'none';\n",
              "\n",
              "        async function convertToInteractive(key) {\n",
              "          const element = document.querySelector('#df-3c630b00-c9e7-4da7-a74e-af91529a0475');\n",
              "          const dataTable =\n",
              "            await google.colab.kernel.invokeFunction('convertToInteractive',\n",
              "                                                     [key], {});\n",
              "          if (!dataTable) return;\n",
              "\n",
              "          const docLinkHtml = 'Like what you see? Visit the ' +\n",
              "            '<a target=\"_blank\" href=https://colab.research.google.com/notebooks/data_table.ipynb>data table notebook</a>'\n",
              "            + ' to learn more about interactive tables.';\n",
              "          element.innerHTML = '';\n",
              "          dataTable['output_type'] = 'display_data';\n",
              "          await google.colab.output.renderOutput(dataTable, element);\n",
              "          const docLink = document.createElement('div');\n",
              "          docLink.innerHTML = docLinkHtml;\n",
              "          element.appendChild(docLink);\n",
              "        }\n",
              "      </script>\n",
              "    </div>\n",
              "  </div>\n",
              "  "
            ],
            "text/plain": [
              "   UDI Product ID Type  Air temperature [K]  Process temperature [K]  \\\n",
              "0    1     M14860    M                298.1                    308.6   \n",
              "1    2     L47181    L                298.2                    308.7   \n",
              "2    3     L47182    L                298.1                    308.5   \n",
              "3    4     L47183    L                298.2                    308.6   \n",
              "4    5     L47184    L                298.2                    308.7   \n",
              "\n",
              "   Rotational speed [rpm]  Torque [Nm]  Tool wear [min]  Target Failure Type  \n",
              "0                    1551         42.8                0       0   No Failure  \n",
              "1                    1408         46.3                3       0   No Failure  \n",
              "2                    1498         49.4                5       0   No Failure  \n",
              "3                    1433         39.5                7       0   No Failure  \n",
              "4                    1408         40.0                9       0   No Failure  "
            ]
          },
          "execution_count": 69,
          "metadata": {},
          "output_type": "execute_result"
        }
      ],
      "source": [
        "data_df_backup.head()"
      ]
    },
    {
      "cell_type": "markdown",
      "id": "oJX12agFaz46",
      "metadata": {
        "id": "oJX12agFaz46"
      },
      "source": [
        "Below is a contingency table to show the relationship between the Machine Type and Failure Type"
      ]
    },
    {
      "cell_type": "code",
      "execution_count": 70,
      "id": "ldrO34Uyargw",
      "metadata": {
        "colab": {
          "base_uri": "https://localhost:8080/",
          "height": 175
        },
        "id": "ldrO34Uyargw",
        "outputId": "28bb0ffe-bd43-43c1-dea4-61809fa6c97e"
      },
      "outputs": [
        {
          "data": {
            "text/html": [
              "\n",
              "  <div id=\"df-9aa2c131-967d-4ed9-8362-b2e967cfbc63\">\n",
              "    <div class=\"colab-df-container\">\n",
              "      <div>\n",
              "<style scoped>\n",
              "    .dataframe tbody tr th:only-of-type {\n",
              "        vertical-align: middle;\n",
              "    }\n",
              "\n",
              "    .dataframe tbody tr th {\n",
              "        vertical-align: top;\n",
              "    }\n",
              "\n",
              "    .dataframe thead th {\n",
              "        text-align: right;\n",
              "    }\n",
              "</style>\n",
              "<table border=\"1\" class=\"dataframe\">\n",
              "  <thead>\n",
              "    <tr style=\"text-align: right;\">\n",
              "      <th>Failure Type</th>\n",
              "      <th>Heat Dissipation Failure</th>\n",
              "      <th>No Failure</th>\n",
              "      <th>Overstrain Failure</th>\n",
              "      <th>Power Failure</th>\n",
              "      <th>Random Failures</th>\n",
              "      <th>Tool Wear Failure</th>\n",
              "    </tr>\n",
              "    <tr>\n",
              "      <th>Type</th>\n",
              "      <th></th>\n",
              "      <th></th>\n",
              "      <th></th>\n",
              "      <th></th>\n",
              "      <th></th>\n",
              "      <th></th>\n",
              "    </tr>\n",
              "  </thead>\n",
              "  <tbody>\n",
              "    <tr>\n",
              "      <th>H</th>\n",
              "      <td>8</td>\n",
              "      <td>979</td>\n",
              "      <td>1</td>\n",
              "      <td>5</td>\n",
              "      <td>4</td>\n",
              "      <td>6</td>\n",
              "    </tr>\n",
              "    <tr>\n",
              "      <th>L</th>\n",
              "      <td>74</td>\n",
              "      <td>5752</td>\n",
              "      <td>73</td>\n",
              "      <td>59</td>\n",
              "      <td>12</td>\n",
              "      <td>25</td>\n",
              "    </tr>\n",
              "    <tr>\n",
              "      <th>M</th>\n",
              "      <td>30</td>\n",
              "      <td>2912</td>\n",
              "      <td>4</td>\n",
              "      <td>31</td>\n",
              "      <td>2</td>\n",
              "      <td>14</td>\n",
              "    </tr>\n",
              "  </tbody>\n",
              "</table>\n",
              "</div>\n",
              "      <button class=\"colab-df-convert\" onclick=\"convertToInteractive('df-9aa2c131-967d-4ed9-8362-b2e967cfbc63')\"\n",
              "              title=\"Convert this dataframe to an interactive table.\"\n",
              "              style=\"display:none;\">\n",
              "        \n",
              "  <svg xmlns=\"http://www.w3.org/2000/svg\" height=\"24px\"viewBox=\"0 0 24 24\"\n",
              "       width=\"24px\">\n",
              "    <path d=\"M0 0h24v24H0V0z\" fill=\"none\"/>\n",
              "    <path d=\"M18.56 5.44l.94 2.06.94-2.06 2.06-.94-2.06-.94-.94-2.06-.94 2.06-2.06.94zm-11 1L8.5 8.5l.94-2.06 2.06-.94-2.06-.94L8.5 2.5l-.94 2.06-2.06.94zm10 10l.94 2.06.94-2.06 2.06-.94-2.06-.94-.94-2.06-.94 2.06-2.06.94z\"/><path d=\"M17.41 7.96l-1.37-1.37c-.4-.4-.92-.59-1.43-.59-.52 0-1.04.2-1.43.59L10.3 9.45l-7.72 7.72c-.78.78-.78 2.05 0 2.83L4 21.41c.39.39.9.59 1.41.59.51 0 1.02-.2 1.41-.59l7.78-7.78 2.81-2.81c.8-.78.8-2.07 0-2.86zM5.41 20L4 18.59l7.72-7.72 1.47 1.35L5.41 20z\"/>\n",
              "  </svg>\n",
              "      </button>\n",
              "      \n",
              "  <style>\n",
              "    .colab-df-container {\n",
              "      display:flex;\n",
              "      flex-wrap:wrap;\n",
              "      gap: 12px;\n",
              "    }\n",
              "\n",
              "    .colab-df-convert {\n",
              "      background-color: #E8F0FE;\n",
              "      border: none;\n",
              "      border-radius: 50%;\n",
              "      cursor: pointer;\n",
              "      display: none;\n",
              "      fill: #1967D2;\n",
              "      height: 32px;\n",
              "      padding: 0 0 0 0;\n",
              "      width: 32px;\n",
              "    }\n",
              "\n",
              "    .colab-df-convert:hover {\n",
              "      background-color: #E2EBFA;\n",
              "      box-shadow: 0px 1px 2px rgba(60, 64, 67, 0.3), 0px 1px 3px 1px rgba(60, 64, 67, 0.15);\n",
              "      fill: #174EA6;\n",
              "    }\n",
              "\n",
              "    [theme=dark] .colab-df-convert {\n",
              "      background-color: #3B4455;\n",
              "      fill: #D2E3FC;\n",
              "    }\n",
              "\n",
              "    [theme=dark] .colab-df-convert:hover {\n",
              "      background-color: #434B5C;\n",
              "      box-shadow: 0px 1px 3px 1px rgba(0, 0, 0, 0.15);\n",
              "      filter: drop-shadow(0px 1px 2px rgba(0, 0, 0, 0.3));\n",
              "      fill: #FFFFFF;\n",
              "    }\n",
              "  </style>\n",
              "\n",
              "      <script>\n",
              "        const buttonEl =\n",
              "          document.querySelector('#df-9aa2c131-967d-4ed9-8362-b2e967cfbc63 button.colab-df-convert');\n",
              "        buttonEl.style.display =\n",
              "          google.colab.kernel.accessAllowed ? 'block' : 'none';\n",
              "\n",
              "        async function convertToInteractive(key) {\n",
              "          const element = document.querySelector('#df-9aa2c131-967d-4ed9-8362-b2e967cfbc63');\n",
              "          const dataTable =\n",
              "            await google.colab.kernel.invokeFunction('convertToInteractive',\n",
              "                                                     [key], {});\n",
              "          if (!dataTable) return;\n",
              "\n",
              "          const docLinkHtml = 'Like what you see? Visit the ' +\n",
              "            '<a target=\"_blank\" href=https://colab.research.google.com/notebooks/data_table.ipynb>data table notebook</a>'\n",
              "            + ' to learn more about interactive tables.';\n",
              "          element.innerHTML = '';\n",
              "          dataTable['output_type'] = 'display_data';\n",
              "          await google.colab.output.renderOutput(dataTable, element);\n",
              "          const docLink = document.createElement('div');\n",
              "          docLink.innerHTML = docLinkHtml;\n",
              "          element.appendChild(docLink);\n",
              "        }\n",
              "      </script>\n",
              "    </div>\n",
              "  </div>\n",
              "  "
            ],
            "text/plain": [
              "Failure Type  Heat Dissipation Failure  No Failure  Overstrain Failure  \\\n",
              "Type                                                                     \n",
              "H                                    8         979                   1   \n",
              "L                                   74        5752                  73   \n",
              "M                                   30        2912                   4   \n",
              "\n",
              "Failure Type  Power Failure  Random Failures  Tool Wear Failure  \n",
              "Type                                                             \n",
              "H                         5                4                  6  \n",
              "L                        59               12                 25  \n",
              "M                        31                2                 14  "
            ]
          },
          "execution_count": 70,
          "metadata": {},
          "output_type": "execute_result"
        }
      ],
      "source": [
        "contingency_table  = pd.crosstab(index=data_df_backup['Type'], columns=data_df_backup['Failure Type'])\n",
        "contingency_table "
      ]
    },
    {
      "cell_type": "code",
      "execution_count": 70,
      "id": "CWaiuQ-obzVR",
      "metadata": {
        "id": "CWaiuQ-obzVR"
      },
      "outputs": [],
      "source": []
    },
    {
      "cell_type": "code",
      "execution_count": 71,
      "id": "VaHbfVwQMEBc",
      "metadata": {
        "id": "VaHbfVwQMEBc"
      },
      "outputs": [],
      "source": [
        "#table = [[8,979,1,5,4,6], [74,5752, 73, 59, 12, 25], [30,2912, 4, 31, 2, 14]]\n",
        "stat, p, dof, expected = chi2_contingency(contingency_table)"
      ]
    },
    {
      "cell_type": "code",
      "execution_count": 72,
      "id": "GHaS4pcLMD77",
      "metadata": {
        "colab": {
          "base_uri": "https://localhost:8080/"
        },
        "id": "GHaS4pcLMD77",
        "outputId": "44380e13-d2d1-4d15-d252-1b68f61a68f0"
      },
      "outputs": [
        {
          "name": "stdout",
          "output_type": "stream",
          "text": [
            "p value is 8.601917351672247e-07\n"
          ]
        }
      ],
      "source": [
        "# interpret p-value\n",
        "alpha = 0.05\n",
        "print(\"p value is \" + str(p))"
      ]
    },
    {
      "cell_type": "markdown",
      "id": "i_8q4TB__8BN",
      "metadata": {
        "id": "i_8q4TB__8BN"
      },
      "source": [
        "As P value > alpha so Null hypothesis holds true and So the variable is independent.\n",
        "\n",
        "From the above chi-square test we can see that the targer variable \"Failure Type\" is not dependent on feature \"Type\""
      ]
    },
    {
      "cell_type": "markdown",
      "id": "Xf5qCqk4zRP3",
      "metadata": {
        "id": "Xf5qCqk4zRP3"
      },
      "source": [
        "So top 5 feature for model training are:\n",
        "\n",
        "1.   Air temperature [K]\n",
        "2.   Process temperature [K]\n",
        "3.   Rotational speed [rpm]\n",
        "4.   Torque [Nm]\n",
        "5.   Tool wear [min]\n",
        "\n",
        "Let us update the X"
      ]
    },
    {
      "cell_type": "code",
      "execution_count": 73,
      "id": "SJwOaOg1zuWp",
      "metadata": {
        "id": "SJwOaOg1zuWp"
      },
      "outputs": [],
      "source": [
        "X = data_df[['Air temperature [K]', 'Process temperature [K]', 'Rotational speed [rpm]', 'Torque [Nm]', 'Tool wear [min]']]\n",
        "y = data_df['Failure Type']"
      ]
    },
    {
      "cell_type": "markdown",
      "id": "38031f24",
      "metadata": {
        "id": "38031f24"
      },
      "source": [
        "## 5.2 Report observations\n",
        "\n",
        "Write your observations from the results of each method. Clearly justify your choice of the method.\n",
        "\n",
        "Score 1 mark"
      ]
    },
    {
      "cell_type": "code",
      "execution_count": 74,
      "id": "85c7a3a8",
      "metadata": {
        "id": "85c7a3a8"
      },
      "outputs": [],
      "source": [
        "##---------Type the code below this line------------------##"
      ]
    },
    {
      "cell_type": "markdown",
      "id": "L6MxKSTdvd9Q",
      "metadata": {
        "id": "L6MxKSTdvd9Q"
      },
      "source": [
        "**Method 1: Mutual Information (Information Gain)**  <br>\n",
        "As we had most of the features as numeric and target variable as categorical we used Mutual Information (Information Gain). As information Gain helps us to measure independence between the features and the target variable and that is exactly what we need to select top 5 features.\n",
        "\n",
        "We found that 'Rotational speed [rpm]', 'Torque [Nm]' are the most significant features and 'Process temperature [K]' being the least significant features for target \"Failure Type\"."
      ]
    },
    {
      "cell_type": "markdown",
      "id": "IzJuaPkjxPAS",
      "metadata": {
        "id": "IzJuaPkjxPAS"
      },
      "source": [
        "**Method 2: chi-squared test** <br>\n",
        "For the categorical feature \"Type\",\n",
        " we selected chi-square test as both the feature and target variables\n",
        " are of categorical type and chi-square test allows us to see whether\n",
        " or not two categorical variables are related or not.\n",
        "Thus this helped in top 5 feature selection.\n",
        "\n",
        "We found that the feature \"Type\" and target \"Failure Type\" are independent. "
      ]
    },
    {
      "cell_type": "code",
      "execution_count": 74,
      "id": "w8A4du1PxOKd",
      "metadata": {
        "id": "w8A4du1PxOKd"
      },
      "outputs": [],
      "source": []
    },
    {
      "cell_type": "markdown",
      "id": "06f1173c",
      "metadata": {
        "id": "06f1173c"
      },
      "source": [
        "# 6. Implement Machine Learning Techniques\n",
        "\n",
        "Use any 2 ML algorithms\n",
        "1. Classification -- Decision Tree classifier \n",
        "\n",
        "2. Clustering -- kmeans\n",
        "\n",
        "3. Association Analysis\n",
        "\n",
        "4. Anomaly detection\n",
        "\n",
        "5. Textual data -- Naive Bayes classifier (not taught in this course)\n",
        "\n",
        "A clear justification have to be given for why a certain algorithm was chosen to address your problem.\n",
        "\n",
        "Score: 4 Marks (2 marks each for each algorithm)"
      ]
    },
    {
      "cell_type": "markdown",
      "id": "040afed8",
      "metadata": {
        "id": "040afed8"
      },
      "source": [
        "## 6.1 ML technique 1 + Justification"
      ]
    },
    {
      "cell_type": "code",
      "execution_count": 75,
      "id": "7042235d",
      "metadata": {
        "id": "7042235d"
      },
      "outputs": [],
      "source": [
        "##---------Type the code below this line------------------##\n"
      ]
    },
    {
      "cell_type": "markdown",
      "id": "yv0N-Exr3UOe",
      "metadata": {
        "id": "yv0N-Exr3UOe"
      },
      "source": [
        "ML techniques we want to use is **Classification**. As we want to build a model that can take in the various features (like the Temperature, pressure, rotation speed etc) and predict what type of failure might occur."
      ]
    },
    {
      "cell_type": "markdown",
      "id": "ZRKf-IXqm0yM",
      "metadata": {
        "id": "ZRKf-IXqm0yM"
      },
      "source": [
        "1st Classification technique is **Decision Tree with criterion='gini'**. <br>\n",
        " The gini index uses probability to minimise misclassification."
      ]
    },
    {
      "cell_type": "markdown",
      "id": "OEka6TvW37xz",
      "metadata": {
        "id": "OEka6TvW37xz"
      },
      "source": [
        "**Sampling Data and Test Train Split**\n",
        "\n",
        "As the data has a higher number of records for Failure Type \"No Failure\", we need to perform sampling of data in order to remove bias from the data."
      ]
    },
    {
      "cell_type": "code",
      "execution_count": 76,
      "id": "EWzXksD18Ewe",
      "metadata": {
        "id": "EWzXksD18Ewe"
      },
      "outputs": [],
      "source": [
        "X_train, X_test, y_train, y_test = train_test_split(X, y, test_size =0.1, stratify=y)"
      ]
    },
    {
      "cell_type": "code",
      "execution_count": 77,
      "id": "QxjrFEnAHJgT",
      "metadata": {
        "colab": {
          "base_uri": "https://localhost:8080/"
        },
        "id": "QxjrFEnAHJgT",
        "outputId": "78636bab-2c38-4d55-9217-15e802a3a954"
      },
      "outputs": [
        {
          "data": {
            "text/plain": [
              "1    8678\n",
              "0     101\n",
              "3      85\n",
              "2      70\n",
              "5      41\n",
              "4      16\n",
              "Name: Failure Type, dtype: int64"
            ]
          },
          "execution_count": 77,
          "metadata": {},
          "output_type": "execute_result"
        }
      ],
      "source": [
        "y_train.value_counts()"
      ]
    },
    {
      "cell_type": "markdown",
      "id": "r8Yd5Y1lM-Gd",
      "metadata": {
        "id": "r8Yd5Y1lM-Gd"
      },
      "source": [
        "**Feature Scaling**"
      ]
    },
    {
      "cell_type": "code",
      "execution_count": 78,
      "id": "v1ap5yvuNBjK",
      "metadata": {
        "id": "v1ap5yvuNBjK"
      },
      "outputs": [],
      "source": [
        "scaler = StandardScaler()\n",
        "\n",
        "X_train   = scaler.fit_transform(X_train)     \n",
        "X_test    = scaler.fit_transform(X_test)  "
      ]
    },
    {
      "cell_type": "markdown",
      "id": "XuOSQIuX4G8x",
      "metadata": {
        "id": "XuOSQIuX4G8x"
      },
      "source": [
        "**Model Training**"
      ]
    },
    {
      "cell_type": "code",
      "execution_count": 79,
      "id": "XmSNxm8WNgli",
      "metadata": {
        "id": "XmSNxm8WNgli"
      },
      "outputs": [],
      "source": [
        "start_time_dt = time.time()\n",
        "dt = DecisionTreeClassifier(criterion='gini')\n",
        "dt.fit(X_train, y_train)\n",
        "y_pred_dt = dt.predict(X_test)\n",
        "end_time_dt = time.time()"
      ]
    },
    {
      "cell_type": "markdown",
      "id": "lnwJ4hlF4IyY",
      "metadata": {
        "id": "lnwJ4hlF4IyY"
      },
      "source": [
        "**Model evaluation**\n",
        "\n",
        "As we are trying to predict failure, we want to reduce false negatives.\n",
        "So the most important metrics for evaluation are Sensitivity or Recall.\n"
      ]
    },
    {
      "cell_type": "code",
      "execution_count": 80,
      "id": "HPoo8XMW0lPD",
      "metadata": {
        "id": "HPoo8XMW0lPD"
      },
      "outputs": [],
      "source": [
        "accuracy_dt = accuracy_score(y_test, y_pred_dt)\n",
        "precision_dt, recall_dt, f1_score_dt, support_dt = precision_recall_fscore_support(y_test, y_pred_dt, average='macro')"
      ]
    },
    {
      "cell_type": "code",
      "execution_count": 81,
      "id": "EFl7MBD0OHL2",
      "metadata": {
        "colab": {
          "base_uri": "https://localhost:8080/"
        },
        "id": "EFl7MBD0OHL2",
        "outputId": "97f8edd0-ee4e-4685-a82b-4e767b5752df"
      },
      "outputs": [
        {
          "name": "stdout",
          "output_type": "stream",
          "text": [
            "Decision Tree with criterion gini\n",
            "Accuracy: 0.976\n",
            "Model Training Time: 0.06754589080810547\n",
            "\n",
            "Classification Report:\n",
            "              precision    recall  f1-score   support\n",
            "\n",
            "           0       1.00      0.82      0.90        11\n",
            "           1       0.99      0.99      0.99       965\n",
            "           2       0.56      0.62      0.59         8\n",
            "           3       0.64      0.90      0.75        10\n",
            "           4       0.00      0.00      0.00         2\n",
            "           5       0.00      0.00      0.00         4\n",
            "\n",
            "    accuracy                           0.98      1000\n",
            "   macro avg       0.53      0.56      0.54      1000\n",
            "weighted avg       0.98      0.98      0.98      1000\n",
            "\n"
          ]
        }
      ],
      "source": [
        "print('Decision Tree with criterion gini')\n",
        "print('Accuracy:', accuracy_dt)\n",
        "print('Model Training Time:', end_time_dt - start_time_dt)\n",
        "print('\\nClassification Report:')\n",
        "print(classification_report(y_test, y_pred_dt))"
      ]
    },
    {
      "cell_type": "code",
      "execution_count": 82,
      "id": "Jo4s3-l9QLzM",
      "metadata": {
        "colab": {
          "base_uri": "https://localhost:8080/"
        },
        "id": "Jo4s3-l9QLzM",
        "outputId": "864a1972-5e69-44c9-e2fa-adc0dbcc7fbc"
      },
      "outputs": [
        {
          "data": {
            "text/plain": [
              "array([  9,   2,   0,   0,   0,   0,   0, 953,   4,   4,   1,   3,   0,\n",
              "         1,   5,   1,   0,   1,   0,   1,   0,   9,   0,   0,   0,   2,\n",
              "         0,   0,   0,   0,   0,   4,   0,   0,   0,   0])"
            ]
          },
          "execution_count": 82,
          "metadata": {},
          "output_type": "execute_result"
        }
      ],
      "source": [
        "confusion_dt = confusion_matrix(y_test, y_pred_dt)\n",
        "confusion_dt.ravel() "
      ]
    },
    {
      "cell_type": "markdown",
      "id": "f610ca8c",
      "metadata": {
        "id": "f610ca8c"
      },
      "source": [
        "## 6.2 ML technique 2 + Justification"
      ]
    },
    {
      "cell_type": "code",
      "execution_count": 83,
      "id": "9b75e079",
      "metadata": {
        "id": "9b75e079"
      },
      "outputs": [],
      "source": [
        "##---------Type the code below this line------------------##"
      ]
    },
    {
      "cell_type": "markdown",
      "id": "NdpGxAkkxZSq",
      "metadata": {
        "id": "NdpGxAkkxZSq"
      },
      "source": [
        "Second technique we can use to solve the multi-class classification problem is **KNN**. <br>\n",
        " KNN algorithm plots the data and finds \n",
        "the K nearest neighbors using distance measuring algorithm and based on its neighbours category it decide which category it belongs to.\n",
        "This makes KNN is a very good technique for multi class classification. \n"
      ]
    },
    {
      "cell_type": "markdown",
      "id": "Xtfy7spszGko",
      "metadata": {
        "id": "Xtfy7spszGko"
      },
      "source": [
        "As we have already performed Test Train Split, Feature scaling in the above section, we can directly train the model."
      ]
    },
    {
      "cell_type": "code",
      "execution_count": 84,
      "id": "_i1RN-OFxOwS",
      "metadata": {
        "id": "_i1RN-OFxOwS"
      },
      "outputs": [],
      "source": [
        "start_time_knn = time.time()\n",
        "knn_clf = KNeighborsClassifier()\n",
        "knn_clf.fit(X_train,y_train)\n",
        "y_pred_knn = knn_clf.predict(X_test)\n",
        "end_time_knn = time.time()"
      ]
    },
    {
      "cell_type": "code",
      "execution_count": 85,
      "id": "4pi3faCTzuZ1",
      "metadata": {
        "id": "4pi3faCTzuZ1"
      },
      "outputs": [],
      "source": [
        "accuracy_knn = accuracy_score(y_test, y_pred_knn)\n",
        "precision_knn, recall_knn, f1_score_knn, support_knn = precision_recall_fscore_support(y_test, y_pred_knn, average='macro')"
      ]
    },
    {
      "cell_type": "code",
      "execution_count": 86,
      "id": "w7OveUZW0KnP",
      "metadata": {
        "colab": {
          "base_uri": "https://localhost:8080/"
        },
        "id": "w7OveUZW0KnP",
        "outputId": "5376fc90-2117-4423-f8fc-5930ba05108f"
      },
      "outputs": [
        {
          "name": "stdout",
          "output_type": "stream",
          "text": [
            "KNN\n",
            "Accuracy: 0.976\n",
            "Model Training Time: 0.209089994430542\n",
            "\n",
            "Classification Report:\n",
            "              precision    recall  f1-score   support\n",
            "\n",
            "           0       1.00      0.18      0.31        11\n",
            "           1       0.98      1.00      0.99       965\n",
            "           2       0.57      0.50      0.53         8\n",
            "           3       1.00      0.70      0.82        10\n",
            "           4       0.00      0.00      0.00         2\n",
            "           5       0.00      0.00      0.00         4\n",
            "\n",
            "    accuracy                           0.98      1000\n",
            "   macro avg       0.59      0.40      0.44      1000\n",
            "weighted avg       0.97      0.98      0.97      1000\n",
            "\n"
          ]
        }
      ],
      "source": [
        "print('KNN')\n",
        "print('Accuracy:', accuracy_knn)\n",
        "print('Model Training Time:', end_time_knn - start_time_knn)\n",
        "print('\\nClassification Report:')\n",
        "print(classification_report(y_test, y_pred_knn))"
      ]
    },
    {
      "cell_type": "code",
      "execution_count": 87,
      "id": "5jziYDF11uWT",
      "metadata": {
        "colab": {
          "base_uri": "https://localhost:8080/"
        },
        "id": "5jziYDF11uWT",
        "outputId": "05839610-8eed-45e4-9650-d095a3e028d3"
      },
      "outputs": [
        {
          "data": {
            "text/plain": [
              "array([  2,   9,   0,   0,   0,   0,   0, 963,   2,   0,   0,   0,   0,\n",
              "         4,   4,   0,   0,   0,   0,   2,   1,   7,   0,   0,   0,   2,\n",
              "         0,   0,   0,   0,   0,   4,   0,   0,   0,   0])"
            ]
          },
          "execution_count": 87,
          "metadata": {},
          "output_type": "execute_result"
        }
      ],
      "source": [
        "confusion_knn = confusion_matrix(y_test, y_pred_knn)\n",
        "confusion_knn.ravel() "
      ]
    },
    {
      "cell_type": "markdown",
      "id": "eb57940c",
      "metadata": {
        "id": "eb57940c"
      },
      "source": [
        "## 7. Conclusion \n",
        "\n",
        "Compare the performance of the ML techniques used.\n",
        "\n",
        "Derive values for preformance study metrics like accuracy, precision, recall, F1 Score, AUC-ROC etc to compare the ML algos and plot them. A proper comparision based on different metrics should be done and not just accuracy alone, only then the comparision becomes authentic. You may use Confusion matrix, classification report, Word cloud etc as per the requirement of your application/problem.\n",
        "\n",
        "Score 1 Mark"
      ]
    },
    {
      "cell_type": "code",
      "execution_count": 88,
      "id": "9bf06eb1",
      "metadata": {
        "id": "9bf06eb1"
      },
      "outputs": [],
      "source": [
        "##---------Type the code below this line------------------##"
      ]
    },
    {
      "cell_type": "code",
      "execution_count": 89,
      "id": "EMVQLSnOspsO",
      "metadata": {
        "colab": {
          "base_uri": "https://localhost:8080/"
        },
        "id": "EMVQLSnOspsO",
        "outputId": "6ce0a4b8-e8ca-432d-b3c1-aa5cba51a275"
      },
      "outputs": [
        {
          "name": "stdout",
          "output_type": "stream",
          "text": [
            "                           Model  Accuracy  Precision    Recall  \\\n",
            "0  Decision Tree with Gini Index     0.976   0.531338  0.555124   \n",
            "1                            KNN     0.976   0.591681  0.396624   \n",
            "\n",
            "   Training Time (s)  F1 Scores  \n",
            "0           0.067546   0.537804  \n",
            "1           0.209090   0.442126  \n"
          ]
        }
      ],
      "source": [
        "models = ['Decision Tree with Gini Index', 'KNN']\n",
        "accuracies = [accuracy_dt, accuracy_knn]\n",
        "precisions = [precision_dt, precision_knn]\n",
        "recalls = [recall_dt, recall_knn]\n",
        "f1_scores = [f1_score_dt, f1_score_knn]\n",
        "\n",
        "training_times = [end_time_dt - start_time_dt, end_time_knn - start_time_knn]\n",
        "\n",
        "performance_df = pd.DataFrame({\n",
        "'Model': models,\n",
        "'Accuracy': accuracies,\n",
        "'Precision': precisions,\n",
        "'Recall': recalls,\n",
        "'Training Time (s)': training_times,\n",
        "'F1 Scores': f1_scores\n",
        "})\n",
        "\n",
        "print(performance_df)"
      ]
    },
    {
      "cell_type": "code",
      "execution_count": 90,
      "id": "2PieIyBivkyJ",
      "metadata": {
        "colab": {
          "base_uri": "https://localhost:8080/",
          "height": 295
        },
        "id": "2PieIyBivkyJ",
        "outputId": "9348865e-0e51-4360-ad6e-761b0612fcd7"
      },
      "outputs": [
        {
          "data": {
            "image/png": "[encoded data removed]",
            "text/plain": [
              "<Figure size 432x288 with 2 Axes>"
            ]
          },
          "metadata": {
            "needs_background": "light"
          },
          "output_type": "display_data"
        }
      ],
      "source": [
        "disp = ConfusionMatrixDisplay(confusion_matrix=confusion_dt, display_labels=dt.classes_)\n",
        "disp.plot()\n",
        "plt.title(\"Decision Tree Confusion Matrix\")\n",
        "plt.show()\n"
      ]
    },
    {
      "cell_type": "code",
      "execution_count": 91,
      "id": "DDjojIL9v4Vk",
      "metadata": {
        "colab": {
          "base_uri": "https://localhost:8080/",
          "height": 295
        },
        "id": "DDjojIL9v4Vk",
        "outputId": "0f564944-052c-4010-93cb-899149e2e3c5"
      },
      "outputs": [
        {
          "data": {
            "image/png": "[encoded data removed]",
            "text/plain": [
              "<Figure size 432x288 with 2 Axes>"
            ]
          },
          "metadata": {
            "needs_background": "light"
          },
          "output_type": "display_data"
        }
      ],
      "source": [
        "disp = ConfusionMatrixDisplay(confusion_matrix=confusion_knn, display_labels=dt.classes_)\n",
        "disp.plot()\n",
        "plt.title(\"KNN Confusion Matrix\")\n",
        "plt.show()"
      ]
    },
    {
      "cell_type": "markdown",
      "id": "79ed0137",
      "metadata": {
        "id": "79ed0137"
      },
      "source": [
        "## 8. Solution\n",
        "\n",
        "What is the solution that is proposed to solve the business problem discussed in Section 1. Also share your learnings while working through solving the problem in terms of challenges, observations, decisions made etc.\n",
        "\n",
        "Score 2 Marks"
      ]
    },
    {
      "cell_type": "markdown",
      "id": "324448eb",
      "metadata": {
        "id": "324448eb"
      },
      "source": [
        "--------------Type the answers below this line--------------"
      ]
    },
    {
      "cell_type": "markdown",
      "id": "6W5-W3yU2Su7",
      "metadata": {
        "id": "6W5-W3yU2Su7"
      },
      "source": [
        "As the manufacturing current maintenance strategy is reactive, which means they only perform maintenance after a piece of equipment has failed.  <br>\n",
        "We built a solution which can forecast the failure thus helping businesses  to act proactively. This solution can be extended  to forecast the failure well in advance so that the failure can be avoided thus reducing cost of maintainace, reducing downtime and increasing machine efficiency."
      ]
    },
    {
      "cell_type": "markdown",
      "id": "FpQwIv6e3uVe",
      "metadata": {
        "id": "FpQwIv6e3uVe"
      },
      "source": [
        "\n",
        "**Learnings**  <br>\n",
        "\n",
        "We had several lessons learnt while solving the problem. Some of them are as stated below.\n",
        "\n",
        "1. Data collected and understanding is very critical along with the business understanding.\n",
        "2. Analysis and preprocessing of data is very crucial, as with inconsistent data ML models will not not perform well. \n",
        "3. There are several techniques to solve a particular step (i.e removing or imputing the missing values, but we need to analyse the data and take a decision on what action should be performed, there is no single go to formula for this)\n",
        "\n"
      ]
    },
    {
      "cell_type": "markdown",
      "id": "RcDDQlfbZQ7E",
      "metadata": {
        "id": "RcDDQlfbZQ7E"
      },
      "source": [
        "##NOTE\n",
        "All Late Submissions will incur a penalty of -2 marks. Do ensure on time submission to avoid penalty.\n",
        "\n",
        "Good Luck!!!"
      ]
    }
  ],
  "metadata": {
    "colab": {
      "provenance": []
    },
    "kernelspec": {
      "display_name": "Python 3",
      "language": "python",
      "name": "python3"
    },
    "language_info": {
      "codemirror_mode": {
        "name": "ipython",
        "version": 3
      },
      "file_extension": ".py",
      "mimetype": "text/x-python",
      "name": "python",
      "nbconvert_exporter": "python",
      "pygments_lexer": "ipython3",
      "version": "3.8.3"
    }
  },
  "nbformat": 4,
  "nbformat_minor": 5
}
